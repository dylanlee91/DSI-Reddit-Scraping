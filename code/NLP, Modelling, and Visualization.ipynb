{
 "cells": [
  {
   "cell_type": "markdown",
   "metadata": {},
   "source": [
    "# Webscraping r/Swimming and r/running"
   ]
  },
  {
   "cell_type": "markdown",
   "metadata": {},
   "source": [
    "### Introduction\n",
    "* This is a proof of concept exercise that uses natural language processing to identify posts that are made on two reddit subreddits, r/running and r/Swimming. "
   ]
  },
  {
   "cell_type": "markdown",
   "metadata": {},
   "source": [
    "### Problem Statement\n",
    "* Being able to identify the fitness interests of internet users can enable the construction of recommendation engines that send the users targeted ads or links.\n",
    "* How might we identify what kind of physical activities are being discussed?\n",
    "* We are looking to construct a model can suitably identify contextual words used alongside a discussion on either activity, without looking for word stems of either activity, such as run, ran, running, runner, swim, swam, swimming, swimmer\n",
    "* If a suitable model and methodology is found, this can be extended to other activities such as biking or weightlifting to develop a more comprehensive recommendation system."
   ]
  },
  {
   "cell_type": "markdown",
   "metadata": {},
   "source": [
    "### Executive Summary\n",
    "* 1000 posts from the two subreddits were webscraped\n",
    "* The posts were filtered for duplicates and media posts\n",
    "* A random sample of 750 text posts were taken from each subreddit\n",
    "* The self text content of there posts were filtered for stop words as well as words clearly identifying the activity, before being stemmed\n",
    "* The posts were split into training and testing sets\n",
    "* Various models were tested to see which were the most successful at classifying test posts into their respective subreddits\n",
    "* The misclassified posts were investigated"
   ]
  },
  {
   "cell_type": "markdown",
   "metadata": {},
   "source": [
    "***\n",
    "# Module and Data Importing"
   ]
  },
  {
   "cell_type": "code",
   "execution_count": 1,
   "metadata": {},
   "outputs": [],
   "source": [
    "import pandas as pd\n",
    "import numpy as np\n",
    "import matplotlib.pyplot as plt\n",
    "import seaborn as sns\n",
    "from time import time\n",
    "\n",
    "from PIL import Image\n",
    "from wordcloud import WordCloud\n",
    "\n",
    "from bs4 import BeautifulSoup\n",
    "import re\n",
    "from nltk.corpus import stopwords\n",
    "from nltk.stem import WordNetLemmatizer\n",
    "from nltk.stem.porter import PorterStemmer\n",
    "from nltk.tokenize import RegexpTokenizer\n",
    "\n",
    "from sklearn.model_selection import train_test_split, GridSearchCV\n",
    "from sklearn.feature_extraction.text import CountVectorizer, TfidfVectorizer, HashingVectorizer\n",
    "from sklearn.linear_model import LogisticRegression\n",
    "from sklearn.pipeline import Pipeline\n",
    "from sklearn.naive_bayes import MultinomialNB\n",
    "from sklearn.metrics import confusion_matrix, roc_auc_score, plot_roc_curve, plot_confusion_matrix\n",
    "from sklearn.neighbors import KNeighborsClassifier\n",
    "from sklearn.tree import DecisionTreeClassifier\n",
    "from sklearn.ensemble import BaggingClassifier, AdaBoostClassifier, GradientBoostingClassifier"
   ]
  },
  {
   "cell_type": "code",
   "execution_count": 2,
   "metadata": {},
   "outputs": [],
   "source": [
    "df_swim = pd.read_csv('../datasets/swimming.csv')\n",
    "df_run = pd.read_csv('../datasets/running.csv')"
   ]
  },
  {
   "cell_type": "code",
   "execution_count": 3,
   "metadata": {
    "scrolled": true
   },
   "outputs": [
    {
     "name": "stdout",
     "output_type": "stream",
     "text": [
      "<class 'pandas.core.frame.DataFrame'>\n",
      "RangeIndex: 997 entries, 0 to 996\n",
      "Columns: 114 entries, approved_at_utc to poll_data\n",
      "dtypes: bool(26), float64(27), int64(10), object(51)\n",
      "memory usage: 710.9+ KB\n"
     ]
    }
   ],
   "source": [
    "df_swim.info()"
   ]
  },
  {
   "cell_type": "code",
   "execution_count": 4,
   "metadata": {
    "scrolled": true
   },
   "outputs": [
    {
     "name": "stdout",
     "output_type": "stream",
     "text": [
      "<class 'pandas.core.frame.DataFrame'>\n",
      "RangeIndex: 991 entries, 0 to 990\n",
      "Columns: 104 entries, approved_at_utc to author_cakeday\n",
      "dtypes: bool(26), float64(27), int64(10), object(41)\n",
      "memory usage: 629.2+ KB\n"
     ]
    }
   ],
   "source": [
    "df_run.info()"
   ]
  },
  {
   "cell_type": "markdown",
   "metadata": {},
   "source": [
    "***\n",
    "# Data Cleaning and Initial Inspection"
   ]
  },
  {
   "cell_type": "code",
   "execution_count": 5,
   "metadata": {},
   "outputs": [],
   "source": [
    "def clean(df, mask, df2=None,):\n",
    "    # If there was a second scraped dataset, add it in\n",
    "    if df2 != None:\n",
    "        df = pd.concat([df,df2], ignore_index=True)\n",
    "    else:\n",
    "        pass\n",
    "    # Checks and drops duplicated rows from scraping \n",
    "    print(len(df[df.url.duplicated()].index),'duplicate rows were removed.')\n",
    "    df.drop(df[df.url.duplicated()].index,inplace=True)\n",
    "    \n",
    "    # Checks and drops rows where the post was not a text post\n",
    "    print(len(df[df.selftext.isnull()].index),'posts were not text posts, and were removed.')\n",
    "    df.drop(df[df.selftext.isnull()].index,inplace=True)\n",
    "    \n",
    "    # Converts the time created column into a readable format\n",
    "    df['created_utc'] = pd.to_datetime(df['created_utc'], unit='s')\n",
    "    \n",
    "    # Isolates the hour of the created post in a seperate dataframe\n",
    "    df['created_hour'] = np.NaN\n",
    "    for i in df.index:\n",
    "        df.loc[[i],['created_hour']] = df['created_utc'][i].hour\n",
    "    \n",
    "    # Finally, reset the index\n",
    "    df = df.reset_index(drop=True)\n",
    "    # Applies the mask of useful columns and returns it\n",
    "    return df[mask]"
   ]
  },
  {
   "cell_type": "code",
   "execution_count": 6,
   "metadata": {},
   "outputs": [],
   "source": [
    "target=['subreddit','title','selftext','score','created_utc','created_hour','gilded']"
   ]
  },
  {
   "cell_type": "code",
   "execution_count": 7,
   "metadata": {
    "scrolled": true
   },
   "outputs": [
    {
     "name": "stdout",
     "output_type": "stream",
     "text": [
      "77 duplicate rows were removed.\n",
      "134 posts were not text posts, and were removed.\n"
     ]
    },
    {
     "data": {
      "text/html": [
       "<div>\n",
       "<style scoped>\n",
       "    .dataframe tbody tr th:only-of-type {\n",
       "        vertical-align: middle;\n",
       "    }\n",
       "\n",
       "    .dataframe tbody tr th {\n",
       "        vertical-align: top;\n",
       "    }\n",
       "\n",
       "    .dataframe thead th {\n",
       "        text-align: right;\n",
       "    }\n",
       "</style>\n",
       "<table border=\"1\" class=\"dataframe\">\n",
       "  <thead>\n",
       "    <tr style=\"text-align: right;\">\n",
       "      <th></th>\n",
       "      <th>subreddit</th>\n",
       "      <th>title</th>\n",
       "      <th>selftext</th>\n",
       "      <th>score</th>\n",
       "      <th>created_utc</th>\n",
       "      <th>created_hour</th>\n",
       "      <th>gilded</th>\n",
       "    </tr>\n",
       "  </thead>\n",
       "  <tbody>\n",
       "    <tr>\n",
       "      <th>0</th>\n",
       "      <td>Swimming</td>\n",
       "      <td>Don't do Underwaters Alone</td>\n",
       "      <td>I'm a paramedic.\\n\\nLast night, on duty, we we...</td>\n",
       "      <td>1642</td>\n",
       "      <td>2019-03-16 15:11:14</td>\n",
       "      <td>15.0</td>\n",
       "      <td>0</td>\n",
       "    </tr>\n",
       "    <tr>\n",
       "      <th>1</th>\n",
       "      <td>Swimming</td>\n",
       "      <td>With so many taking to open water due to lockd...</td>\n",
       "      <td>Suggesting such question as:\\n\\n* How do I get...</td>\n",
       "      <td>78</td>\n",
       "      <td>2020-06-17 07:39:47</td>\n",
       "      <td>7.0</td>\n",
       "      <td>0</td>\n",
       "    </tr>\n",
       "    <tr>\n",
       "      <th>2</th>\n",
       "      <td>Swimming</td>\n",
       "      <td>At the age of 53, I finished my first open wat...</td>\n",
       "      <td>I love swimming and the entry to the race, the...</td>\n",
       "      <td>212</td>\n",
       "      <td>2020-09-08 20:29:41</td>\n",
       "      <td>20.0</td>\n",
       "      <td>0</td>\n",
       "    </tr>\n",
       "    <tr>\n",
       "      <th>3</th>\n",
       "      <td>Swimming</td>\n",
       "      <td>Nervous joining the swim team</td>\n",
       "      <td>Recently I had signed up for my schools swim t...</td>\n",
       "      <td>90</td>\n",
       "      <td>2020-09-08 18:10:02</td>\n",
       "      <td>18.0</td>\n",
       "      <td>0</td>\n",
       "    </tr>\n",
       "    <tr>\n",
       "      <th>4</th>\n",
       "      <td>Swimming</td>\n",
       "      <td>What is the best way to care for your swimming...</td>\n",
       "      <td>How do you wash them? How do you keep them fro...</td>\n",
       "      <td>1</td>\n",
       "      <td>2020-09-09 12:45:46</td>\n",
       "      <td>12.0</td>\n",
       "      <td>0</td>\n",
       "    </tr>\n",
       "    <tr>\n",
       "      <th>...</th>\n",
       "      <td>...</td>\n",
       "      <td>...</td>\n",
       "      <td>...</td>\n",
       "      <td>...</td>\n",
       "      <td>...</td>\n",
       "      <td>...</td>\n",
       "      <td>...</td>\n",
       "    </tr>\n",
       "    <tr>\n",
       "      <th>781</th>\n",
       "      <td>Swimming</td>\n",
       "      <td>Ugh Swimmer’s Ear</td>\n",
       "      <td>I have swimmer’s ear and I got antibiotic ear ...</td>\n",
       "      <td>0</td>\n",
       "      <td>2020-06-25 18:47:28</td>\n",
       "      <td>18.0</td>\n",
       "      <td>0</td>\n",
       "    </tr>\n",
       "    <tr>\n",
       "      <th>782</th>\n",
       "      <td>Swimming</td>\n",
       "      <td>L.F. distance swimming sets</td>\n",
       "      <td>Hi guys, I'm currently looking to be a distanc...</td>\n",
       "      <td>0</td>\n",
       "      <td>2020-06-25 17:48:40</td>\n",
       "      <td>17.0</td>\n",
       "      <td>0</td>\n",
       "    </tr>\n",
       "    <tr>\n",
       "      <th>783</th>\n",
       "      <td>Swimming</td>\n",
       "      <td>How can you manage to stay calm while swimming?</td>\n",
       "      <td>Whenever I'm swimming, usually after a few poo...</td>\n",
       "      <td>90</td>\n",
       "      <td>2020-06-24 16:31:32</td>\n",
       "      <td>16.0</td>\n",
       "      <td>0</td>\n",
       "    </tr>\n",
       "    <tr>\n",
       "      <th>784</th>\n",
       "      <td>Swimming</td>\n",
       "      <td>Is it Possible to Learn Proper Technique on My...</td>\n",
       "      <td>Hello! I have watched a lot of videos on corre...</td>\n",
       "      <td>1</td>\n",
       "      <td>2020-06-25 15:24:31</td>\n",
       "      <td>15.0</td>\n",
       "      <td>0</td>\n",
       "    </tr>\n",
       "    <tr>\n",
       "      <th>785</th>\n",
       "      <td>Swimming</td>\n",
       "      <td>How to convince parents in letting me join a c...</td>\n",
       "      <td>I’ve been swimming every since I was 3 years o...</td>\n",
       "      <td>2</td>\n",
       "      <td>2020-06-25 11:33:01</td>\n",
       "      <td>11.0</td>\n",
       "      <td>0</td>\n",
       "    </tr>\n",
       "  </tbody>\n",
       "</table>\n",
       "<p>786 rows × 7 columns</p>\n",
       "</div>"
      ],
      "text/plain": [
       "    subreddit                                              title  \\\n",
       "0    Swimming                         Don't do Underwaters Alone   \n",
       "1    Swimming  With so many taking to open water due to lockd...   \n",
       "2    Swimming  At the age of 53, I finished my first open wat...   \n",
       "3    Swimming                      Nervous joining the swim team   \n",
       "4    Swimming  What is the best way to care for your swimming...   \n",
       "..        ...                                                ...   \n",
       "781  Swimming                                  Ugh Swimmer’s Ear   \n",
       "782  Swimming                        L.F. distance swimming sets   \n",
       "783  Swimming    How can you manage to stay calm while swimming?   \n",
       "784  Swimming  Is it Possible to Learn Proper Technique on My...   \n",
       "785  Swimming  How to convince parents in letting me join a c...   \n",
       "\n",
       "                                              selftext  score  \\\n",
       "0    I'm a paramedic.\\n\\nLast night, on duty, we we...   1642   \n",
       "1    Suggesting such question as:\\n\\n* How do I get...     78   \n",
       "2    I love swimming and the entry to the race, the...    212   \n",
       "3    Recently I had signed up for my schools swim t...     90   \n",
       "4    How do you wash them? How do you keep them fro...      1   \n",
       "..                                                 ...    ...   \n",
       "781  I have swimmer’s ear and I got antibiotic ear ...      0   \n",
       "782  Hi guys, I'm currently looking to be a distanc...      0   \n",
       "783  Whenever I'm swimming, usually after a few poo...     90   \n",
       "784  Hello! I have watched a lot of videos on corre...      1   \n",
       "785  I’ve been swimming every since I was 3 years o...      2   \n",
       "\n",
       "            created_utc  created_hour  gilded  \n",
       "0   2019-03-16 15:11:14          15.0       0  \n",
       "1   2020-06-17 07:39:47           7.0       0  \n",
       "2   2020-09-08 20:29:41          20.0       0  \n",
       "3   2020-09-08 18:10:02          18.0       0  \n",
       "4   2020-09-09 12:45:46          12.0       0  \n",
       "..                  ...           ...     ...  \n",
       "781 2020-06-25 18:47:28          18.0       0  \n",
       "782 2020-06-25 17:48:40          17.0       0  \n",
       "783 2020-06-24 16:31:32          16.0       0  \n",
       "784 2020-06-25 15:24:31          15.0       0  \n",
       "785 2020-06-25 11:33:01          11.0       0  \n",
       "\n",
       "[786 rows x 7 columns]"
      ]
     },
     "execution_count": 7,
     "metadata": {},
     "output_type": "execute_result"
    }
   ],
   "source": [
    "df_swim=clean(df_swim, target)\n",
    "df_swim"
   ]
  },
  {
   "cell_type": "code",
   "execution_count": 8,
   "metadata": {
    "scrolled": true
   },
   "outputs": [
    {
     "name": "stdout",
     "output_type": "stream",
     "text": [
      "151 duplicate rows were removed.\n",
      "0 posts were not text posts, and were removed.\n"
     ]
    },
    {
     "data": {
      "text/html": [
       "<div>\n",
       "<style scoped>\n",
       "    .dataframe tbody tr th:only-of-type {\n",
       "        vertical-align: middle;\n",
       "    }\n",
       "\n",
       "    .dataframe tbody tr th {\n",
       "        vertical-align: top;\n",
       "    }\n",
       "\n",
       "    .dataframe thead th {\n",
       "        text-align: right;\n",
       "    }\n",
       "</style>\n",
       "<table border=\"1\" class=\"dataframe\">\n",
       "  <thead>\n",
       "    <tr style=\"text-align: right;\">\n",
       "      <th></th>\n",
       "      <th>subreddit</th>\n",
       "      <th>title</th>\n",
       "      <th>selftext</th>\n",
       "      <th>score</th>\n",
       "      <th>created_utc</th>\n",
       "      <th>created_hour</th>\n",
       "      <th>gilded</th>\n",
       "    </tr>\n",
       "  </thead>\n",
       "  <tbody>\n",
       "    <tr>\n",
       "      <th>0</th>\n",
       "      <td>running</td>\n",
       "      <td>Reminder on Rules and Existing Daily/Weekly Th...</td>\n",
       "      <td>**After our usual surge around New Years, we’v...</td>\n",
       "      <td>65</td>\n",
       "      <td>2020-06-29 13:59:46</td>\n",
       "      <td>13.0</td>\n",
       "      <td>0</td>\n",
       "    </tr>\n",
       "    <tr>\n",
       "      <th>1</th>\n",
       "      <td>running</td>\n",
       "      <td>Official Q&amp;amp;A for Wednesday, September 09, ...</td>\n",
       "      <td>\\nWith over 1,050,000 subscribers, there are a...</td>\n",
       "      <td>5</td>\n",
       "      <td>2020-09-09 00:11:47</td>\n",
       "      <td>0.0</td>\n",
       "      <td>0</td>\n",
       "    </tr>\n",
       "    <tr>\n",
       "      <th>2</th>\n",
       "      <td>running</td>\n",
       "      <td>My husband had a stroke while on his run, I wa...</td>\n",
       "      <td>He was 5.5mi into a 6mi run, almost home when ...</td>\n",
       "      <td>1608</td>\n",
       "      <td>2020-09-08 21:15:08</td>\n",
       "      <td>21.0</td>\n",
       "      <td>0</td>\n",
       "    </tr>\n",
       "    <tr>\n",
       "      <th>3</th>\n",
       "      <td>running</td>\n",
       "      <td>I ran my first 100 miler, and finished!</td>\n",
       "      <td>I'm not normally one to brag, but I feel like ...</td>\n",
       "      <td>1878</td>\n",
       "      <td>2020-09-08 15:36:53</td>\n",
       "      <td>15.0</td>\n",
       "      <td>0</td>\n",
       "    </tr>\n",
       "    <tr>\n",
       "      <th>4</th>\n",
       "      <td>running</td>\n",
       "      <td>Got my 5k under 25 minutes for the first time!</td>\n",
       "      <td>This time last year I (20F; 5’4”)was obese at ...</td>\n",
       "      <td>910</td>\n",
       "      <td>2020-09-08 17:57:37</td>\n",
       "      <td>17.0</td>\n",
       "      <td>1</td>\n",
       "    </tr>\n",
       "    <tr>\n",
       "      <th>...</th>\n",
       "      <td>...</td>\n",
       "      <td>...</td>\n",
       "      <td>...</td>\n",
       "      <td>...</td>\n",
       "      <td>...</td>\n",
       "      <td>...</td>\n",
       "      <td>...</td>\n",
       "    </tr>\n",
       "    <tr>\n",
       "      <th>835</th>\n",
       "      <td>running</td>\n",
       "      <td>Running Before/After 12 Hour Work Day</td>\n",
       "      <td>Does anyone have any advice on still running w...</td>\n",
       "      <td>3</td>\n",
       "      <td>2020-08-20 14:56:32</td>\n",
       "      <td>14.0</td>\n",
       "      <td>0</td>\n",
       "    </tr>\n",
       "    <tr>\n",
       "      <th>836</th>\n",
       "      <td>running</td>\n",
       "      <td>Should i wash neck gaiter everyday??</td>\n",
       "      <td>I run with a neck gaiter on. It gets wet. Shou...</td>\n",
       "      <td>0</td>\n",
       "      <td>2020-08-21 02:09:34</td>\n",
       "      <td>2.0</td>\n",
       "      <td>0</td>\n",
       "    </tr>\n",
       "    <tr>\n",
       "      <th>837</th>\n",
       "      <td>running</td>\n",
       "      <td>What do you consider a run streak?</td>\n",
       "      <td>As per the title.  I suggested to a person I k...</td>\n",
       "      <td>0</td>\n",
       "      <td>2020-08-21 09:39:35</td>\n",
       "      <td>9.0</td>\n",
       "      <td>0</td>\n",
       "    </tr>\n",
       "    <tr>\n",
       "      <th>838</th>\n",
       "      <td>running</td>\n",
       "      <td>Concerns of knee inhuries</td>\n",
       "      <td>I took up running back in april, and has been ...</td>\n",
       "      <td>1</td>\n",
       "      <td>2020-08-20 19:19:29</td>\n",
       "      <td>19.0</td>\n",
       "      <td>0</td>\n",
       "    </tr>\n",
       "    <tr>\n",
       "      <th>839</th>\n",
       "      <td>running</td>\n",
       "      <td>What are your thoughts on paying for virtual r...</td>\n",
       "      <td>My local half marathon has opened registration...</td>\n",
       "      <td>1</td>\n",
       "      <td>2020-09-09 08:50:05</td>\n",
       "      <td>8.0</td>\n",
       "      <td>0</td>\n",
       "    </tr>\n",
       "  </tbody>\n",
       "</table>\n",
       "<p>840 rows × 7 columns</p>\n",
       "</div>"
      ],
      "text/plain": [
       "    subreddit                                              title  \\\n",
       "0     running  Reminder on Rules and Existing Daily/Weekly Th...   \n",
       "1     running  Official Q&amp;A for Wednesday, September 09, ...   \n",
       "2     running  My husband had a stroke while on his run, I wa...   \n",
       "3     running            I ran my first 100 miler, and finished!   \n",
       "4     running     Got my 5k under 25 minutes for the first time!   \n",
       "..        ...                                                ...   \n",
       "835   running              Running Before/After 12 Hour Work Day   \n",
       "836   running               Should i wash neck gaiter everyday??   \n",
       "837   running                 What do you consider a run streak?   \n",
       "838   running                          Concerns of knee inhuries   \n",
       "839   running  What are your thoughts on paying for virtual r...   \n",
       "\n",
       "                                              selftext  score  \\\n",
       "0    **After our usual surge around New Years, we’v...     65   \n",
       "1    \\nWith over 1,050,000 subscribers, there are a...      5   \n",
       "2    He was 5.5mi into a 6mi run, almost home when ...   1608   \n",
       "3    I'm not normally one to brag, but I feel like ...   1878   \n",
       "4    This time last year I (20F; 5’4”)was obese at ...    910   \n",
       "..                                                 ...    ...   \n",
       "835  Does anyone have any advice on still running w...      3   \n",
       "836  I run with a neck gaiter on. It gets wet. Shou...      0   \n",
       "837  As per the title.  I suggested to a person I k...      0   \n",
       "838  I took up running back in april, and has been ...      1   \n",
       "839  My local half marathon has opened registration...      1   \n",
       "\n",
       "            created_utc  created_hour  gilded  \n",
       "0   2020-06-29 13:59:46          13.0       0  \n",
       "1   2020-09-09 00:11:47           0.0       0  \n",
       "2   2020-09-08 21:15:08          21.0       0  \n",
       "3   2020-09-08 15:36:53          15.0       0  \n",
       "4   2020-09-08 17:57:37          17.0       1  \n",
       "..                  ...           ...     ...  \n",
       "835 2020-08-20 14:56:32          14.0       0  \n",
       "836 2020-08-21 02:09:34           2.0       0  \n",
       "837 2020-08-21 09:39:35           9.0       0  \n",
       "838 2020-08-20 19:19:29          19.0       0  \n",
       "839 2020-09-09 08:50:05           8.0       0  \n",
       "\n",
       "[840 rows x 7 columns]"
      ]
     },
     "execution_count": 8,
     "metadata": {},
     "output_type": "execute_result"
    }
   ],
   "source": [
    "df_run=clean(df_run, target)\n",
    "df_run"
   ]
  },
  {
   "cell_type": "code",
   "execution_count": 9,
   "metadata": {},
   "outputs": [],
   "source": [
    "# Lowercases subreddit name of r/Swimming\n",
    "df_swim['subreddit']=df_swim['subreddit'].str.lower()"
   ]
  },
  {
   "cell_type": "code",
   "execution_count": 10,
   "metadata": {},
   "outputs": [],
   "source": [
    "def describe_combine(df1,df2):\n",
    "    # Take 750 random posts from the total number of posts \n",
    "    df1sam = df1.sample(n=750)\n",
    "    df2sam = df2.sample(n=750)\n",
    "    \n",
    "    # Create lengthcounters for both dataframes\n",
    "    df1sam['titlelen'] = df1sam['title'].str.count(' ').add(1)\n",
    "    df2sam['titlelen'] = df2sam['title'].str.count(' ').add(1)\n",
    "    df1sam['postlen'] = df1sam['selftext'].str.count(' ').add(1)\n",
    "    df2sam['postlen'] = df2sam['selftext'].str.count(' ').add(1)\n",
    "    print('A sample of 750 posts from two subreddits were taken.')\n",
    "    print('')\n",
    "    \n",
    "    # Average length of title of selfpost\n",
    "    print('Average title length of the',df1sam['subreddit'][0],'subreddit:',round(df1sam['titlelen'].mean(),2))\n",
    "    print('Average title length of the',df2sam['subreddit'][0],'subreddit:',round(df2sam['titlelen'].mean(),2))\n",
    "    print('')\n",
    "    \n",
    "    # Average length of selftext\n",
    "    print('Average post length of the',df1sam['subreddit'][0],'subreddit:',round(df1sam['postlen'].mean(),2))\n",
    "    print('Average post length of the',df2sam['subreddit'][0],'subreddit:',round(df2sam['postlen'].mean(),2))\n",
    "    print('')\n",
    "    \n",
    "    # Average score of posts\n",
    "    print('Average upvotes of the',df1sam['subreddit'][0],'subreddit:',round(df1sam['score'].mean(),2))\n",
    "    print('Average upvotes of the',df2sam['subreddit'][0],'subreddit:',round(df1sam['score'].mean(),2))\n",
    "    print('')\n",
    "    # Number of gildings in 750 \n",
    "    print('Number of gilded posts in the',df1sam['subreddit'][0],'subreddit sample:',df1sam['gilded'].sum())\n",
    "    print('Number of gilded posts in the',df2sam['subreddit'][0],'subreddit sample:',df2sam['gilded'].sum())\n",
    "    print('')\n",
    "    \n",
    "    combineddf=pd.concat([df1sam,df2sam])\n",
    "    combineddf.reset_index(drop=True,inplace=True)\n",
    "    return (combineddf)"
   ]
  },
  {
   "cell_type": "code",
   "execution_count": 13,
   "metadata": {},
   "outputs": [
    {
     "name": "stdout",
     "output_type": "stream",
     "text": [
      "A sample of 750 posts from two subreddits were taken.\n",
      "\n",
      "Average title length of the running subreddit: 8.7\n",
      "Average title length of the swimming subreddit: 7.49\n",
      "\n",
      "Average post length of the running subreddit: 161.3\n",
      "Average post length of the swimming subreddit: 103.71\n",
      "\n",
      "Average upvotes of the running subreddit: 76.54\n",
      "Average upvotes of the swimming subreddit: 76.54\n",
      "\n",
      "Number of gilded posts in the running subreddit sample: 2\n",
      "Number of gilded posts in the swimming subreddit sample: 0\n",
      "\n"
     ]
    }
   ],
   "source": [
    "df=describe_combine(df_run,df_swim)"
   ]
  },
  {
   "cell_type": "code",
   "execution_count": 14,
   "metadata": {
    "scrolled": true
   },
   "outputs": [
    {
     "data": {
      "text/html": [
       "<div>\n",
       "<style scoped>\n",
       "    .dataframe tbody tr th:only-of-type {\n",
       "        vertical-align: middle;\n",
       "    }\n",
       "\n",
       "    .dataframe tbody tr th {\n",
       "        vertical-align: top;\n",
       "    }\n",
       "\n",
       "    .dataframe thead th {\n",
       "        text-align: right;\n",
       "    }\n",
       "</style>\n",
       "<table border=\"1\" class=\"dataframe\">\n",
       "  <thead>\n",
       "    <tr style=\"text-align: right;\">\n",
       "      <th></th>\n",
       "      <th>subreddit</th>\n",
       "      <th>title</th>\n",
       "      <th>selftext</th>\n",
       "      <th>score</th>\n",
       "      <th>created_utc</th>\n",
       "      <th>created_hour</th>\n",
       "      <th>gilded</th>\n",
       "      <th>titlelen</th>\n",
       "      <th>postlen</th>\n",
       "    </tr>\n",
       "  </thead>\n",
       "  <tbody>\n",
       "    <tr>\n",
       "      <th>0</th>\n",
       "      <td>running</td>\n",
       "      <td>Transition from half-marathon training to mara...</td>\n",
       "      <td>For some background: I’ve done 3 half marathon...</td>\n",
       "      <td>1</td>\n",
       "      <td>2020-08-21 14:39:35</td>\n",
       "      <td>14.0</td>\n",
       "      <td>0</td>\n",
       "      <td>7</td>\n",
       "      <td>122</td>\n",
       "    </tr>\n",
       "    <tr>\n",
       "      <th>1</th>\n",
       "      <td>running</td>\n",
       "      <td>Sunscreen questions</td>\n",
       "      <td>Anyone have any recommendations for any long-l...</td>\n",
       "      <td>4</td>\n",
       "      <td>2020-08-24 21:20:39</td>\n",
       "      <td>21.0</td>\n",
       "      <td>0</td>\n",
       "      <td>2</td>\n",
       "      <td>46</td>\n",
       "    </tr>\n",
       "    <tr>\n",
       "      <th>2</th>\n",
       "      <td>running</td>\n",
       "      <td>1:40 half this morning, (13 minute PR!)</td>\n",
       "      <td>## Race information\\n\\n* **What?** Solo TT hal...</td>\n",
       "      <td>138</td>\n",
       "      <td>2020-08-24 05:44:06</td>\n",
       "      <td>5.0</td>\n",
       "      <td>0</td>\n",
       "      <td>7</td>\n",
       "      <td>1015</td>\n",
       "    </tr>\n",
       "    <tr>\n",
       "      <th>3</th>\n",
       "      <td>running</td>\n",
       "      <td>Soreness and fear of losing progress (18 m)</td>\n",
       "      <td>Hey everyone, hope you're all safe and healthy...</td>\n",
       "      <td>3</td>\n",
       "      <td>2020-08-22 16:19:33</td>\n",
       "      <td>16.0</td>\n",
       "      <td>0</td>\n",
       "      <td>8</td>\n",
       "      <td>286</td>\n",
       "    </tr>\n",
       "    <tr>\n",
       "      <th>4</th>\n",
       "      <td>running</td>\n",
       "      <td>Running and Cigarettes / E-Cigs</td>\n",
       "      <td>Obviously the two don't go hand in hand but I'...</td>\n",
       "      <td>0</td>\n",
       "      <td>2020-08-25 00:10:23</td>\n",
       "      <td>0.0</td>\n",
       "      <td>0</td>\n",
       "      <td>5</td>\n",
       "      <td>36</td>\n",
       "    </tr>\n",
       "    <tr>\n",
       "      <th>...</th>\n",
       "      <td>...</td>\n",
       "      <td>...</td>\n",
       "      <td>...</td>\n",
       "      <td>...</td>\n",
       "      <td>...</td>\n",
       "      <td>...</td>\n",
       "      <td>...</td>\n",
       "      <td>...</td>\n",
       "      <td>...</td>\n",
       "    </tr>\n",
       "    <tr>\n",
       "      <th>1495</th>\n",
       "      <td>swimming</td>\n",
       "      <td>Should I drink protein shakes?</td>\n",
       "      <td>I'm a competitive swimmer (age 15 male) and I'...</td>\n",
       "      <td>3</td>\n",
       "      <td>2020-08-03 17:32:29</td>\n",
       "      <td>17.0</td>\n",
       "      <td>0</td>\n",
       "      <td>5</td>\n",
       "      <td>74</td>\n",
       "    </tr>\n",
       "    <tr>\n",
       "      <th>1496</th>\n",
       "      <td>swimming</td>\n",
       "      <td>Breast/sprint free workout 7-30</td>\n",
       "      <td>Warm-up\\n6x50s on :50\\n\\nPre set:\\n2x\\n4x25s s...</td>\n",
       "      <td>3</td>\n",
       "      <td>2020-07-30 21:49:22</td>\n",
       "      <td>21.0</td>\n",
       "      <td>0</td>\n",
       "      <td>4</td>\n",
       "      <td>105</td>\n",
       "    </tr>\n",
       "    <tr>\n",
       "      <th>1497</th>\n",
       "      <td>swimming</td>\n",
       "      <td>How do you guys keep track of how many laps yo...</td>\n",
       "      <td>So I don't have an Apple Watch or Fitbit so wa...</td>\n",
       "      <td>80</td>\n",
       "      <td>2020-06-29 07:13:56</td>\n",
       "      <td>7.0</td>\n",
       "      <td>0</td>\n",
       "      <td>12</td>\n",
       "      <td>23</td>\n",
       "    </tr>\n",
       "    <tr>\n",
       "      <th>1498</th>\n",
       "      <td>swimming</td>\n",
       "      <td>How can I learn to swim by myself?</td>\n",
       "      <td>I’m 19 and I’m trying to learn how to swim, I ...</td>\n",
       "      <td>1</td>\n",
       "      <td>2020-06-29 23:22:57</td>\n",
       "      <td>23.0</td>\n",
       "      <td>0</td>\n",
       "      <td>8</td>\n",
       "      <td>137</td>\n",
       "    </tr>\n",
       "    <tr>\n",
       "      <th>1499</th>\n",
       "      <td>swimming</td>\n",
       "      <td>26 years old had my first lesson today</td>\n",
       "      <td>Overdue but I had my first swim lesson today. ...</td>\n",
       "      <td>94</td>\n",
       "      <td>2020-06-26 00:51:19</td>\n",
       "      <td>0.0</td>\n",
       "      <td>0</td>\n",
       "      <td>8</td>\n",
       "      <td>26</td>\n",
       "    </tr>\n",
       "  </tbody>\n",
       "</table>\n",
       "<p>1500 rows × 9 columns</p>\n",
       "</div>"
      ],
      "text/plain": [
       "     subreddit                                              title  \\\n",
       "0      running  Transition from half-marathon training to mara...   \n",
       "1      running                                Sunscreen questions   \n",
       "2      running            1:40 half this morning, (13 minute PR!)   \n",
       "3      running        Soreness and fear of losing progress (18 m)   \n",
       "4      running                    Running and Cigarettes / E-Cigs   \n",
       "...        ...                                                ...   \n",
       "1495  swimming                     Should I drink protein shakes?   \n",
       "1496  swimming                    Breast/sprint free workout 7-30   \n",
       "1497  swimming  How do you guys keep track of how many laps yo...   \n",
       "1498  swimming                 How can I learn to swim by myself?   \n",
       "1499  swimming             26 years old had my first lesson today   \n",
       "\n",
       "                                               selftext  score  \\\n",
       "0     For some background: I’ve done 3 half marathon...      1   \n",
       "1     Anyone have any recommendations for any long-l...      4   \n",
       "2     ## Race information\\n\\n* **What?** Solo TT hal...    138   \n",
       "3     Hey everyone, hope you're all safe and healthy...      3   \n",
       "4     Obviously the two don't go hand in hand but I'...      0   \n",
       "...                                                 ...    ...   \n",
       "1495  I'm a competitive swimmer (age 15 male) and I'...      3   \n",
       "1496  Warm-up\\n6x50s on :50\\n\\nPre set:\\n2x\\n4x25s s...      3   \n",
       "1497  So I don't have an Apple Watch or Fitbit so wa...     80   \n",
       "1498  I’m 19 and I’m trying to learn how to swim, I ...      1   \n",
       "1499  Overdue but I had my first swim lesson today. ...     94   \n",
       "\n",
       "             created_utc  created_hour  gilded  titlelen  postlen  \n",
       "0    2020-08-21 14:39:35          14.0       0         7      122  \n",
       "1    2020-08-24 21:20:39          21.0       0         2       46  \n",
       "2    2020-08-24 05:44:06           5.0       0         7     1015  \n",
       "3    2020-08-22 16:19:33          16.0       0         8      286  \n",
       "4    2020-08-25 00:10:23           0.0       0         5       36  \n",
       "...                  ...           ...     ...       ...      ...  \n",
       "1495 2020-08-03 17:32:29          17.0       0         5       74  \n",
       "1496 2020-07-30 21:49:22          21.0       0         4      105  \n",
       "1497 2020-06-29 07:13:56           7.0       0        12       23  \n",
       "1498 2020-06-29 23:22:57          23.0       0         8      137  \n",
       "1499 2020-06-26 00:51:19           0.0       0         8       26  \n",
       "\n",
       "[1500 rows x 9 columns]"
      ]
     },
     "execution_count": 14,
     "metadata": {},
     "output_type": "execute_result"
    }
   ],
   "source": [
    "df"
   ]
  },
  {
   "cell_type": "markdown",
   "metadata": {},
   "source": [
    "***\n",
    "# Text Processing with BeautifulSoup"
   ]
  },
  {
   "cell_type": "code",
   "execution_count": 15,
   "metadata": {},
   "outputs": [],
   "source": [
    "X_train, X_test, y_train, y_test = train_test_split(df['selftext'],\n",
    "                                                    df['subreddit'],\n",
    "                                                    test_size = 0.2, \n",
    "                                                    random_state = 42,\n",
    "                                                    stratify = df['subreddit'])"
   ]
  },
  {
   "cell_type": "code",
   "execution_count": 16,
   "metadata": {
    "scrolled": true
   },
   "outputs": [
    {
     "data": {
      "text/plain": [
       "206     So there I was, going for my typical, non-stre...\n",
       "797     Monday: Volleyball, 2 hours, 1.5 hour calisthe...\n",
       "894     Recently I had signed up for my schools swim t...\n",
       "471     Overall, I try to eat balanced diet with one r...\n",
       "47      Sooo.. Where to begin. 5 almost 6 months ago I...\n",
       "                              ...                        \n",
       "520     \\nPost your training for this past week. Provi...\n",
       "764     So basically where I'm from there is a second ...\n",
       "961     I notice during my swim practices that there's...\n",
       "1022    Like almost everyone, ive not swam for 6 month...\n",
       "985     That’s it. I’m just so happy to be able to get...\n",
       "Name: selftext, Length: 300, dtype: object"
      ]
     },
     "execution_count": 16,
     "metadata": {},
     "output_type": "execute_result"
    }
   ],
   "source": [
    "X_test"
   ]
  },
  {
   "cell_type": "code",
   "execution_count": 17,
   "metadata": {},
   "outputs": [],
   "source": [
    "stop_words = stopwords.words('english')\n",
    "keywords = ['running','swimming','run','swim','ran','swam','http','www','swimmer','runner']\n",
    "\n",
    "def soupclean(text):\n",
    "    cleaned = []\n",
    "    p_stemmer = PorterStemmer()\n",
    "    for t in text:\n",
    "        # Using BeautifulSoup to remove HTLM features\n",
    "        textblock1 = BeautifulSoup(t).get_text()\n",
    "\n",
    "        # Removing numerical values\n",
    "        textblock2 = re.sub('[^a-zA-Z]',\" \",textblock1)\n",
    "\n",
    "        # Set the block to lower case\n",
    "        textblock3 = textblock2.lower()\n",
    "\n",
    "        # Splitting the text by strings\n",
    "        wordblock1 = textblock3.split()\n",
    "\n",
    "        # Remove stopwords from the wordblock\n",
    "        wordblock2 = [w for w in wordblock1 if w not in stop_words]\n",
    "\n",
    "        # Stemmping the text using Porter Stemmer\n",
    "        wordblock3 = [p_stemmer.stem(i) for i in wordblock2]\n",
    "\n",
    "        # Removing any additional keywords\n",
    "        wordblock4 = [w for w in wordblock3 if w not in keywords]\n",
    "\n",
    "        # Recreate the textblock\n",
    "        textblock5 = (\" \".join(wordblock4))\n",
    "        cleaned.append(textblock5)\n",
    "    \n",
    "    print(len(text),'posts were cleaned.')\n",
    "    return cleaned"
   ]
  },
  {
   "cell_type": "code",
   "execution_count": 18,
   "metadata": {
    "scrolled": true
   },
   "outputs": [
    {
     "name": "stdout",
     "output_type": "stream",
     "text": [
      "300 posts were cleaned.\n"
     ]
    }
   ],
   "source": [
    "X_test_text = soupclean(X_test)"
   ]
  },
  {
   "cell_type": "code",
   "execution_count": 23,
   "metadata": {
    "scrolled": true
   },
   "outputs": [
    {
     "data": {
      "text/plain": [
       "206     So there I was, going for my typical, non-stre...\n",
       "797     Monday: Volleyball, 2 hours, 1.5 hour calisthe...\n",
       "894     Recently I had signed up for my schools swim t...\n",
       "471     Overall, I try to eat balanced diet with one r...\n",
       "47      Sooo.. Where to begin. 5 almost 6 months ago I...\n",
       "                              ...                        \n",
       "520     \\nPost your training for this past week. Provi...\n",
       "764     So basically where I'm from there is a second ...\n",
       "961     I notice during my swim practices that there's...\n",
       "1022    Like almost everyone, ive not swam for 6 month...\n",
       "985     That’s it. I’m just so happy to be able to get...\n",
       "Name: selftext, Length: 300, dtype: object"
      ]
     },
     "execution_count": 23,
     "metadata": {},
     "output_type": "execute_result"
    }
   ],
   "source": [
    "X_test"
   ]
  },
  {
   "cell_type": "code",
   "execution_count": 24,
   "metadata": {},
   "outputs": [
    {
     "data": {
      "text/plain": [
       "['go typic non strenuou flat mile beauti degre weather hydrat eaten usual breakfast coupl hour prior half mile notic palm bright red super itchi treat hot tub prior leav figur mayb gotten chemic hand someth anoth half mile start get someth resembl ga pain stomach weird think figur quick pass continu mile half pain kept grow grow final stop walk last mile longest mile life shake letharg experienc tingl hand face mention extrem abdomin pain end basic collaps porch swing partner help said lip blue disori troubl open close hand let take er realli think clearli gone symptom resolv minut give water put ice neck freak enough go urgent care diagnosi exercis induc anaphylaxi sudden allerg reaction freak exercis commonli happen women may strike twice never actual fatal worst thing tri push pain stop immedi probabl gotten scari feel sudden weird symptom especi resembl allerg reaction like hot itchi palm stop stay safe peep',\n",
       " 'monday volleybal hour hour calisthen tuesday volleybal hour wednesday hour hour calisthen thursday volleybal hour friday hour hour calisthen saturday hour sunday rest feel like hour month everi practic either volleybal feel pretti sore feel like time edit also concern possibl shoulder problem yesterday rotat certain way hurt',\n",
       " 'recent sign school team without ever done competit ever cant even dive properli small team dont tri out buy jammer tri extrem nervou look dumb go look learn done wrestl never felt anxieti get singlet also crush team guy get anxieti join team first practic today extrem nervou edit guy amaz got nervous show first practic amaz coach alreadi say learn fast pace guy great commun thank sweet comment',\n",
       " 'overal tri eat balanc diet one rule relat consum last easi digest meal meat veget bean etc hour usual mile use eat vegan submarin sandwich cereal small amount nut fruit yoghurt nut top granola late skip dairi move afterward feel like energi least think two thing relat case similar experi certain long time diet help becom better avoid certain food stimul coffe etc',\n",
       " 'sooo begin almost month ago start home offic due yea would walk offic walk stair move along day etc etc start gain weight one mani bear even gener stop care gain around pound half month go back month half took first step get back real life shape still home offic feel much better adapt know work effici enough still product first step tale stop drink complet stop sweet candi said fuck fuck go back pretti much exactli month saw reddit post got intrigu start felt good felt realli good come background lot sport younger wrestl semi profession soccer ice hockey golf everyr name probabl done felt extrem burnt age went rather slim fit overweight rough coupl year final taken life back start someth back topic around month start km averag pase minut per km km per session today minut second per km improv time minut second cours month pleas note good physic come lot sport pleas also note increas time unless felt like could time done late felt realli good exhaust point feel like wanna puke felt exhaust cours never want give massiv thank everyon subreddit tip trick provid anyon read messi post best felt year mainli thank much ps lost kg around lb pretti much month',\n",
       " 'okay quit confus know easi pace essenti part get faster easi pace defin abl talk convers pace yet despit fact rest heart rate decreas around beat per minut b last seven year soon matter slow keep convers go wind mean walk tri littl success help',\n",
       " 'decent amount peopl almost alway faster practic hard set lot better yet still faster talk like brag right legitim ask normal like slow practic give practic got part yet keep lot peopl',\n",
       " 'hi guy go gym one year ago think chang time gym per week time chang expect',\n",
       " 'warm loosen x catch pre set x x catch hold paddl strap x okay drill x almost catch main set x snorkel kick set x streamlin free kick x free kick side',\n",
       " 'obvious two go hand hand curiou mani enjoy still partak cigarett e cig much feel like affect perform',\n",
       " 'start roughli edt believ utc whole garmin site seem hope reason long updat edt abl connect garmin connect web app although latest activ sync watch mobil app longer give mainten messag system statu page connect garmin com statu still say everyth updat pm edt system report normal statu',\n",
       " 'medal event chanthaburi trial thailand',\n",
       " 'hi folk year lesson hour privat coach pool realli focu perfect form rather speed distanc lot drill coach told everi day day pretti smoothli effortlessli get feel achiev everi somehow forget form feel weird feel right got disappoint feel kind mental issu sinc tire bore job time work happiest time day might take serious want get feel achiev sinc get work kinda weird ask anyon gotten feel smooth day everi thank',\n",
       " 'hey guy dad want help someth dad mid desper look pair color pant basic search whole internet local store found women pant fit thought guy might know retail sell color gear know necessari know alway km race alp etc tell need inform hope abl help would make great gift would realli happi',\n",
       " 'seen mani peopl good water deep without life jacket wonder danger alway avoid deep water unless wear life jacket peopl around caus im good',\n",
       " 'edit hell post question concern present data get vote person say someth like great feel awesom get coupl thousand thank reddit bpm high imgur com galleri hqo xbv hr zone imgur com galleri azeo imgur com galleri x euzqn explain graph first minut walk warm subtract walk total time mean k approxim min walk pace normal speed like walk mailbox wasnt hurri see hr start use follow interv cover k second second walk import note pace portion deliber slow pace slower feel silli like bounc walk faster go estim minut mile seen chart first second interv alreadi zone bpm less half way hr reach continu reach higher interv peak bpm final interv use garmin forerunn watch pair garmin hrm chest strap use month alreadi variou activ get consist read activ say rule idea faulti read day k concentr breath even walk recoveri phase yet keep hr control normal edit yr old cm lb kg roughli bf edit pretti activ sinc start covid us work out week vari ruck march box cycl honestli baffl lack progress cardio cours time find way anyth zone minut let alon zone hr jump right box workout specif hiit style given set round cycl less hiit exercis focus cruis cover distanc ruck walk mile lb weight vest someth push time fact tri slow possibl overal concern activ see kind hr point',\n",
       " 'hi first time post month variou short mid distanc today manag hit mile km minut seen hope good lb would good goal set go forward sure minut km realli sure go',\n",
       " 'found hilari lifeguard gift hey guy found funni shirt check use lifeguard blue kid got fire shirthttp redbubbl com tank top use lifeguard blue kid got fire digit lasagna b hc',\n",
       " 'start experienc stiff ankl slight pain achil last week trail km spent last week rest stretch massag full recoveri look buy new trail shoe shoe use nike trail kiger enough cushion drop mm anyon recommend trail higher drop plush cushion tri hoka speed goat today thought cushion would achil good drop mm import drop cushion thank advic',\n",
       " 'ive recreat year littl info im around cm ft never realli compet enjoy squad around hr week free pb around backstrok around wanna know potenti pb reach',\n",
       " 'need new tune go playlist go song pinch need pick tough fire away look forward give listen genr style welcom mine remedi polari sight rtj edit thank suggest everyon give listen next banger alreadi see',\n",
       " 'ncaa senior year confer alreadi cancel fall sport serious doubt season sinc indoor hard social distanc noth much realli chang octob love want much feel extrem guilti go pool offseason train feel like contribut commun spread enjoy push work hard sinc feel bad simpli excit season end last season littl train zero motiv anyon face similar situat',\n",
       " 'anybodi els get black toenail gross imgur com galleri pdkjpox imgur com galleri pdkjpox seek medic advic subreddit post imag comparison discuss',\n",
       " 'friend amateur tri build mile time cardiovascular endur challeng mile everi morn subject increas throughout past week found slight routin help with endur strength mood soon alarm goe spot greek yogurt granola appl almond butter ml electrlyt solut today drank coffe coupl gulp water notic decreas endur two previou day huge differ consid mi distanc deem shorter world pre routin suggest better perform',\n",
       " 'month wonder best tip heard',\n",
       " 'within past two week one type facil tell us often x b tell us comment abl commiser folk pool reopen yet view poll reddit com poll ie eml',\n",
       " 'hi guy got question peopl start slow pace min per kilomet minut kilomet faster race overal fit improv jog time also becom faster ask made improv big enough see differ one first start km hard even km back recent race hilli terrain manag km half marathon yet easi easili fall back minut kilomet pay attent pace know easi time sometim someon ask easi pace know whether report km easi convers pace zone slow immedi wonder physic mental thing train brain jog faster sinc bodi handl km fine better stay',\n",
       " 'scuba confin water class weekend requir problem minut tread float requir problem never access deep pool never learn tread water back float fine minut start get neck pain minut super pain sure neck bad posit anyon problem anyth fix form',\n",
       " 'basic question sorri leav inform need freestyl start intak water breath fix learn tread anxiou around deep water pleas know tip method train pleas train want abl thank guy time answer',\n",
       " 'quick question much faster think wet suit make oppos casual loos fit suit let say mile minut wear plain old suit much faster would wear wet suit second minut minut',\n",
       " 'hi recent stumbl upon coro apex pro altern garmin opinion coro watch read hardwar good current larg gap garmin come overal experi includ web platform someon replac garmin coro experi specif respect navig x b best',\n",
       " 'hey guy anxieti right wear mask breath rather heavili take one expos person may symptom thought earli like guarante alon still think',\n",
       " 'hair grimi dirti sweati heard shampoo everyday damag hair shampoo everyday hair reek sweat male btw grown hair quarantin',\n",
       " 'realli start serious may got lockdown start yard sprint month ago time consist second co worker long time coach mine ask think time would length morn time second start pool flip turn caus still learn one thing year',\n",
       " 'got weight vest increas intens usual go mile everi morn dog time farther thought get weight vest push next level start pound pound week love obvious increas chanc injuri use daili basi bad idea',\n",
       " 'start fairli long leg man also thin lb assum proport make signific impact optim form week point maintain fairli brisk pace longer stride forefoot strike usual mi thing seem unusu arm tend hang near hip around degre angl elbow like swing much less instead seem back forth rotat shoulder gener core feel also feel almost like lean forward way feel natur pace kinda feel like land actual seem contrari read onlin proper form sourc suggest keep arm higher gener upper bodi motion shoulder move arm found one forum post peopl note japanes long distanc keep arm low shape unlik taller japanes male lol basic form correct would hate strain way never see anyon els trail like make enjoy though',\n",
       " 'hi know kind sad question hard time understand someon drown middl lake far boat jump presum happen actress naya rivera wrap head around kind thing would occur happen would never consid lake danger miss someth danger awar peopl talk get suck realli sure curiou anyon insight danger middl lake thank much',\n",
       " 'grew near sea alway hang beach problem dont know sink like rock take huge effort stay afloat minut done time see granni beach stay afloat hour drive crazi none friend problem bodi composit noth someth wrong',\n",
       " 'hey look get back year pool use lot club team sinc hs varsiti year year lifeguard wsi lgi afraid start tri go hard burnout want go back keep habit would fine commun recommend make sure stick still get good burn go cheer advanc realli look forward get back water',\n",
       " 'amatur indoor pool hour four time week want choos follow smart watch track lap distanc input experi would appreci primari exercis also interest heart rate monitor sleep track watch read mani review concern lap track heart rate accuraci tia garmin vivoact music fitbit versa samsung galaxi watch activ',\n",
       " 'alway use appl watch start interv train standard appl watch app lack set timer app doesnt anyth anyon know better altern',\n",
       " 'hi fish peopl consist sinc last summer month due covid torn acl meniscu wonder track progress without coach watch ton effortless channel tri improv techniqu cant sign coach class due covid close group activ town guid cheap smartband xiaomi mi band right im look total time take k curv speed check less consist top speed effort perceiv doubt peopl beginn say e g min sprint averag dedic day track time k achiev goal f year train k min good day sprint bad techniqu feel proud consid last year drown stroke rate around min im cm kg cant flip turn push hard wall knee injuri cant breastrok kick usual warmup drill fingertip drag pull buoy knee ankl singl arm kick board breast stroke arm ymca normal freestyl time week',\n",
       " 'usual listen hip hop rap im open genr like music get go alway add til collaps eminem playlist give great push everi time come special toward end tia',\n",
       " 'anyon know cost effect place get prescript goggl farsight person prism',\n",
       " 'hey start around month ago done outdoor rather treadmil coupl month x k week minut mile pace know slower best day would faster slower averag pace year start feel like lot left tank start k pace shortli bump x k week maintain month took week resum recent person trainer recommend dial back bit add stair stepper month time week stair step notic struggl maintain pace start treadmil forc keep steadi pace fast forward past month push day week outdoor troubl cannot seem push leg hard enough meet pace lucki hit minut mile pace feel like speed walk feel high energi got start k dissip feel sap info lift x week sleep hour night fast hydrat drink coffe hand tri unfast feel bog current eat calori deficit true sinc start age sex current mpw pace mpw minut mile previou peak mpw mpw minut mile previou pr k minut mile pace obvious someth wrong would love help find given coupl day cardio tri rest seem make differ could heat need rest longer two day someth chang diet give energi thank help',\n",
       " 'bottom line front get second pair shoe get second style differ style bit detail noth seriou tri stay healthi get older lot sinc covid mile week beat crap last shoe wasnt use put mani mile short period time got new pair way way comfort b back pain gone obvious realiz worn old shoe pre covid burn shoe quickli seen peopl suggest get two pair shoe altern prolong life bit especi day consid like get differ pair shoe know much shoe like tri find work best realli want hurt wear differ shoe everi day go screw somehow thought',\n",
       " 'view poll reddit com poll hwnigv',\n",
       " 'would like variat structur workout provid group workout today workout split differ skill level choos column work best find consist get rest column move level master feel free add subtract modifi anyway see fit link googl drive previou workout drive googl com drive folder thrmzbzwcvhqc vzx rnq mdyr j usp share drive googl com drive folder thrmzbzwcvhqc vzx rnq mdyr j usp share tuesday workout found monday folder thursday wednesday folder interest join master club link help find local club near usm org club usm org club note set descend maintain given pace within distanc get faster work set descend time pace preview redd wboss e jpg width format pjpg auto webp aa c c f e e ec c c',\n",
       " 'sinc local pool open suffer health effect feel relat chlorin level pool feel bump level due covid thu reaction symptom follow runni nose sneez loss smell day effect deal worst one night go sleep almost asleep suddenli jolt awak feel stop breath oxygen day long hard session week ago got quit bad last week symptom gone km open water yesterday side effect except feel great read studi asthma induc pool chlorin anyon shed light subject person experi love hear especi involv solut avoid side effect thank',\n",
       " 'hey anoth day time post accomplish like share big small note need prefac accomplish someth like may accomplish proud accomplish let hear guy today',\n",
       " 'confer cancel fall competit year gonna meet least januari knew pretti like still suck',\n",
       " 'hey reddit want make quick post celebr min certainli fast train proud competit year train nearli yike realli get back year ago tri struggl hit hour feel accomplish anyon share recent took freediv love feel power water fin feel right excit get speed mayb fin speed though endur dive fortun gorgeou olymp size open air pool less offic complet free shall make today torrenti downpour soul sooth amongst raindrop hi lurk might pop occasion',\n",
       " 'sky open tonight shrug kept go like gonna get wetter anyway got wonder peopl feel work outdoor pool rain view poll reddit com poll h',\n",
       " 'wrote novel rant delet almost one would read one big point read youtub advic yet come across apart illumin part born suddenli made problem make sens tri number differ shoe overpron right foot couldnt figur suppos help feet alway found way move revert bad form felt weird shoe especi advic get size shoe realiz way foot fall specif form help technolog lie intent heel strike hit sweet spot outsid heel roll big toe number reason case work natur inclin least midfoot strike work need keep good align im still two pair modern support shoe bought consid train tool mental cue correct measur way shoe work opinion alreadi strong enough good form point dont need accept way help constantli stop adjust order sauconi bullet dont think rout realli work vibram type shoe im go altern guess form improv pleas dont get big expens shoe let work go caus problem dont oper exactli intend',\n",
       " 'hey guy work start back teacher go transit afternoon usual mid morn although afternoon f still want saturday mid morn time anyon seen advers effect tire saturday follow schedul like',\n",
       " 'normal one brag feel like indulg bit one feel full race report see clif note version boonevil backroad ultra mile covid edit boonevillebackroadsultra com mile hr min th male finish starter men women weather start cool temp hit low afternoon stay pm cloud littl wind stay upper finish hit low point notabl mile mile manag work becam intim tune complet mental screw game race distanc turn later game idea would like train magnitud intens said though felt pretti posit whole time fact first second k loop sing along music last leg tell delirium fuel dad joke pacer much amus friend acquaint much better dnf shock manag finish sound like cast shade think rel slower pace start save versu faster start heat turn lastli last ish mile walk hurt tri much possibl end went better expect last aid station mountain dew pancak freak amaz mana god anyway blast work ass get point life ton support famili friend begin express level gratitud help even encourag insan know miler everyon manag high low train worth huge absolut statement anoth',\n",
       " 'sinc toddler alway extrem athlet easili fastest elementari school th grade also soccer th grade time mile mile year old th grade drop soccer extrem rigor coach join sport year tenni freshman year unfortun cut short due covid school shut stuck home month school recent start onlin made goal becom fit school start person spring keep mind never work life quit hard begin would bench one day mile anoth took break sunday start day ago begin start minut mile increas speed mph everi week second increas mile time least mph mile around goal sub minut mile nd semest goal obtain anyth wrong focus someth specif',\n",
       " 'hey guy tri buy new gear would rather help local store tri time might recommend fave brand like patagonia nike brook nanji never bought yet saw product brooklyn impress thank',\n",
       " 'hi everyon long time lurker wonder big pool meter yard pool find rather awkward length end round meter yard meter yard would mean meter set lap meter use competit pool usual meter worst alway one two length standard pool size either small pool awkward length pool tip trick disclaim meter pool gym pool',\n",
       " 'tri break recept lap get pair waterproof earbud listen music podcast main concern disconnect phone point much would someth like cost particular brand anyon suggest',\n",
       " 'ish year goal leav back mind put pressur icu pretti sick bodi broke past year strengthen mind bodi come along way sinc usual non stop pace per read post yesterday want get faster mix set decid yesterday set everyth felt good first set pace went hard last finish strong got absolut beam think chang someth small would big impact given confid look small tweak could make get effici pool anyway lurk want thank wealth inform share reddit get pretti dark time see commun get behind peopl amaz thank',\n",
       " 'went first time awhil felt like power come leg arm didnt feel like help move forward alllll almost felt like dead weight weak come upper bodi strength make feel like im pull forward even feel like',\n",
       " 'back februari bought pair cobra ultra swipe goggl use upcom meet sinc lost pair speedo fastskin goggl howev covid meet cancel pool close abl month pair goggl use practic cheap mirror pair start becom realli foggi final get back decid tri use cobra goggl pool first time better fov lower profil felt amaz far less clausterphob face better pov also abl focu stroke still mainta good head posit enjoy much start use go goggl everi singl day practic last week wonder foolish use top notch pair goggl like design race regular practic way foolish wear tech suit practic word wast nice pair goggl one hand plastic break nearli anywher fast fabric tech suit otherwis except meet would dare wear goggl meet plan state sever month earliest mean would gather dust find better use notic improv techniqu speed last week wear everyday howev hand pair goggl exactli cheap thu buy new pair often obvious goggl even anti fog film fog time',\n",
       " 'kind new unfortun get lesson get pool youtub video lake made interest discoveri today tri pull buoy today instead lift leg kick keep leg leg sink realli badli soon start stroke like stroke liter stand vertic water despit pull buoy thigh tell someth kind obviou guess crawl stroke creat strong rotat forc rotat bodi opposit direct arm windmil previous thought leg sank denser water realiz arm stroke must part like duh obvious must creat forc go center inertia creat moment around center moment lift head bring leg tri correctli catch water tri bend elbow tri pull water horizont past rather still rotat badli tri googl situat help ask leg sink use pull buoy give hit simpli use pull buoy indic stroke fix',\n",
       " 'slowli sure get better breastrok bike crash year ago made imposs crawl anymor work form find effici comfort find hold linger underwat aero posit recoveri feel effici slower increas spm feel faster decreas time breath mainli increas frequenc breath make feel light head varh spm curiou experi guidanc welcom thank john',\n",
       " 'subscrib lot post come everyday often repeat question previous ask cover faq mind post place question especi may deserv thread hope success help lower clutter repeat post alway forget check faq reddit com r wiki faq pleas take advantag search bar googl subreddit limit search googl com search q url areddit com fr frun search term',\n",
       " 'hello one life goal butterfli scm one minut anybodi good advic use time around best year ago due school recent covid abl improv back mayb anyon share train program specif fli give tip like abl first actual chanc break minut',\n",
       " 'subscrib lot post come everyday often repeat question previous ask cover faq mind post place question especi may deserv thread hope success help lower clutter repeat post alway forget check faq reddit com r wiki faq pleas take advantag search bar googl subreddit limit search googl com search q url areddit com fr frun search term',\n",
       " 'hi everyon wonder anyon tip come dryland workout without use equip still lockdown pool open look condit abl get back water year old swum sever year use time school kid use quit good look get back realis much let go last year tip advic make dryland workout program beginn help abl get back water appreci respons',\n",
       " 'male go km race first half mountain w meter elev gain second half go never half marathon got littl practic uphil downhil trail assum go take good complet hour probabl optimist addit suspect uphil part bpm heartrat part go take major time burn glycogen like crazi go take gatorad sugar electrolyt well energi gel w caffein cours drink coffe race also abstain caffein week sure food depart articl onlin suggest food low fiber fat aid quick digest realli want quick digest want grow hungri mid race happen hand want burden stomach earli phase order save weight abl bring real food might abl squeez bar two pocket carb load etc',\n",
       " 'subscrib lot post come everyday often repeat question previous ask cover faq mind post place question especi may deserv thread hope success help lower clutter repeat post alway forget check faq reddit com r wiki faq pleas take advantag search bar googl subreddit limit search googl com search q url areddit com fr frun search term',\n",
       " 'join team first time get tomorrow get readi arriv time hour session ensu damn know even sleep healthi minimum hour realist even eat someth without nausea even everi day wow thank happi',\n",
       " 'morn corndog feel face us brit set coldest bank holiday august weekend record race read bake final get grip garden plan fli hous friday free',\n",
       " 'tri train polic academi much sinc get armi yr ago experienc slot lower back pain bit demotiv advic stretch exercis strengthen elimin help thank advanc',\n",
       " 'understand athlet train high altitud develop stronger aerob capac compet low elev fit advantag sort analog temperatur differenti e g train hot cold vs moder baselin chalk build charact exampl live vietnam past month averag even temp f high humid vs say baselin avg back home f acclim improv way keep pace cooler temperatur approx sec mile deficit els equal might see pace condit gain return cooler temp simpli well tone sweat gland',\n",
       " 'overdu first lesson today wait abl tread deep water leisur let fuck go',\n",
       " 'hello reddit high school jv athlet want train anticip varsiti tryout year senior year realli import make year talk coach criteria make team complet x yard interv miss interv develop gener endur get yard minut intens varsiti practic unfortun live cannot join local club due covid restraint result must go forc self workout make tryout motiv pretti good toler work moder high definit remark abil crazi workout especi right shape done work kind workout complet warmup x cooldown felt pretti easi go difficulti past pr low freestyl hope give enough inform pleas advis think plan workout mayb point direct workout plan constraint would like water minut give take mani extra piec equip cap goggl help appreci',\n",
       " 'coupl month ago sprain ankl pretti bad trail guess start soon sprain week later roll end swell pretti much everi time hike etc anyon tip get ankl stronger good brace use meantim right avoid trail road instead also brace realli feel support hurt lower calf',\n",
       " 'start jog distanc around km everyth dark littl spooki first becom enjoy get hang work east coast time live west coast suck though',\n",
       " 'get covid nice routin build solid base mile week got covid week ago mild symptom never fever lost tast smell felt like realli bad cold day tail end quarantin decid hop back treadmil curiou hear anyon els journey post covid edit grammar',\n",
       " 'hi everybodi lucki pool close home open sinc novemb came realiz like goal look order track progress keep motiv realli lack imagin thought would ask wonder commun far goal find track time specif length style exampl km crawl crawl also tri endur session start big progress use train gener natationpourt com entrain generateur generateur php keep fun unpredict think set person goal kind often check progress advic',\n",
       " 'paramed last night duti call local gym indoor pool facil teenag found drown pool alon nobodi knew long gym goer walk notic float water grab cpr thank time got wide awak lot pain admit later tri long length underwat last memori tri come air noth experienc shallow water blackout essenti tri long distanc underwat hyperventil maxim oxygen intak blow much co thu reduc feel need surfac air lap end happen sometim overdo end expel much co lap brain becom oxygen depriv co level bodi low brain signal breath without warn light go slow fade dark slow feel pass pretti much go matter second hospit patient father express shock happen kid kid incred competit one best age group make sens nearli drown could understand rooki kid pool mayb feet deep told ye kid shallow pool surround peopl almost lost life even start earnest train underwat alon',\n",
       " 'want get gopro quit time look excus know gopro cool guy find underwat perform use formcheck probabl get hero camera would recommend use exclus want someth good enough underwat thank',\n",
       " 'day week usual km last month seen huge improv physic mental health consist love move east coast canada soon quarantin week sinc come atlant bubbl apart quit small workout equip pull bar realli look forward lose progress made tip',\n",
       " 'last half year pick coupl year away sport current goal get k time minut go realli well feel like close goal problem late pretti hefti schedul studi activit struggl find time weekli therefor start commut replac recoveri usual interv day usual last minut hour rest activ inbetween back forth apart four min across day instead hour recoveri rest day afterward usual routin therefor wonder anyon knowledg experi effect sever shorter compar longer recoveri',\n",
       " 'larg backyard pool plenti big lap x size averag residenti pool recent start twice daili gener exercis want start get bit seriou track heart rate time etc good suggest basic watch style tracker never use watch style fit tracker kinda lost start look basic need thank',\n",
       " 'casual mayb mile week averag mile session three time week least sinc januari mileag slowli improv sometim see week improv pace muscl imbal screw form tri address cross train old injuri ankl twist right hip back left leg domin take weight alway done lot strength train past built littl bulkier term musculatur weight need lose said care avoid heel strike also tape ankl help somewhat damn feel like heart get overwork like minut even mani month train leg feel fine point get frustrat never sore breath alway slow way point end walk realli health issu speak feel like progress excruciatingli slow tri demor wrong',\n",
       " 'mostli k road time week flat feet suffer slight shin splint sale virtual price offici nike onlin store countri pair get',\n",
       " 'wonder big differen similar ncaa club colleg',\n",
       " 'alway side breather butterfli would breath keep one goggl water exactli like freestyl peopl alway amaz low breath breath low peopl would ask breath person met breath like know peopl never met saw anyon alway felt abl longer relax breath anyon els sometim would even leav head side breath everi stroke without effort natur rise butterfli would give enough lift open mouth breath x b took long break found well anymor breath front found easier attempt breath side littl confus exactli breath experi time breath tri lift chin right start pull rise undul get head high enough breath also experi lift chin second kick breath downbeat kick x b butterfli alway best stroke event think could fast tempo could keep head side move head time turn found harder pick tempo chang breath style still practic breath side want perfect front breath way correct phase pull kick breath breath front x b experienc butterfli far fastest stroke techniqu still pretti good know butterfli properli chang breath challeng want usm meet thing return rel state normalci advic appreci',\n",
       " 'eight year know eat eat eat anyon tell perfect diet plan yr old protein shake realli necessari',\n",
       " 'hi everyon quick survey peopl approach fit nutrit would love input form gle rilbnsqix p vsl form gle rilbnsqix p vsl',\n",
       " 'kind issu wonder typic end defect one seem like water might gotten anybodi els happen see littl water droplet collect clear plastic hr sensor',\n",
       " 'local gym pool go open gym allow open state question look odd lap pool bikini want know get coupl one piec pool',\n",
       " 'hello first lesson went swimmingli haha want get rep get better faster realli sure structur workout idk call got taught beginn exercis hold board front hand practic exhal water inhal top thing pool buoy backward hold board chest buoy neck also taught backward arm movement second interv sure structur workout exercis clue mani lap exercis help edit volleybal practic monday tuesday thursday monday hour tuesday thursday hour ok go wednesday friday includ weekend mani time go consid current schedul',\n",
       " 'look marathon mayb mile day mile everi day cannot get brook sneak look attract like adida ultra boost look hear heavi advic pleas',\n",
       " 'time last year f obes lb around time last year also work toward abl k without stop walk first time made whole k took around minut huge landmark last month lost lb gotten super well calisthen yoga healthi weight today got k time minut first time pound loos meet final goal weight lb feel incred proud excit guess want post somewher celebr amaz much chang happen year anyon els similar experi weight loss recent accomplish celebr',\n",
       " 'get back sinc lockdown even never sure etiquett backstrok public pool lido yesterday even backstrok somewher medium fast bit slow fast lane inch arm inch leg howev slow lane yesterday lap two backstrok tri go slow inevit someon chew thing slow medium lane get taken peopl breaststrok medium lane medium speed breaststrok backstrok alway prefer stroke littl practic front crawl practic backstrok public pool littl fraught well lead incid improv techniqu peopl tip backstrok public pool',\n",
       " 'hey anoth day time post accomplish like share big small note need prefac accomplish someth like may accomplish proud accomplish let hear guy today',\n",
       " 'gym final open pool lot peopl machin wear mask comfort use locker room dri suit much put cloth lay towel car seat still get wet unfortun water stain super easili abl find terri cloth towel like short guy tip help keep car seat dri thank',\n",
       " 'hi watch app combo use track current use fitbit strava app end frustrat would like use samsung strava also strava fitbit track treadmil highli annoy fitbit alway track outdoor either strava app crash refus connect lost data cannot use fitbit alon give enough inform enjoy strava feel could reliabl consist especi stat provid want abl see comparison time base mileag rout strava type ie outdoor vs treadmil anyon got holi grail combo',\n",
       " 'titl prefer someon experi',\n",
       " 'never bought goggl proper shop type see souvenir style shop holiday mayb maximum whenev use seal face properli end get load water buy proper goggl compani still happen eye perfectli seal risk water come thank much',\n",
       " 'injuri updat rehab recoveri keep streak aliv youtu b botwoz first admir passion overal good spirit everyday year injur still tri keep streak aliv sure way better like normal person rest day kinda worri instead health motiv probabl like pressur keep streak aliv cost mean necessari youtub instagram audienc especi sinc got sizabl one idea anyon audienc sensibl enough offer sensibl advic import rest recoveri progress prevent injuri perhap cheer feed urg keep daili streak aliv wors concern averag peopl watch channel would think everyday year even injuri ok tri think imposs noth crap ah anyway hope heal come realiz nobodi go crucifi take one two day rest per week thought',\n",
       " 'enforc rule self promot social media link must larg sub realiz filter truli use content rel sub effort allow content thought weekli post give spot use content chanc got project work video program etc share want promot busi servic share tri get instagram follow share found great content onlin share one caveat whatev share fit relat pleas',\n",
       " 'start couch k middl school tire abl block slow improv endur point could three hour mile still frustrat pass walker local k proud finish pace adopt ident slow doubt ever break join cross countri freshman year high school averag mile cours next year pr k pace last season xc thought kept move road bike row two year later fall averag local k two year walk onto colleg row team averag k pr ed mile crew got cancel spring appli intens taught past month pr ed multipl time mile k k half marathon even longest mile today f humid broke huf puf way k averag knock almost second previou pr earli june keep see peopl pace strava start sink win race anyon els much slow anymor fellow slow stick took year final achiev someth thought cut key learn push collegi row rais bar kind discomfort mind bodi sustain hard race day train hard enough throughout week use mile rout everi day around pace wonder broke month eighth grade late push hold moder pace mile mile thrown track workout minut sprint repeat spice thing keep thing interest make faster give anoth year break x b x b edit thank award kind word want add thing agre noth wrong slowli line think slow celebr push hard fast distanc like twice long alway beat previou record anyon els stori new chop time half month encourag year never seen quick progress wrote us chip away slowli steadili current time sorri km mile confus us k k commonli use distanc reli min mile pace race exactli distanc wrote pace instead total time',\n",
       " 'hi lucki live place us restrict eas outdoor lap pool open reserv one person per lane littl weird lifeguard wear mask wear offic check peopl pool deck chair clearli polici kind perfectli consist coupl week visit lifeguard mani year hard time imagin wear mask would imped job sunglass sweat cold hat block sun mayb miss someth though like x b edit updat found guidelin redcross org take class coronaviru inform aquat facil oper lifeguard covid redcross indic lifeguard wear mask',\n",
       " 'pretti new combat sidestrok easi learn work freestyl breaststrok first thank',\n",
       " 'hey lifelong f notic strang nois late wonder anyon els experienc right knee creak go star notic walk activ stair pain howev injur knee twice last year accid year ago rip consider chunk top year ago bike accid result consider swell saw doctor use rice method past coupl day see make differ noth far gotta give time thought edit pain swell',\n",
       " 'take month persist shin splint look substitut cycl kind thing focus maintain decent level fit especi term gear hill guess would differ strength aerob train bit cycl noob appreci advic',\n",
       " 'mile week winter mile week god forsaken central florida hot humid summer intent low calori consumpt calori day much appetit least lb overweight seem lose weight better yet eat night lb',\n",
       " 'liter day find help make differ drink enough think essenti base practic experi abstract guidelin',\n",
       " 'pool final open back sure agre decis base neither keep social distanc covid precaut allow set amount peopl time lane reserv hour chunk get min pool time top hour min allow proper distanc clean group switch well season usual k per session hour time current goal get back best shape possibl join master ever open back sure best use min sinc essenti warm assum get reserv think altern day long distanc pace stroke work usrpt anyon idea set workout best way util time peopl might similar situat love discuss',\n",
       " 'learn commun anyth slower minut mile consid jog pretti fair definit pace bum hear take serious devot good deal time get stronger howev older slower',\n",
       " 'background complet marathon sever mini cycl centuri week ago experi outsid play pool ocean kid regist train plan would begin around april tri determin much lead time need gym order get comfort water without experi understand difficult mile think would help know quickli one could go experi full distanc thought',\n",
       " 'read articl medium com life want marathon dont start k aac earlier today realli rub wrong way especi two sentenc toward end want marathon k place start start k realli set standard low think lot interest point articl especi k view peopl would love hear think main problem found articl unintent gatekeep seem k great place start even ultim goal marathon realli understand recommend excit hear think',\n",
       " 'kinda breaststrok saw peopl say fuck knee thought butterfli wow harder look thought true stretch leg knee fuck peopl ultra knee fine mostli stretch leg breaststrok leg workout leg tight fast stretch open',\n",
       " 'ok quick backstori im year time never ever normal start keep put hand slow leg alway bend watch mani video read mani articl fix seem imposs lost hope would tell situat',\n",
       " 'background two month ago suffer mild ankl sprain fall play puppi worri dog harm make fall first k make good progress took time recov two week start month half ish post injuri stride tell compens one way anoth feel tight leg particularli one injur tens basic lost natur stride somehow work way back mile first injuri train ever sure normal expect get back high anyon els struggl learn tip possibl relax haha',\n",
       " 'random observ person zen moment thought take time put word littl year start peopl couch k time mile sinc first burn littl million calori random person trivia train mile slog mile regardless heat cold wind rain snow enjoy get high feel great start middl end pain way say built understat biblic proport take small satisfact sens accomplish enjoy struggl get better go longer obviou reason race month yesterday u labor day small trail race local person mile mile combin local trail system wide rang surfac vertic long gap race realli dial sit top suv keep eye park spot partner sens elat anticip felt month watch show men women children obviou elit obviou peopl might well start couch k program realiz gather like mind individu tribe record fast rare place age group mostli bunch ringer age group tell win race mean take lot pressur think race best race peopl immedi ahead mostli line wave base estim pace properli distanc goal finish cours short time possibl us whatev time end curiou year old took first overal averag pace minut mile pretti technic section kid talent next someth minut everi step includ one fall much fun much sheer enjoy unlik mile put train giant light bulb go race especi trail race road race race throw good money away get cheap shirt get thrown box cheaper mass produc particip medal cours part could time free race look forward sport activ person masoch call know everyon reason someon multipl reason fit stress relief eat thing social competit get hous list liter endless appar mine',\n",
       " 'took back april gradual increas distanc weekli mileag first half marathon octob howev sometim feel right knee weird way km current max would terribl sorri caus knee injuri techniqu exercis specif strengthen warm knee make better prepar longer prevent futur injuri',\n",
       " 'subscrib lot post come everyday often repeat question previous ask cover faq mind post place question especi may deserv thread hope success help lower clutter repeat post alway forget check faq reddit com r wiki faq pleas take advantag search bar googl subreddit limit search googl com search q url areddit com fr frun search term',\n",
       " 'sidewalk traffick',\n",
       " 'long time user endomondo track unfortun servic die slow death sinc armor bought app updat far appl watch support islacklustr servic becom quit unstabl nail coffin old data har becom corrupt consid switch anoth servic would like get recommend would consid instead endomondo keep mind data portabl major concern like abl transfer old workout stat new servic insight guy will share',\n",
       " 'gorgeou realli interest mini documentari patagonia realli nice miss ocean link video youtub com watch v vejz dhfzk',\n",
       " 'current train first marathon januari pretti excit workout plan build follow monday rest tuesday short distanc easi wednesday rest thursday tempo hill friday rest saturday mid distanc easi sunday long distanc slow realli want someth rest day order make feel like still work goal someth make bodi feel like stiffen year old alway pretti activ feel like bodi pretti fast recov work deskjob goe school time pretti stationari whole day sit desk stand slight stretch occasion sometim feel like bodi stiffen howev look internet seem like lot guid make seem like good idea straight contradict look opinion base person experi anyon place someth relev matter pleas let know edit hmm get downvot anyon would like elabor post someth rule pleas tell',\n",
       " 'stupid question know first time month abl keep bodi straight lap float water leg start sink despit earlier seriou exercis abl liter stay top pool almost hour someon show float natur result swime train',\n",
       " 'time final see pt injuri experienc think mostli knee also experienc hip pain tight like idea virtual session assum cheaper would benefit sinc think insur cover pt know easi diagnos work webcam curiou done virtual therapi session whether recommend would better see someon person',\n",
       " 'never much quarantin hit decid stay shape go start mid april couch k k train first half marathon last sunday longest yet mile one question tri research found definit answer fuel necessari long also much fuel far carri water snack begun feel super fatigu around mile mark everi time long question point feel need fuel water gel etc refer go pretti slow pace usual averag minut mile long',\n",
       " 'today first time experienc first confront walker british weather unpredict moment rain heavili day thought would quick k inbetween shower anyway last mile averag min mile pace past coupl mid around two tree scene imgur com zoeros jpg see enough room abid social distanc rule ft wife scream loudli oh past male reaction husband presum heard behind minut later cool saw coupl could tell wife piss want confront want start confront coupl decid go cool tension apologis could say anyth wife immedi start shout startl let know fast behind proce tell husband shield day could ruin good work pass whilst breath heavili whilst wife lectur husband decid would continu walk ahead without want avoid confront apologis last word consider next time way happen public road got point get piss avoid say someth rude decid walk away mani encount similar confront deal let know behind without shout think would startl',\n",
       " 'foot injuri walk bike sever month think exercis decent aerob shape mile fast uphil hike reason beginn backstrok less experi front stroke like crawl due avers water eye nose cours fix via goggl nose plug learn curv never tri min disciplin lap would need durat aerob result viabl would need ton build get min block hire local high school colleg jock help correct stroke breath first coupl session tip welcom also consid aqua jog afraid would feel weird',\n",
       " 'live southern mn want get couch k program help work babi weight get healthier concern start go quit coupl month get cold outsid other chang season keep routin',\n",
       " 'research tri determin whether eliud kipchog actual spent time air ground record break sure math right thought finish time obvious mile meter found refer averag stride length meter meter divid averag stride length mean took estim step race elit accord garmin data ground contact time ms valu kipchog assum less ms ground per full stride ye mean spent time contact ground minut remaind time minut air seem right fair theori time air ground accur statement anyon gct ms right',\n",
       " 'f lb non smoker low thyroid condit alreadi treat med hi fellow seem major done tire heavi leg sinc march gradual up weekli mileag somewher km usual k time week exact consid would call fairli easi usual keep min km pace speed work yet enjoy long easi like way feel leg start realli get heavi feel talk usual rest two day time muscl repair although seem help much like first thought due up weekli mileag quickli would made sens howev around k week least month issu still caus think might relat tire leg issu lost quit lot weight sinc start around lb mayb eat enough muscl fulli repair say eat around cal day pretti clean balanc diet also eat occasion red meat iron lot good fat nut avocado pb etc disciplin stretch stretch quickli sometim time would realli make differ saw post somewher subreddit mention cadenc could play role would make cadenc faster help issu might actual normal tire leg thank advanc guy',\n",
       " 'wanna pick hive mind tri decid brook adrenalin gt hoka one one clifton like dislik pair shoe background middl age heavier set guy mile per week current wear nike air pegasu look cushion daili trainer thank',\n",
       " 'hey guy ive form activ recoveri main sport calisthen alway seem get mild headach lap wear cap ive tri loosen goggl headach still waterlog goggl result loos sometim lmao headach goe away within min end tho anyon els issu u solv thank',\n",
       " 'read sever page web mani peopl say around mile per week ish k done track workout coach last week predict sub k current fit level x jog current mpw last week actual highest ever start last year octob first year actual build month start octob got injur shin februari stop stop hurt continu june mpw join track club month ago one qualiti tempo session everi friday team feel like want complet differ distanc tempo specif train plan curiou make differ tri mpw say help improv time know least case bit differ actual work compar peopl say internet',\n",
       " 'look olymp notic breath everi second stroke almost life told everi rd',\n",
       " 'hope someon els problem help feel like exhaust googl search time week morn usual mi also lift weight leg twice week includ heavi squat sunday find persist pain tight behind right hip kind muscl feel like im kind stretch crow crow variat yoga kind twist stretch none stretch absolv issu tri foam roll seem anyth roll around lacross ball incred pain also seem gotten sport massag stretch everi night stretch lift ive tri stretch see problem kind frustrat unsur took time came back still went sport doctor suck refer physic therapist also suck took money anyon els issu recogn result lift gym shut month height lockdown problem badli anymor gym reopen start back weight began flare realiz need find right balanc lift inde step back day week full day heavi squat sunday basic wonder particular tight injuri anyon advic stretch exercis whatev especi anyon also lift anyon thought take x b thank',\n",
       " 'month exam meter minut almost without stop learn child covid took extra lesson improv techniqu sinc march pool close know main problem stamina know quit well two round meter lose breath pool open jump back sure practic order improv thisa much possibl mani time week practic anoth question case pool close way improv dri land bit difficult sinc live hill thank advanc edit tri googl find consist answer sourc site compani like speedo',\n",
       " 'alway water bottl hand long want go back use belt hold bottl around ounc free hand one happi recommend someth comfort use longer secur enough handl stride',\n",
       " 'know right subreddit ask sister want get call flat pierc worri whether go caus issu put cap practic meet',\n",
       " 'hi quit month broken sub quit ago k minut rang even proper plan start quick easi start journey experi also incorpor longer slower anyway kid use activ teenag year realli fell live extrem stationari life tri pay attent bodi think notic core like extrem weak someth alway never paid attent notic bodi postur bit flimsi mile pile correct quit lot also type sprint fast pace notic kind sink downward tall seen like bodi goe lower toward graviti especi sprint dunno made sens like leg slowli sink ground reach end sprint fast pace think due weak leg train regularli well soon heard could possibl weak core immedi core excercis check like ab workout pain workout hurt lower back wonder tell core weak prove make extrem strong also would like know much impact would make improv k time like matter lot provid benefit lot negat import strong core curiou impact appreci help thank',\n",
       " 'wonder long peopl wait get wisdom teeth surgeon said could go back team day surgeri post op recommend inform seem take week fulli heal even indent lack teeth five day least eat normal given mixtur high chlorin bacteria someon els know gotten wisdom teeth go back lap',\n",
       " 'hi broke foot last sunday th metatars bone simpli clumsi last week mile day week stress relief prefer way stay shape pretti bum go miss last summer weather chicago first fall season anyon advic abl abl get back mental health activ wise advic would appreci',\n",
       " 'sinc start mileag per week incorpor strength train speed interv session workout notic definit chang shape leg specif calf muscl look far tone carri much fat midsect lb pretti averag weight height plan cut lb see impact speed howev bodi physic smaller lost inch start wonder whether lose weight would realli impact look whether bodi recomposit achiev workout would enough make bodi effici guess question better weigh lower bf weigh less higher bf term effici benefit',\n",
       " 'struggl mild moder depress make difficult motiv anyth sometim person benchmark small challeng growth oppos one big goal sinc aim abl best bodi carri mani year possibl day want feel aw unfit probabl stop realli gave session time demotiv numb even get bed next thing know week sinc anyth plu wake late unemploy great degre sun beat alreadi live rel seclud woodi area feel safe late even earli morn alon sinc anyon pet take think hen great partner way motiv tough mental time gener feel like crap',\n",
       " 'local half marathon open registr virtual half marathon charg per registr medal addit pay medal certaibl make sens initi bit put charg chariti howev thought start think differ like yearli overhead need cover pretti fortun posit ought chip buck make sure around next year plan event',\n",
       " 'learn realli go underwat exhal weak push bubbl spurt get block sensat turn burp swallow anyth feel like wind pipe close get co also sink bottom someth found would good practic wonder someth els well float back complet effortlessli even need move limb water calm enough sure complet exhal time land float easili breath pretti normal',\n",
       " 'happen sever time day particular reason im feel weak motiv exhaust activ gener like also get afraid underperform badli day im suppos intens interv exampl usual look forward get mental clariti day feel much difficult other tend postpon next day two push weak anyway read stori peopl get new pr even though didnt feel like might wrong approach',\n",
       " 'built abil marathon ultra marathon would abl share recov injuri went abl mile less recent abl build back mile believ got injuri build milag fast go mile mile space week want make mistak anyon advic build mile perhap even speed howev hesit fast injuri would much appreci',\n",
       " 'sorri sure post hope help go vacat soon hope go tore ankl ligament two week ago fine water done home consid crutch worri navig go pool crutch seem slipperi realli put full weight foot also rent wheelchair would also complic thing realli look tip trick safe get pool without slip fall thank',\n",
       " 'hello quit pickl need help long stori short borrow dear friend race shirt ragnar la vega mayb find flip entir hous insid abl locat know shirt lot sentiment valu believ misplac chanc anyon happen gray orang ragnar la vega shirt would will part prefer size larg take get mean tri pull fast one attempt pass replac shirt origin hope lessen sting come clean tell friend happen',\n",
       " 'week marathon train background beforehand lot experi sport resist train physic activ etc today easi mile schedul usual around min mi today howev normal feel easi felt brutal first mile fine mile two three bit slower halfway mile four struggl much simpli stop start walk even muster strength sustain min mi pace know probabl seem like complain whatev bit concern six week deep liter never fail whether distanc tempo pace min mi whether interv work sub min mi pace whatev may alway found mental tough fight pain finish day plan today sure wonder anyon experi could offer insight may happen handl respond move forward know common fail walk sometim concern easi point train approx three four easi day week somewher mile like realli new anymor never fail one usual finish minim fatigu well easi least meant haha anyway thank advanc insight abl offer appreci',\n",
       " 'never realli fast competit exercis fun current train marathon cancel yet finger cross use plan base pretti much hr zone littl bit perceiv effort seem promis lot good benefit use properli appeal last month pace gone way use method trust research thing read go take long time truli make differ number thing read regard train led buy stryd footpod say realli enamor far week use power calcul stay correct zone train plan odd read slower pace use hr zone train hr higher averag quit get even research miss anyon els train power alon everyon realli race competit someth level right',\n",
       " 'l l use train crawl butterli indoor pool two friend taught five year later l start lake outdoor calisthen still bit tens crawl l work butterli howev present annoy issu l never indoor feel like sinus start burn stroke first l figur l dive properli water everi stroke like go straight l focus dive l feel like l got power still burn sinus tip get rid l pollen allergi current activ l live could factor previous butterfli limit techniqu strength due bad techniqu kinda annoy halt l feel like l could keep go much',\n",
       " 'hey anoth day time post accomplish like share big small note need prefac accomplish someth like may accomplish proud accomplish let hear guy today',\n",
       " 'year ago start develop left shoulder pain sportsm said overus gener yd x week went physic therapi month work ton scapular stabil speed realli increas fast yd pain never fulli went away even covid got mri dx tendin left shoulder noth major final yesterday four month yd shoulder agon pain rest day wors ever suddenli wake today shoulder feel littl achey noth major anyon els similar issu',\n",
       " 'hi wife get realli past three year lot experi outdoor winter approach second wave covid loom look get wife treadmil birthday gift coupl treadmil use one kijiji either stop work littl liter fire hazard within month bring say know use easili put km week machin sad everi time get rid anyway tri find good one buy quit revolv rotat crappi treadmil anymor tri find one good year realli know look besid prefer cushion track power experi home treadmil get',\n",
       " 'gift card expir one month idea spend want get someth fun male refer thank edit thank great input still made mind lean toward new hat',\n",
       " 'sort lightweight top come transit season market good windbreak anyon strong recommend someth good seem like patagonia houdini nike windrunn brook model get lot great review rate onlin also like look new homa quarter zip anyon anyth swear thank',\n",
       " 'look incorpor morn routin mile wake sound goal get healthier fitter better read minut bpm everyday help achiev goal mile plan bit simpl came ask advic program make sure get healthier fitter better next year would make adjust increas distanc intens time someth els thank much also separ note intens length cardio matter health fit purpos',\n",
       " 'favorit stroke time freestyl favorit stroke freestyl weird realli big part go fast would choos stroke freestyl feel better go faster mayb trip idk lemm know thought comment forget subscrib',\n",
       " 'hey new reddit bit confus regard pool etiquett etc recent start mainli even due work tri day massiv problem ever got frustrat coupl time today got frustrat leav pool complet went switch day time lot mum like would call social mainli breast stroke two abreast convers head complet water practic vertic older ladi ya know slow slow wait reason distanc till set side pool realli fast mainli men coupl athlet ladi howev due three lane two fast one slow major peopl slow lane today slow lane peopl question still rel slow slow slow fit train tri get fast lane go back tri even pool quieter realli struggl inbetween pace slow fast other worth push limit frustrat slower faster wrong lane',\n",
       " 'open eye underwat feel need burp reason even still need wear googl happen anyon idea happen',\n",
       " 'freshman high school second away beat school record sophomor year around corner want keep time cant physic workout covid suggest treadmil pay keep stamina juli brought topic month done physic workout need get back bit problem whenev bring topic workout meet threat thrown hous abandon deal',\n",
       " 'make appoint doctor knee prevent month get better held call gp doubt take serious want write without actual look problem particular thing ask say actual investig',\n",
       " 'get new pair everi month heard two pair shoe switch two make last longer seem like wast thought',\n",
       " 'tri flip turn breaststrok fine front crawl seem issu breath breaststrok feel close enough wall enough breath flip chang direct surfac next breath go opposit way front crawl alway feel like littl bit far wall get good last minut breath breath everi rd rotat tri well issu spend time water take last breath littl flip chang direct scrambl surfac start opposit direct case gotta learn hold breath longer help slight dispar distanc wall compar breaststrok like alway perfectli right place last breath sorri sure explain correctli small issu total wreck abil flip turn understand struggl convey correctli thank',\n",
       " 'take caffein pill without build toler one contain mg per pill also take pill morn heard peopl say take hour bodi actual reap benefit take morn',\n",
       " 'marathon pr turn tri maintain fit mend broken toe next month went coupl session short pool roughli yard long past day got tire garmin said roughli yard minut idea accur hr around avg occasion made contrast tend avg sustain without much discomfort realli crank context year old max hr practic recommend resourc workout build maintain fit beginn go workout naiv know know sure better way train curiou recommend',\n",
       " 'hey guy wonder covid impact recruit recent abl get back water month shelter place current incom male senior sat weight gpa unweight gpa best sci time includ free free free back right interest mainli school anybodi advic thank advanc',\n",
       " 'went whole recruit process visit school ultim decid colleg might best decis came fact academ import get might detract everi day start regret decis although still club colleg anyon wee go',\n",
       " 'see lot peopl love make feel great quarantin think great would love hear other point view dad die year day ago stroke heart attack sure definit healthiest despit walk everywher never licens unhealthi smoker never knew till die year ago heart attack year ago mini stroke year ago uncl die massiv heart attack aunt pace maker heart issu heavili famili made decis healthier took long time quarantin push use heavili weight lift made feel strong could never mile time gone half marathon next weekend want healthiest version live past late earli reason edit wow got lot repli thought would may respond read definit enjoy hear reason',\n",
       " 'month everi nd day usual k k time km start k train plan advis look hr train problem averag hr around aerob hr train averag tri keep heart rate low result km pace walk everi start hr train alway look like someth wrong',\n",
       " 'hi guy get skinni way keep muscl come eat tri increas calori protein know anoth wsi approach train read short seri top speed way creat muscl sure look forward hear thank guy advanc',\n",
       " 'post race info suspect might one k fun actual happen summer canada mayb north america first road race sinc covid also thought everyon would interest went term physic distanc mask etc race info date august postpon due thunderstorm august th pm distanc km locat winnipeg manitoba time goal fun min achiev b fun min degre might possibl c fun finish achiev train f life long done big race read marathon sinc pre kid mean ahem year plan marathon fall time thank covid combin older kid allow long current mile per week pace around min mile k pr like year ago think count anymor marathon pr recap fun offici time use nrc app time awkward time day pm fun part craft brew end unfortun incred hot humid week car regist degre c arriv race ugh get lot humid winnipeg littl get full forc felt like degre add mandatori mask wear use buff start line uncomfort even start term covid restrict race organ great job follow current health regul case winnipeg moment risk rel low everyon wore mask begin end race limit particip look like mayb even less possibl origin date postpon due thunderstorm person assign bib colour indic wave start race wave max minut realli work space thing near anyon els partner spous pretti much whole race lineup beer poutin end either race stagger still felt like social race compar say virtual race think balanc good hot hilli winnipeg flat rout went dusti hot embank side highway pretti tri rememb cold beer wait end first mile pace hill heat kill second mile last mile somewhat compens downhil overal pain thank ks short hurt short live lastli want give shout race organ awesom swag get nice lime popsicl finish line follow pint craft brew fresh made vegetarian poutin got pair goodr sunglass hat honey stinger gel giant artisan chocol medal win total worth babysitt realli glad winnipeg covid control enough possibl hope like happen everyon soon',\n",
       " 'year pool yesterday sea first time felt extra flotat much felt didnt need kick like wear pull buoy open water kick much tire arm',\n",
       " 'use high school morn week year ago basic exercis sinc stamina extrem low decid take get exercis due money work go week would recommend get good suit goggl worri manag lap min muscl could handl tri slowli increas amount lap time focu techniqu',\n",
       " 'pick sometim around earli june help control disord eat help becom healthier person altogeth start slow mile min mile stop frequent around time week figur calori burn enough log omit enter weight map calori burn purpos coupl month later mile littl stop minut mile current calor deficit wonder log calori well would necessari burn significantli larger amount energi current eat around ish day give take ish cal also worth note f struggl restrict eat bing eat although ever sinc pick well manag track calori make sure overeat much mostli intuit eat restrict food avoid get disord mindset super restrict eat calori day lose lot weight mess menstrual cycl hair loss would track everi singl calori ate even half grape aw go back onto type eat terrifi henc initi want know much energi burn avoid strict log got situat first place question mostli goe individu use tool work better ed although feedback greatli appreci edit ad mention use mmr track',\n",
       " 'week go got complaint anyth add confess uncomplaint complaint',\n",
       " 'go schoolkid could around day injuri free fine next day care plan everyth stuff next day',\n",
       " 'littl updat start lesson trainer last sunday say def basic freestyl form told focu rotat get use roll hip also focu keep arm straight glide rather take stroke guess question week ask tip slow breath jack heart rate need take breath everi stroke want abl stay four stroke want focu fix much thing session focus rotat catch drill want add fix side breath least slow tip would mucho appreci',\n",
       " 'hi high school team never endur butterfli wonder strengthen butterfli use either water drill dri land exercis thank',\n",
       " 'like stuff stick insid ear decent headphon good headphon seem someth poke ear found good model earbud realli love find pair microphon take call',\n",
       " 'hello problem occur competit good could bodi want suffer brain limit amount exert undertaken order damag bodi brain lock bodi noth anybodi problem allow bodi releas full potenti',\n",
       " 'lot chicago love interv howev track close public use half hour drive saturday thu neighborhood problem track odd interv loop struggl keep track use jabra sport app creat custom interv workout late app work right though use provid audio coach tell new interv start could tell speed might sound like new interv start goal pace mph tell speed reach target pace sinc app work properli anymor voic coach intermitt interv place tempo slow interv way fast look app list faq tell app similar set make custom workout voic coach anyon better way track interv',\n",
       " 'race inform pomello august far kilomet goal goal descript complet minut b walk break ye c break pb minut ye split kilomet time train race sinc late januari right viru start shut everyth also fell train becam larg sedentari three month lost gain made last year start get habit late may join half marathon train program juli mostli consist recoveri weekli long tempo current week program reap benefit yet race conveni famili take trip see famili less practic race race strategi want go constant pace burn th kilomet like usual xd pre race unfortun get good qualiti sleep b b stay one big hell hole woke four feel sick forc eat least bagel could manag anyth els also book accommod wrong place drive ten kilomet event store belong suddenli hit bad case stomach pain time left bathroom three minut quick joint warm line start line race noth els could go wrong race thought sign mention pace strategi constant thought mostli flat race realiti organ chang rout previou year elev never constant would go five hundr meter flat fifti go kilomet experienc first time life feel like throw fast kilomet mostli small hill got pass almost everybodi slow first kilomet hardest thing throw towel felt aw hill help shook kilomet accept smash pb today somehow reassur feel relax know race fun kilomet end big hill everi time thought end hill climb would declin would start climb felt like tortur anyth im noth beyond km promis breakfast wait finish line kilomet thought die hill turn peopl also die began pass tonn peopl fast check watch slow kilomet unfortun pass even peopl bad mental start consid whether pass enough peopl secur place age group physic feel great k uphil train session suddenli seem like pay kilomet leg feel fine point suddenli hit dread wall convinc one lap around track left stumbl finish line minut goal time minut earlier pb thought bit silli report tbh legit rememb much normal rememb chest burn tri fast without burn fast rest blur although usual stuck train plan given late throw tantrum skip train session race realli taught must absolut go back told past would stop walk hill bonk k time felt good race except last mile could increas pace anymor much hate interv tempo right learn peopl good reason absolut learn love given circumst poor sleep poor fuel stomach pain warm list goe im almost certain could wors could raini sunni die heatstrok finish line thank rel cool cloudi still proud time make target goal break pb worth celebr next also manag win cash small race mind fifth girl cross line first age group walk usd unfortun rule cash train need go back team think treat local cheesecak next session guy think report gener use race reportr racereportr azurewebsit net tool built u bbqlay reddit com u bbqlay make great look inform race report',\n",
       " 'ivi leagu mid major minimum recommend time abl one specif one sprint breaststrok event im free answer would greatli appreci',\n",
       " 'start quarantin back march like mani other make decent progress calf start act want serious injur decid give break back june start hike instead long slow hike hill vari terrain becom great hobbi incident great train stay shape made goal least take minut walk everi day get park also lurk sub whole time absorb import go slow go fast today decid tri k organ support host virtual one abl jog entir thing without stop walk pace care kept tell slow also went fast felt like finish done rout alway use stop walk hill felt super manag jog sinc climb liter mountain want share motiv anyon els feel like go fast enough yet tldr gone sinc june k without stop',\n",
       " 'today achiev sub min kilometr next goal pot train week one week less intens midli sprain ankl three time per week also train strength thing today thought throw end howev coach gym said attempt long term goal km minut seem realli hard long train achiev decid time week winter go gym often strength train tri achiev sub next summer autumn',\n",
       " 'past winter realli start get much sign half marathon april train go excel ish mile week includ long weekend mile covid hit cancel super bum fell wagon bit got back may june felt good enough sign anoth half marathon makeup one cancel late june got sick right got better week long vacat got back mid late juli promis would start train hard half marathon got lazi train end august race come day crazi would attempt pretti decent physic shape start point train obvious bit better first start past winter lose quit bit endur strength worri time walk typic would want want perspect someth even tri main concern would injuri race alreadi paid non refund feel like give shot guy think race undertrain long longest actual half',\n",
       " 'hey get f start train train regular train shoe want buy spike train futur race idea categori train includ distanc want spike like km shoe buy regular middl distanc spike even though sometim interv thank answer',\n",
       " 'ok deal pool apart build open abl yay equip outdoor recreat kind pool flag guid backstrok kick someth could substitut kickboard probabl alreadi around apart float pretti well alreadi need ton buoyanc',\n",
       " 'earlier year train first marathon cancel week ago sinc lost motiv year went mile rel eas struggl push past im left choic continu lay around tri push risk injuri ive done number knee year advic greatli appreci',\n",
       " 'time row week min get pretti sore first practic week recov faster',\n",
       " 'hey folk r artc chat bunch folk big race big plan got blown away big problem world last month decid start littl seri peopl talk big race make special train hope next first one favorit race world thought might interest folk dipsea race peopl around sub variou incarn probabl awar love dipsea everi june truli uniqu race overli simplifi approxim seven mile trail downtown mill valley california pacif ocean stinson beach leav histori race handicap shortcut crazi stori grown year around race let start basic look map elev profil trail strava com activ see start end near sea level cross two major ridg along way turn coupl san francisco vacat stinson beach took day trip mill valley recent becom possibl thank new rail line made bet could get back inn beach foot fastest race winner still disput day tradit born next year dipsea indian name group offshoot san francisco olymp club organ first offici dipsea race rest histori handicap earli race organ decid want give anyon shot win race everi given individu handicap time time even publish local newspap race field grew becam impract know abil individu entrant race move handicap system base age gender men age fastest demograph scratch start offici start time everyon els get head start slowest group start minut scratch system year old girl year old man given year find someth someth duke last mile cours offici time race base start time scratch cours hour start ten minut earli offici time minut stair race start downtown mill valley less mile road reach base first three set stair total step climb mill valley given day find sort folk hike stair race day first bottleneck like hit bottleneck choke point rout recur problem need avoid outrun simpli accept hey sub threshold rest also speedster get vocal cri stay right pass left later race contend steep ravin step time barrel steep twisti unevenli place railroad tie step simultan tri avoid twist ankl dive ravin plenti injuri occur step year faster confid abl make ton time take step two three even four time spot shortcut year incept dipsea open cours race racer determin best rout stinson beach consensu rout along dipsea trail serv suggest rather mandat restrict start begrudgingli ad essenti three main shortcut suicid short scrambl steep slipperi dirt gravel hillsid cut yard consensu rout swoop longer descent rut veget choke hillsid elimin quarter mile one beauti part trail time beauti race day panoram shortcut seri narrow singletrack jump highway switch back away beach toward end race say extent short cut go rest shortcut close guard secret shortcut signific impact race result like one ron rahmer strong finish pioneer novel rout mill valley steep ravin new rout typic quickli regul exist registr save last pain intent race limit athlet organ shi want preserv local feel histor race way get race previou year well enough invit next year convinc enough sob stori make larg enough donat dipsea foundat organ maintain trail also provid scholarship local student buy way websit say ye take bribe appli mail one remain spot invit briber last group race dipsea post year applic websit take applic race first come first serv basi determin applic arriv post offic box mill valley post offic long time local hand deliv applic mail center tri earn spot first mill valley post offic later local usp sort center found lunch break applic day hand first dipsea registr plan dipsea alway come someth odd time race calendar remain one race everi year triathlet natur trail alway one endur sport love februari get dirt hill least week prepar plan stick trail least twice month tri get least feet got closer race go spend time hill sprint mix stair climb also want get stinson beach spend time work steep ravin descent know exactli place foot step way section trail one long term goal hefti drive though minut way depend traffic actual plan complet point vagu plan number specif workout dipsea two minut hill sprint grade repeat x tempo gradient new year downhil sprint grade get impress somewhat danger becom better downhil seem key unlock signific improv time think particularli slow descend know still lot room improv gener shape plan came offseason workout would find way schedul also tri prep number import multisport race along way work coach spent littl time discuss goal tri priorit achiev curiou hear anyon good rec steep trail workout march th race organ announc cancel race first time sinc first major race summer cancel last right pin hope reschedul duathlon nation championship still take place octob otherwis look forward next year next wait see happen du nat octob result definit either race get cancel actual particip go look want februari june next year race entri year suppos carri next year hope toe line mill valley depot june credit coupl note wrap big thank u krazyfranco cut thousand word origin version make infinit readabl local legend barri spitz written definit guid histori race book cleverli titl dipsea awesom book wrote doubl check either race websit dipsea org barri book dipseabook com',\n",
       " 'cours mcfarland good movi',\n",
       " 'soni headphon arriv spent hour pool thank tether best workout fitbit alta water friendli abl track stroke step recommend pleas say appl watch like wear watch jewelri wast money even fitbit alta went purchas clip wear around shoe walk everyday like wear bonu would tracker could track hr well part ensembl soni headphon mask snorkel tether around ankl pedomet search thank advanc suggest',\n",
       " 'hardest main set practic done exclud warmup warmdown speed endur mental effort made esspeci hard pleas share',\n",
       " 'km next march big base place alreadi current k long time month look extend beyond mayb question far would push train without blow burn km race',\n",
       " 'hey guy competit sinc year ago year alway breath right side know back muscl even right latissimu dorsi wayyyi bigger left one whole unbalanc fluid kinda fast would good idea start alway breath left side continu right side start side advic sorri english speak french ahahaha',\n",
       " 'went back last week today manag km use slower happi sorri want tell someon hope well',\n",
       " 'hello everyon typic outsid summer hit dreadmil soon snow fli covid paus gym membership month like continu outsid winter sinc never outsid exactli idea gear need keep warm post start save purchas lead also post r hope get edmonton specif recommend thank advanc',\n",
       " 'friend pretti sensit skin regularli also eczema wonder product everyon use keep skin irrit usual use aveeno face wash chlorin',\n",
       " 'hi tri varsiti next year plan bunch work summer howev gym pool close cardio anyon bodi weight exercis tip drop time second without actual abl',\n",
       " 'power interest statist would like add repertoir overkil inform howev also wanna spend foot pod altern recommend would greatli appreci ye look dc rainmak',\n",
       " 'think get pair realli like speedo vanquish look pair optic mirror goggl one fit bill swimoutlet com p sporti antifog optic mirror goggl color realli know much brand though apolog advanc best place post kind question',\n",
       " 'pictur foot imgur com ndwvj k start develop foot day ago abl keep felt annoy like rock shoe get rid four week notic fourth start irrit quit bit notic patch skin gotten lot bigger size penni plan week would abl long problem loos skin rub foot quit irrit fluid rub keep hold let go away latter buddi suggest sure even go away',\n",
       " 'hi up train recent tri get sub k make good progress long k improv tri fast ks shinplint start act done road sinc recoveri work treadmil coupl month pain free unfortun whenev pavement shin flare regardless intens think continu train treadmil road sustain treadmil affect bodi abil cope hard concret eventu make return race',\n",
       " 'second year xc school last year middl school year high school year want get watch track pace mile split total distanc anyon tell good brand current use fitbit give right stat',\n",
       " 'start mostli use c k also want tri time mile mile min knee hurt past day idk normal knee pain miss expect term pain discomfort besid sore muscl',\n",
       " 'age mom enrol lesson coach child friendli realli made experi fun skinni kid one would bodi shame lol go puberti prone stretch mark like lot would look skin look like someon sex wolverin probabl lot train pair chlorin water made skin realli dri could keep muscl gain also dri skin genet bodi timid improv jealou chick realli fast like dolphin find attract lol thu came highschool made quit busi make stop take lesson year still pretti decent friend alway compet fast one would say grate mom enrol made feel like athlet least sport good also made alot chang made tallest member famili pretti tone bodi',\n",
       " 'hey anoth day time post accomplish like share big small note need prefac accomplish someth like may accomplish proud accomplish let hear guy today',\n",
       " 'good altern instead coffe earli morn',\n",
       " 'month sinc pool across uk complet close still reopen indefinit open date anybodi nervou lack skill get back pool think pick left',\n",
       " 'know folk say big deal share person let say sooooooo nice local pool person per lane cuz covid lucki wait wait long lane open hope rule stick awhil sorri post controversi edit recreat lap competit',\n",
       " 'went today third time sinc pool reopen previou two session went sister lane peopl per lane due restrict guess everyon avoid lane today went alon share lane two first bit put probabl one fastest use pool small pool middl mostli cater older peopl alreadi peopl faster lane go two older women breast stroke head got initi annoy found quit eye open start watch three ladi faster lane notic three clearli tri pool etiquett aw kept tri stop other overtak honestli comic made realli glad slower lane pootl along two new buddi pressur lane friend go faster want pressur keep anyon good even pootl along round two lane pal still keep three musket lane splash half pool process kill p although coupl sprint realli stick p obvious care plow two lane p yeh tl dr sometim take slow good stop look like pillock edit spell',\n",
       " 'hi regularli month km around min point much left tank km week struggl increas distanc wonder increas distanc km mark ideal like join local master squad told km min pace would like refin improv techniqu happi drill know go local pool probabl year kid forgotten everyth also imagin method techniqu develop lot sinc abl get someon film today love feedback tip suggest develop refin techniqu lap time seem need long rest interv recoveri quit poor despit x week past month ideal love abl sub min sec rest km sure realist includ link video drill suggest plan train improv join local master squad would greatli appreci youtu v dbapdfkgi',\n",
       " 'littl background male start treadmil join orang theori start treadmil first type kind year start quit orang theori start outsid hope half marathon may race cancel virtual half race move septemb decid train full race cancel yet month ago came forum ask virtual full lot peopl said wait actual race full big accomplish celebr someon state go marathon birthday gave idea turn august go km th birthday go save full distanc first race start saturday park park hous first half east back along lakefront trail refil water bottl left car west second half back along trail never concern time goal marathon pace min mile aim mile long pace finish mile littl howev last mile energi end know could push littl fine day race next day sluggish littl sore success go maintain januari start marathon train program hope actual race next may',\n",
       " 'move back famili place graduat colleg recent new gym open ideal fall pool open public store sell swimsuit year round pick one use new pool',\n",
       " 'love weather lack employ lot variou beach local usual would wear wetsuit shame water warm problem scare compass jellyfish mind moon jellyfish anyth tentacl send shiver spine good way get fear someon explain realist stung feel like foolish scare',\n",
       " 'would like variat structur workout provid group workout today workout split differ skill level choos column work best find consist get rest column move level master feel free add subtract modifi anyway see fit link googl drive previou workout drive googl com drive folder thrmzbzwcvhqc vzx rnq mdyr j usp share drive googl com drive folder thrmzbzwcvhqc vzx rnq mdyr j usp share tuesday workout found monday folder thursday wednesday folder interest join master club link help find local club near usm org club usm org club note set doubl pullout push wall pull stroke break normal breast stroke imo individu medley order butterfli backstrok breaststrok freestyl fli rule breath first stroke push wall continu breath everi stroke pass flag come wall breath reach wall sprint black sprint solid color section pool lane line moder speed outsid pool lane line red black black lead color wall henc fast black build start slow get faster within given distanc strong faster moder slower fast preview redd fb klokzdf jpg width format pjpg auto webp deebdd c dc c ecd c',\n",
       " 'love love water taught never realli adjust learn techniqu area combat sport gym unfortun open yet deal sciatica type injuri month constant sciatica pain train final clear light workout great news gain pound sinc injuri set decid like start burn weight sharpen back shape sport open good total mayb minut break catch breath absolut done day hahaha luckili job physic demand realli tough workout feel great though look forward wednesday go back tri minut hah',\n",
       " 'minimalist sinc april clock mpw last week tri increas mileag week feel like closer ever use injuri feet feel sore time especi first wake lower leg realli tight spite stretch drill feel could tendon stress relat injuri base th metatars go see doctor increas mileag realli explan form look feel good cadenc solid stride consist short exert pace remain fairli consist love huarach free promot good form realli develop foot lower leg muscl sure continu train minimalist like ask barefootrun crowd month ago imagin take enthusiast convent shoe found similar situat requir move convent shoe still abl includ barefoot train',\n",
       " 'titl say need learn quickli need fast littl bit background much histori asid standard went pool beach casual reason need learn effect militari need abl yd less done lot unsur fast basic look tip suggest method routin get good well tip get access pool corona',\n",
       " 'anyon els box breath anyon unfamiliar inhal second hold second exhal second hold second instead would step exhal ect ect km day tri work toward km day alway felt good use think starv lung oxygen help cardio vascular wise anyon els use techniqu',\n",
       " 'recent got special sole fix pronat feet patellar tendon creat blister feet especi inner edg creas feet right achil tendon slower think may overcompens outer part feet may lead hope guess injuri blister go away eventu feet find way protect blister perhap remov origin shoe replac new special one thank sorri right sub',\n",
       " 'hi everyon sinc primari school abl perform terribl version front crawl never realli sinc apart play around holiday recent take young son fairli fit guy length realli tire much improv term overal techniqu think major issu breath swallow water panic etc local pool open today consid lesson yet avail covid wonder could practic term breath build confid x b thank',\n",
       " 'hi folk year sinc freshman high school season know much chang top physic chang also recov fractur ankl four year ago plate seven screw ankl bone still vigor use like get insight look buy new shoe pair asic men gel ventur may put commiss someth better ankl feel somewhat sore past year look buy best next pair shoe recent came across shoe fit guid recommend bought shoe stabil mid height also think may need look good ankl support mayb hope hear anyon recov ankl fractur insight greatli appreci thank',\n",
       " 'want give shout almost complet eras pain develop sub optim work home set even though yard long apart pool godsend pleas pleas never let summer end',\n",
       " 'hi start recent grow tire headphon decent keep fall whenev look buy wireless headphon want see guy recommend good balanc friendli good enough microphon use zoom call would love hear differ option differ pricepoint recent graduat colleg pandem made easi wallet thank advanc',\n",
       " 'race inform name solo half marathon date septemb th distanc mile locat manchest uk strava strava com activ time goal goal descript complet sub ye b sub ye split kilomet time train male year old last year casual emphasi casual week stop month year time marathon two marathon reach peak weight februari work trip us help kg struggl k minut lock start took great opportun creat solid routin drop kg yesterday mostli cico want increas per week go found realli hard day row stumbl across low hr train realli like idea slowli enjoy still supposedli see benefit convinc mostli ted talk youtub com watch v malsi mj stephen seiler benefit train mostli low intens also help lot subreddit thank mani redditor answer question base train mostli maf age target max hr bpm know massiv scientif felt great hr even slow walk first week felt like solidli aerob zone idea aerob fit improv abl increas pace whilst keep low hr less suscept injuri fatigu go bit epiphani slower make fitter thought worth short refer regularli last year would call min km high intens pace could keep km next week built distanc worri much pace week start see great improv pace hr began around min km week ago last week km averag satisfi find could faster without feel like done much work know lucki mani peopl find train take month minimum saw good result cynic could probabl argu fact increas mileag much bigger impact pace low hr train noth els slowli meant could go km month km whilst feel much fatigu everi easi pace bpm occasion week day week build km week introduc speed work though next week longest train km overal plan nearli much marathon race knew mileag want test low hr train result last month solo worri bail tired help push hold back prior pb half marathon greater manchest marathon train hard week long easi enough knowledg understand train principl pre race went nice walk lunch small dinner start wife birthday dinner night act carb load race km week eye fix hr monitor felt amaz forget miss stop go quickli tri hit min km hit hour finish time felt comfort happi km feel great endorphin rush head decid pick pace bit took min km best idea paid later race terribl pace even harder without pacemak felt good km though start lag km shortli km horribl realis nearli pm sunday forgotten bring water forgotten mask enter shop soon realis cours start feel dehydr headach appear rememb public water fountain km away rerout head period hit wall twice get bad stitch slow nearli walk pace old shoulder injuri also appear good measur grunt squeal way residenti street pm night imagin sound anyon window open close finish track pb would taken leg fall stop manag keep go km hit last mile alway magic long distanc race pain fell away manag last mile close sprint could get reach min km km cross line kept go make sure strava would regist half marathon distanc post race felt super happi hit sub hour marathon got km pb boot minut best felt anoth minut definit attempt km pb attempt next week aim minut stress enough satisfi low hr train enabl longer enjoy stay injuri free see dramat increas endur know noth revolutionari feel lot casual like assum want get faster need exclus push hard pain gain ye watch stephen seiler ted talk complet reserv mental know need introduc speed work keep improv happier made new race report gener sfdavi com racereport creat u herumph',\n",
       " 'road next local town golf cours errant shot end hit fortun bounc front kind saw come process knew someth hit chest realli hurt kept quickli realiz fortun peg head someth cours neighborhood area countri anyth one els ever clock golf ball',\n",
       " 'yo male lb marathon train year set new pr last weekend much faster think get drop weight diet pretti terribl motiv final someth split race imgur com aqk kjw feedback lot question r advancedrun decid document effort see much improv drop weight follow along youtu lz sc tzql ad know sure lose lb still strong idea much faster get',\n",
       " 'like genuin confus idk wrong',\n",
       " 'hi wonder anyon would inform plateau like would consid plateau long usual last get one thank',\n",
       " 'final work injuri unrel occur year ago readi get back pool want build gener fit level allow build yd hr workout wonder guy suggest workout help establish full bodi strength stamina',\n",
       " 'everi day mile time lost lb recent realli letharg tire leg achi spasm long good time break',\n",
       " 'may odd question odd time kid sever block lesson local ymca actual got pretti good grew low side se spectrum could never afford club team went tini school team alway love adult still confid gener execut breaststrok backstrok freestyl understand basic mechan butterfli good execut kid love got us membership indoor pool keep start get cooler outsid kid section lap lane rememb much love realli want start fit question resourc would recommend fit drill techniqu improv aim toward adult know form need work ambit turn competit triathlon athlet want right know like improv speed power water use effect exercis tia',\n",
       " 'around month team current covid practic meet week train time drop second depend event covid practic day week compar teamat day week locat meet scare left behind teamat faster stop way increas stamina speed replac two day miss get left behind',\n",
       " 'hi due corona current get session land train week supplement x min public session week struggl plan year femal main event fli free would grate suggest',\n",
       " 'would like variat structur workout provid group workout today workout split differ skill level choos column work best find consist get rest column move level master feel free add subtract modifi anyway see fit link googl drive previou workout drive googl com drive folder thrmzbzwcvhqc vzx rnq mdyr j usp share drive googl com drive folder thrmzbzwcvhqc vzx rnq mdyr j usp share tuesday workout found monday folder thursday wednesday folder interest join master club link help find local club near usm org club usm org club note set descend maintain given pace within distanc get faster work set descend time pace preview redd bahwsqqek jpg width format pjpg auto webp fd eca acaa b fb c',\n",
       " 'titl state start late may time home gave alot time spend thing gener alway lazi alway tri find excus stuff especi stuff requir bodi go overdr like realli mental healthi think way peopl monday life goe back normal work electrician labor quit rough fairli certain lazi side take start work anyon similar situat deal tip realli want end ass wast life gain weight miser like job necessarili miser thank advanc',\n",
       " 'hi hope well apologis advanc second self indulg articl focuss achiev amaz feedback convers sub min k effort earlier month want share half marathon morn long term target beat elus minut hm time barrier lot chang sinc last km post regim etc roughli still detail gear train regim histori nutshel start scratch march almost year old end garmin week half marathon train programm today hm link strava com activ overview strava com activ overview sub k link strava com activ overview strava com activ overview race inform half marathon train th august th august far mile goal goal descript complet min ye kind split mile time train littl male year old ft lb lost stone train cross countri compet school age hate track work particip physic sport activ oct ye year later train sheffield half marathon due march train went well month push hard led think defici calori vitamin doctor say want stop train week half marathon pull gut lost heart month sept nov odd everi week fallen love dec march mile final march lock non wife show interest couch k week program bought new watch gift week later bought garmin xt hr strap upgrad reliabl tomtom garmin programm new tech spark interest well new trainer motiv pick left train differ cleverli heart rate zone base lactat threshold end complet week garmin connect week train plan opt intermedi heart rate zone train plan slow first zone lower rang pick pace comfort min mile low heart rate time trial th juli week plan tester hit close beat target min km th august track achiev km interest train schedul gone depth usual day earli morn alarm goe everyday get dress ml water noth eat wee poop mandatori door without fail warm excercis start easier pace build weekli mileag rang mile per week week vari roughli follow monday easi min heart rate zone ish mile mi pace usual hit trail hill challeng focuss keep heart rate adrien post yoga afternon walk famili usual work leg usal cover mile tuesday interv train min interv vari max heart rate zone mi pace rest back heart rate zone session lap local park exactli mile length usual cover mile total start mile warm easi mile easi cool adrien post yoga wednesday easi min heart rate zone ish mile mi pace keep road pavement hill adrien post yoga thursday rest day usal cross train mountain bike ride pilat session hiit tabata session youtub afternoon walk famili usual work leg usal cover mile friday threshold hill tempo train min vari max heart rate zone mi pace rest back heart rate zone session lap local park exactli mile length unless hill use trail woodland usual cover mile total start mile warm easi mile easi cool adrien post yoga saturday favourit day easi heart rate zone long day explor find trail rout dissapear new trail coupl hour love follow littl breadcrumb trail watch distanc increas program rang mile mile cover mile hr min easi heart rate zone pace recent week mix easi pace faster race pace interv adrien post yoga sunday rest day longer min adrien yoga stretch session may famili bike ride walk train kit gear trail altra lone peak love speed session nike flex asic piranha sp fastest lightest shoe gener easi road shoe new balanc vaze rush fall apart watch garmin xt nutrit ml water unless long hour take hand gummi sweet per mile treat take one high energi gel mile take water morn cool enough uk pre race usual routin howev time ate small midget gem gummi sweet leav hous took caffein raspberri hi gel pot gummi sweet belt use suppli rout plan go target pace time today wet windi mph wind decid wait monday st august condit look favour warm today left hous set steadi tempo pace went feel race set averag steadi tempo pace first mile battl wet cold drizzl heavi gusti wind consid turn around go back bed howev mile someth click warm throughout whole traffic traffic light god everi driver seem let cross cross light work favour usual hill challeng pace pick averag pace stop target pace almost went mile know major hill complet could make hill section hill around mile caus uncomfort stitch mile focuss breath techniqu soon clear think mile knew close minut target last return leg home complet loop killer hill focusss came min second close hey target next time post race big drink water electrolyt shower big oatmeal breakfast famili walk today help eas ach leg beer afternoon unappreci next well finish fantast week garmin programm thoroughli enjoy recommend heart rate train programm thrill see pace go heart rate real boost cours put mile key easier week easi pace return similar schedul detail next goal secur solid sub min hm perhap minut next target may also focu get k time speed workout got far thank read self focuss articl question would like advic pleas feel free reach feel free follow strava good connect thank respond km post thank support strava follow awesom strava com athlet strava com athlet stay safe everyon happi martin report gener use race reportr racereportr azurewebsit net tool built u bbqlay reddit com u bbqlay make great look inform race report',\n",
       " 'hi thank look post use cross countri team fastest time min per mile per km averag would min mile per km mile per week realli enjoy got injuri year ago took break start month ago stuck min mile per km know go take get back shape realli hate right km mile day week say moder hard extrem definit easi wonder slow mayb min per mile enjoy miss feel invinc tire breath hate everi second eventu want rejoin cross countri team faster ultim goal healthi enjoy ps never listen anyth consid think listen someth help enjoy thank read long post thank suggest tldr use love got injur better hate think slow listen podcast',\n",
       " 'guy use trt testosteron replac therapi help hurt thank',\n",
       " 'titl suggest week tuesday bike walk degre celciu citi humid point even walk hurt bare temperatur stay till btw work midnight work get fire lol x b suppos cool degre tuesday first time week expect major loss progress walk k step almost everyday bike mayb still good k approx minut new start mid june x b thank',\n",
       " 'unsubscrib strava realli miss rout make tool could draw approxim rout finger creat actual rout also nice play rout googl map accur strava rout come show current locat rout weird given phone garmin connect btw think rout builder tool',\n",
       " 'consist month troubl min continu coupl week ago stop walk everi even easi min anyon everi sudden declin perform figur remain consist taken extend break',\n",
       " 'brother keep beat race learn week ago hold second hold second practic hold breath even come close second tip',\n",
       " 'open water coupl month start work breaststrok issu sinc watch underwat entir time gp work anyon awar better watch use appl watch seri work though doubt app let put distanc manual gener pretti good idea far went drive crazi get water minut say gone yard',\n",
       " 'highschool level coach potenti week season year train method peopl went gave quick result obvious nobodi go drop massiv time short train figur would fun question everyon thought introduc resist earli experienc hope develop power late season tri focu shorter distanc interv train leagu cap free term distanc alt stroke higher major team sprint tl dr train seen done got result effici',\n",
       " 'outsid sinc corona start previous use ellipt treadmil gym plu weight overal lost lb sinc last juli shed part bodi one would expect notic recent get pain arch feet sure plantar fascia realiz shoe feel littl bit bigger usual tight think might fat loss reduc inflamm feet due weight loss notic come back take long break gener present otherwis walk around hous anyon els experienc thing weight loss made go shoe size',\n",
       " 'back everyth want know afraid ask rule road inspir eric twing fine work r fit upvot either good dumb question sort question new get love experienc runnitor someth good question answer add faq post question stupid otherwis get answer anyon post question commun whole invit encourag provid answer mani question get submit late week get lot action question get answer feel free post alway sure read faq first also handi dandi search bar right know also use googl search runnit use limit site reddit com r sure check back often question get post throughout day sort comment new sure newer question get love well',\n",
       " 'hello beginn post f bmi fyi recent up mile week mile everi day almost mile week mile time week although feel fine throughout feel fatigu day mile feel sleepi focu throughout day thought might get enough protein eat protein help fatigu anybodi els experi sleepi drowsi bc recent start bodi adjust yet like know tip avoid feel sleepi thank',\n",
       " 'anyon recommend long last sunscreen long often stop put sunscreen least even sure effect sinc sweati time other handl',\n",
       " 'hey one know isl season fall think seen offici statement yet',\n",
       " 'hi year old amateur practic train group school year due pandem workout home bodi weight spring past month sea skinni person bodi reach advanc form recent howev session realiz could forc enough normal pace hour first mostli sprint get half hour feel effici sometim think half hour short understand limit bodi go beyond motiv develop effici program without coach alon especi sea distanc cannot estim thank much',\n",
       " 'sinc gp watch optic hr sensor struggl get decent heart rate measur half year ago therefor upgrad chest strap still get reliabl result often measur hr shoot measur make sens also like feel strap around chest went back wrist measur experi bit seem stumbl upon easi fix worth share trick strap gp watch higher underarm wrap dark wrist band around watch achiev two thing hr sensor get press firmli skin stop shake move stray light optic sensor get avoid work like charm downsid lift wrist band order see info watch face small price pay get decent hr data flip side side benefit look less frequent watch feel keen hear work well imgur com fyc ikm imgur com fyc ikm',\n",
       " 'hi start competit freshman year high school sophomor year got time freshman year fast free free free fli',\n",
       " 'would like variat structur workout provid group workout today workout split differ skill level choos column work best find consist get rest column move level master feel free add subtract modifi anyway see fit link googl drive previou workout drive googl com drive folder thrmzbzwcvhqc vzx rnq mdyr j usp share drive googl com drive folder thrmzbzwcvhqc vzx rnq mdyr j usp share interest join master club link help find local club near usm org club usm org club note set rotat kick butterfli kick back breast free fli backstrok kick breast free fli back breaststrok kick free fli back breast freestyl kick rotat stroke format rotat kick stroke instead kick preview redd h b jy b jpg width format pjpg auto webp bb f eac c cee eaebd f',\n",
       " 'recent start may quarantin mostli pavement road park town sinc live citi heard trail sound interest want bit info trail get trail differ need special equip difficult thank advanc',\n",
       " 'hello r took quarantin gym got close first around mid march km never time realli start get august virtual montreal half marathon gym back open find back everyday use day week summer almost entir stop yet go first septemb wonder peopl cold countri get winter canada degre celsiu come topic countri find hoodi sweatpant everyday gear need keep winter manag time sinc work day univers indoor track see hour thing without get entir bore help appreci may want',\n",
       " 'sci fli split free time practic today curiou',\n",
       " 'alway weak spot deni restart pool train slowli sinc back februari frequent open water back time promis would focu improv kick compar buddi one slowest kicker one fastest overal like speedboat close drown figur speak look best advic come improv flutter kick want spend pool time effici rel limit x min week plu hour open water current',\n",
       " 'eye ball garmin guy use',\n",
       " 'use realli decent shape cross countri danc theatr pole vault track alway busi someth physic alway felt realli good bodi quarantin hit end realli bad place mental rare left room lost year muscl decid pick would cross countri season graduat last year motiv worst shape year get morn work discourag use abl minut mile k embarrass take minut two mile anyon experienc use sourc joy keep disappoint know take serious took much time realli hard',\n",
       " 'recent found ear would guess fairli moder form doctor told ear canal swollen pretti good gave ear drop antiobiot take never anyon may long take usual get better telltal sign heal pain unabl realli chew anyth drive insan',\n",
       " 'subscrib lot post come everyday often repeat question previous ask cover faq mind post place question especi may deserv thread hope success help lower clutter repeat post alway forget check faq reddit com r wiki faq pleas take advantag search bar googl subreddit limit search googl com search q url areddit com fr frun search term',\n",
       " 'im deep samsung eco system look budget track devic lockdown use moov tracker sync pain realli like devic wonder someon use devic could tell good track mayb even samsung tracker',\n",
       " 'went im breaststrok free push',\n",
       " 'hey folk look theme audiobook train guy suggest',\n",
       " 'brother got home practic tri settl debat brother think fun activ mom think drill',\n",
       " 'last year hs f wingspan everyon alway told great sprinter reason alway end im want drop second ik lot lol best strategi breath rate think push stroke rate extent without lose qualiti stroke',\n",
       " 'hypothesi bend occur natur make heart effici pump blood around bodi noth breath amount oxygen air alreadi suffici especi person condit alreadi hyperventil transport oxygen bodi via blood effici compress posit heart requir less forc move blood supin amaz shape whenev bend end long inevit coach experienc say stand reason bend somehow bad well prove wrong',\n",
       " 'mull return tri figur metric want see place master team limit practic last week particip logic town pick new case day week icu bed fill past normal capac coupl week ago bed steadili increas avoid non essenti activ limit exposur reduc likelihood accid pool pretti much land need see three thing happen return pool first rate new case drop call signific reduct day avg next work open offic build back mega corp think safe us near lastli univers pool normal open look good front conserv approach someth someth good herd make feel right curios criteria hop back wait',\n",
       " 'tri blow nose water brain react swallow blow air younger could fine cant anyth stop',\n",
       " 'hey everyon anoth new lockdown follow sub religi past month stori mil stay part ok howev last night cousin year old daughter swing place cuppa cousin daughter minut hear mention daughter school mil ask said sore leg phew thought ventur room say hello ask cousin repli great ask tell horribl cold rememb insan covid deni moron great long stori short care covid wise paranoid said whatev quickli feel surg adrenalin seriou fight flight feel moment know go scream cri straight punch selfish ignor b tard current sit si next elderli mil hit anoth option storm room aggress lace new brook ghost left got street shake cri start km hr min later calm angri calm next morn ankl calv littl achey fine gone like would call everi mutual acquaint woman told done probabl would made utter psycho process also probabl slept would sit migrain fog right instead sent group text left sorri stupidli long post realli want share love stay safe edit thank much love comment award mum semi profession athlet whole life alway said commun fill nicest level head good humour peopl find lot realli prove',\n",
       " 'use marathon thought day gone covid came along cue endless month mile week sightse wilder without speed session weekli race end injuri free base month plu worth weekli long increas natur week back mile first time year even plan far kind kept go two week touch wood first actual marathon real peopl without weird lockdown world would never happen old race fit mental would brought usual bout low energi injuri speed probabl best month normal marathon train schedul plan month go giant peak follow taper week younger fine pre covid still gone older one say avoid go much longer period consist base',\n",
       " 'warm x pre set x x paddl head x underwat fast good underwat main set fin need x straight moder fist drill x hard effort x afap kick x streamlin kick snorkel x afap board kick',\n",
       " 'long time year regularli sinc year non competit team went time week time week right actual eat time use spend road cycl fine enjoy feel get water better actual also huge enjoy watch great techniqu idea tackl butterfli soon still feel comfort tri front other stupid know anyway tri explain mani facet sport love much friend medit feel water breath rhythm master element suppos great impact bodi etc etc love',\n",
       " 'would monofin help better form start dolphin kick edit recommend good one shoe size ca',\n",
       " 'pool allow minut session includ chang due covid restrict go day week want get best session someon give rundown tri fit session get back everyth need drill mayb exampl would help well know in out creat train session thank advanc',\n",
       " 'corona start lockdown began start get back soccer big time adher decent diet month train first sub k mention start train soccer bicycl quit bit last year bicycl roughli kilomet year bicycl km mainli start train soccer bicycl first k minut person info year old male cm kg lb plan day soccer train wont bother detail plyometr day soccer train upper bodi workout day soccer train interv sprint repeat time minut break repeat time k would swap around everi cycl day rest repeat roughli month think worthwil mention restday day small pain right shoulder luckili gone day diet wasnt anyth dial eat roughli k calori calori consit g protein g fat peopl tell much seen gain much fat g carbohydr littl know ofcours drink plenti water drink alcohol month soda water smoothi supplement omega pill multi vitamin protein whey creatin strava activ strava com activ strava com activ',\n",
       " 'learn month ago pre covid realli get start practic activ six week ago pool open lap found breath realli quickli shape ten pound could lose know weight realli factor abl pretti bad asthma trigger mostli cardio notic lung capac shit even outsid water lol breath everi stroke still stop like everi two lap abl start basic breath leg get tire tri slowli go longer without breath break exampl two lap take minut two catch breath anoth set two lap repeat time step outsid pool tan recov min recov ensur asthma attack two lap take minut two recov etc normal moder sever asthma get better know beginn build stamina feel littl differ breath difficulti tri exercis control rate exhal anyth els would help',\n",
       " 'constantli get time mid whenev compet big meet cant somehow break second barrier im realli motiv get still seem reach moment experienc breaststrok feedback appreci break second barrier',\n",
       " 'realli bad kick back streamlin honestli idea iron enough one fatest peopl group come regular stroke free fli kick board drill almost alway finish least third everyon wall howev come kick back streamlin horribl slow alway finish dead last behind everybodi els lot time miss interv find easi back streamlin underwat backstrok super slow surfac matter straight tri keep leg matter much tri use hip matter much tri life head back chest anybodi els',\n",
       " 'hi everyon complet still dive like start peopl tri teach kid scare achiev anyth someth learn think citi pool would peopl train feel bit ridicul also feel ridicul know dive sooo thank',\n",
       " 'current aqi rate area primarili due fire pm safe mile air pollut level highest aqi',\n",
       " 'hi adult beginn tri improv freestyl increas comfort actual could use help learn kid alway fear water never got much better backstrok took beginn lesson last year feel total fine wall kickboard etc still feel comfort put togeth open water definit lost fear know tread sinc backstrok pretti decent still issu master freestyl lose fear problem mainli littl unus scare put face water actual know breath put face fine practic wall put togeth go stroke well open eye water brain panic get littl messi flaili stand hate brain bc scare drown foot water think water splash face throw great keep hip leg sink littl feel exhaust arm noth bodi leg lap would kickboard right tool help tombston shape one someth like fini align board think stroke arm face posit mechan good enough yet pool buoy definit wear goggl next would love advic',\n",
       " 'sup month total mile nrc need one mile time atleast meet standard age leadership posit meet curl up push standard eas get excel score though weak like chang fastest record mile time want much faster follow routin fine feel like realli improv much like fair start mile without stop closer end mile start go pretti slow sluggish pace ish pace even sometim first half mile get realli tough though keep go push far soon push enough athlet build tldr beginn faster mile build better lung capac workout help',\n",
       " 'hello brand new sub use quit bit kid approxim year consist age sinc bare fiance purchas hous come wide deep round ground pool would like wade would like extend period time use exercis believ would realli abl effici lap pool think purchas har could stationari also read lot neg comment anyon give good advic use pool lose weight exercis',\n",
       " 'subscrib lot post come everyday often repeat question previous ask cover faq mind post place question especi may deserv thread hope success help lower clutter repeat post alway forget check faq reddit com r wiki faq pleas take advantag search bar googl subreddit limit search googl com search q url areddit com fr frun search term',\n",
       " 'found nipguard work wonder prevent chafe nippl dislik fact shell everi week cheaper ideal reusabl altern',\n",
       " 'post train past week provid context find help like train previou week like feel free comment peopl train accomplish thread',\n",
       " 'basic second wave covid pool open close lost progress club basic gone bust team mean longer get dryland set wait least anoth week pool reopen dryland set mean time yr kg cm best stroke fli state nation squad',\n",
       " 'notic practic lot peopl super fast practic set come sprint set block much slower also want know get practic improv better sprint everi set go slower work techniqu thank',\n",
       " 'like almost everyon ive month done almost exercis apart walk pool reopen around th septemb first lesson privat th delay th id like concentr fli flipturn lesson think week enough build fit back im think week tight especi sinc pool havent releas timet work yet',\n",
       " 'happi abl get back pool month closur']"
      ]
     },
     "execution_count": 24,
     "metadata": {},
     "output_type": "execute_result"
    }
   ],
   "source": [
    "X_test_text"
   ]
  },
  {
   "cell_type": "code",
   "execution_count": 20,
   "metadata": {},
   "outputs": [],
   "source": [
    "vectorizer = CountVectorizer(analyzer = \"word\",\n",
    "                             tokenizer = None,\n",
    "                             preprocessor = None,\n",
    "                             stop_words = None,\n",
    "                             max_features = 5000)\n",
    "X_train_features = vectorizer.fit_transform(X_train_text)\n",
    "X_test_features = vectorizer.transform(X_test_text)"
   ]
  },
  {
   "cell_type": "code",
   "execution_count": 21,
   "metadata": {},
   "outputs": [
    {
     "data": {
      "text/plain": [
       "['aa',\n",
       " 'aac',\n",
       " 'aad',\n",
       " 'aautomoder',\n",
       " 'ab',\n",
       " 'abandon',\n",
       " 'abdomen',\n",
       " 'abdomin',\n",
       " 'abf',\n",
       " 'abil',\n",
       " 'abl',\n",
       " 'ablaz',\n",
       " 'abnorm',\n",
       " 'abras',\n",
       " 'abrupt',\n",
       " 'absenc',\n",
       " 'absolut',\n",
       " 'abstain',\n",
       " 'abt',\n",
       " 'abund']"
      ]
     },
     "execution_count": 21,
     "metadata": {},
     "output_type": "execute_result"
    }
   ],
   "source": [
    "vocab = vectorizer.get_feature_names()\n",
    "vocab[:20]"
   ]
  },
  {
   "cell_type": "code",
   "execution_count": null,
   "metadata": {},
   "outputs": [],
   "source": [
    "X_test_features.shape"
   ]
  },
  {
   "cell_type": "code",
   "execution_count": 21,
   "metadata": {
    "scrolled": true
   },
   "outputs": [
    {
     "data": {
      "text/plain": [
       "(1200, 5000)"
      ]
     },
     "execution_count": 21,
     "metadata": {},
     "output_type": "execute_result"
    }
   ],
   "source": [
    "X_train_features.shape"
   ]
  },
  {
   "cell_type": "code",
   "execution_count": 22,
   "metadata": {
    "scrolled": true
   },
   "outputs": [
    {
     "data": {
      "image/png": "[encoded data removed]",
      "text/plain": [
       "<Figure size 720x720 with 1 Axes>"
      ]
     },
     "metadata": {
      "needs_background": "light"
     },
     "output_type": "display_data"
    }
   ],
   "source": [
    "common_words = pd.DataFrame(X_train_features.toarray(), columns = vocab).sum().sort_values(ascending = False)\n",
    "\n",
    "wordcloud = WordCloud(max_font_size=70,\n",
    "                      max_words=100,\n",
    "                      background_color=\"black\",\n",
    "                      colormap='Paired')\n",
    "wordcloud.generate_from_frequencies(frequencies=common_words)\n",
    "plt.figure(figsize = (10,10))\n",
    "plt.imshow(wordcloud, interpolation=\"bilinear\")\n",
    "plt.axis(\"off\")\n",
    "plt.show()"
   ]
  },
  {
   "cell_type": "markdown",
   "metadata": {},
   "source": [
    "# Creating a Base Logit Model  "
   ]
  },
  {
   "cell_type": "code",
   "execution_count": 23,
   "metadata": {},
   "outputs": [
    {
     "name": "stdout",
     "output_type": "stream",
     "text": [
      "Accuracy score for Train data set: 0.9991666666666666\n",
      "Accuracy score for Test data set: 0.8533333333333334\n"
     ]
    }
   ],
   "source": [
    "# Instantiate logistic regression model.\n",
    "lr = LogisticRegression(solver = 'lbfgs', max_iter = 5000)\n",
    "\n",
    "# Fit model to training data.\n",
    "lr.fit(X_train_features, y_train)\n",
    "\n",
    "# Evaluate model on training data.\n",
    "print('Accuracy score for Train data set:',lr.score(X_train_features, y_train))\n",
    "\n",
    "# Evaluate model on testing data.\n",
    "print('Accuracy score for Test data set:', lr.score(X_test_features, y_test))"
   ]
  },
  {
   "cell_type": "code",
   "execution_count": 24,
   "metadata": {},
   "outputs": [
    {
     "name": "stdout",
     "output_type": "stream",
     "text": [
      "Specificity: 0.8333\n",
      "Sensitivity: 0.8733\n"
     ]
    }
   ],
   "source": [
    "preds = lr.predict(X_test_features)\n",
    "tn, fp, fn, tp = confusion_matrix(y_test, preds).ravel()\n",
    "\n",
    "\n",
    "print('Specificity:', round(tn / (tn + fp),4))\n",
    "print('Sensitivity:', round(tp / (tp + fn),4))"
   ]
  },
  {
   "cell_type": "code",
   "execution_count": 25,
   "metadata": {
    "scrolled": true
   },
   "outputs": [
    {
     "data": {
      "image/png": "[encoded data removed]",
      "text/plain": [
       "<Figure size 936x576 with 1 Axes>"
      ]
     },
     "metadata": {
      "needs_background": "light"
     },
     "output_type": "display_data"
    }
   ],
   "source": [
    "fig, ax = plt.subplots(figsize=(13, 8))\n",
    "plot_roc_curve(lr, X_test_features, y_test, ax = ax)\n",
    "plt.legend(prop={\"size\":20});"
   ]
  },
  {
   "cell_type": "markdown",
   "metadata": {},
   "source": []
  },
  {
   "cell_type": "markdown",
   "metadata": {},
   "source": [
    "***\n",
    "# Using Different Transformers With Logit Regression"
   ]
  },
  {
   "cell_type": "markdown",
   "metadata": {},
   "source": [
    "## CountVectorizer Logistic Regression"
   ]
  },
  {
   "cell_type": "code",
   "execution_count": null,
   "metadata": {},
   "outputs": [],
   "source": [
    "# Setting pipeline for two stages\n",
    "cvec_lr = Pipeline([\n",
    "    ('cvec', CountVectorizer()),\n",
    "    ('lr', LogisticRegression(solver = 'lbfgs', max_iter = 5000))\n",
    "])\n",
    "\n",
    "pipe_params = {\n",
    "    'cvec__max_features': [3000, 4000, 5000],\n",
    "    'cvec__min_df': [4, 5, 6],\n",
    "    'cvec__max_df': [.5 , .6, .7],\n",
    "    'cvec__ngram_range': [(1,1), (1,2)]\n",
    "}\n",
    "\n",
    "gs_cvec_lr = GridSearchCV(cvec_lr, # what object are we optimizing?\n",
    "                  param_grid=pipe_params, # what parameters values are we searching?\n",
    "                  cv=5) # 5-fold cross-validation.\n",
    "t0 = time()\n",
    "gs_cvec_lr.fit(X_train_text, y_train)\n",
    "cvec_test_time = time() - t0\n",
    "print('Best CVEC Parameters:', gs_cvec_lr.best_estimator_[0])\n",
    "print('Fit time:  %0.3fs' % cvec_test_time);"
   ]
  },
  {
   "cell_type": "markdown",
   "metadata": {},
   "source": [
    "## TFIDVectorizer Logistic Regression"
   ]
  },
  {
   "cell_type": "code",
   "execution_count": null,
   "metadata": {
    "scrolled": true
   },
   "outputs": [],
   "source": [
    "# Setting pipeline for two stages\n",
    "tfid_lr = Pipeline([\n",
    "    ('tfid', TfidfVectorizer()),\n",
    "    ('lr', LogisticRegression(solver = 'lbfgs', max_iter = 5000))\n",
    "])\n",
    "\n",
    "pipe_params = {\n",
    "    'tfid__max_features': [3000, 4000, 5000],\n",
    "    'tfid__min_df': [3, 4, 5],\n",
    "    'tfid__max_df': [.2, .3, .4],\n",
    "    'tfid__ngram_range': [(1,1), (1,2)]\n",
    "}\n",
    "\n",
    "gs_tfid_lr = GridSearchCV(tfid_lr, # what object are we optimizing?\n",
    "                  param_grid=pipe_params, # what parameters values are we searching?\n",
    "                  cv=5) # 5-fold cross-validation.\n",
    "t0 = time()\n",
    "gs_tfid_lr.fit(X_train_text, y_train)\n",
    "tfid_test_time = time() - t0\n",
    "print('Best TFID Parameters:',gs_tfid_lr.best_estimator_[0])\n",
    "print('Fit time:  %0.3fs' % tfid_test_time);"
   ]
  },
  {
   "cell_type": "markdown",
   "metadata": {},
   "source": [
    "## HashingVectorizer Logistic Regression"
   ]
  },
  {
   "cell_type": "code",
   "execution_count": null,
   "metadata": {},
   "outputs": [],
   "source": [
    "# Setting pipeline for two stages\n",
    "hash_lr = Pipeline([\n",
    "    ('hash', HashingVectorizer()),\n",
    "    ('lr', LogisticRegression(solver = 'lbfgs', max_iter = 5000))\n",
    "])\n",
    "\n",
    "pipe_params = {\n",
    "    'hash__n_features': [1000, 2000, 3000, 4000, 5000],\n",
    "    'hash__ngram_range': [(1,1), (1,2)]\n",
    "}\n",
    "\n",
    "gs_hash_lr = GridSearchCV(hash_lr, # what object are we optimizing?\n",
    "                  param_grid=pipe_params, # what parameters values are we searching?\n",
    "                  cv=5) # 5-fold cross-validation.\n",
    "\n",
    "t0 = time()\n",
    "gs_hash_lr.fit(X_train_text, y_train)\n",
    "hash_test_time = time() - t0\n",
    "print('Best HASH Parameters:', gs_hash_lr.best_estimator_[0])\n",
    "print('Fit time:  %0.3fs' % hash_test_time);"
   ]
  },
  {
   "cell_type": "markdown",
   "metadata": {},
   "source": [
    "# R2 Scores & ROC AUC Plot of Different Vectorizers with Logit"
   ]
  },
  {
   "cell_type": "code",
   "execution_count": null,
   "metadata": {
    "scrolled": true
   },
   "outputs": [],
   "source": [
    "print('CVEC LogReg Train Score:', gs_cvec_lr.best_score_)\n",
    "print('CVEC LogReg Test Score:', gs_cvec_lr.score(X_test_text,y_test))\n",
    "print('CVEC Fit Time:', cvec_test_time)\n",
    "print('-'*5)\n",
    "print('TFID LogReg Train Score:', gs_tfid_lr.best_score_)\n",
    "print('TFID LogReg Test Score:', gs_tfid_lr.score(X_test_text,y_test))\n",
    "print('TFID Fit Time:', tfid_test_time)\n",
    "print('-'*5)\n",
    "print('HASH LogReg Train Score:', gs_hash_lr.best_score_)\n",
    "print('HASH LogReg Test Score:', gs_hash_lr.score(X_test_text,y_test))\n",
    "print('HASH Fit Time:', hash_test_time)"
   ]
  },
  {
   "cell_type": "code",
   "execution_count": null,
   "metadata": {
    "scrolled": true
   },
   "outputs": [],
   "source": [
    "fig, ax = plt.subplots(figsize=(13, 8))\n",
    "cvec_lr_disp = plot_roc_curve(gs_cvec_lr, X_test_text, y_test, name = 'CVEC LR', ax = ax)\n",
    "tfid_lr_disp = plot_roc_curve(gs_tfid_lr, X_test_text, y_test, name = 'TFID LR', ax = ax)\n",
    "hash_lr_disp = plot_roc_curve(gs_hash_lr, X_test_text, y_test, name = 'HASH LR', ax = ax)\n",
    "plt.legend(prop={\"size\":20});"
   ]
  },
  {
   "cell_type": "markdown",
   "metadata": {},
   "source": [
    "# Testing a Combination of TF-IDF and Alternative Models\n"
   ]
  },
  {
   "cell_type": "markdown",
   "metadata": {},
   "source": [
    "## TFIDVectorizer KNeighborsClassifier"
   ]
  },
  {
   "cell_type": "code",
   "execution_count": null,
   "metadata": {
    "scrolled": true
   },
   "outputs": [],
   "source": [
    "# Setting pipeline for two stages\n",
    "tfid_knn = Pipeline([\n",
    "    ('tfid', TfidfVectorizer()),\n",
    "    ('knn', KNeighborsClassifier())\n",
    "])\n",
    "\n",
    "pipe_params = {\n",
    "    'tfid__max_features': [1000, 2000],\n",
    "    'tfid__min_df': [2, 3],\n",
    "    'tfid__max_df': [.2, .3],\n",
    "    'tfid__ngram_range': [(1,1), (1,2)],\n",
    "    'knn__n_neighbors': [10,15],\n",
    "    'knn__p': [1,2]\n",
    "}\n",
    "\n",
    "gs_tfid_knn = GridSearchCV(tfid_knn, # what object are we optimizing?\n",
    "                  param_grid=pipe_params, # what parameters values are we searching?\n",
    "                  cv=5) # 5-fold cross-validation.\n",
    "\n",
    "t0 = time()\n",
    "gs_tfid_knn.fit(X_train_text, y_train)\n",
    "knn_test_time = time() - t0\n",
    "print('Best KNN Parameters:', gs_tfid_knn.best_estimator_)\n",
    "print('Fit time:  %0.3fs' % knn_test_time);"
   ]
  },
  {
   "cell_type": "markdown",
   "metadata": {},
   "source": [
    "## TFIDVectorizer MultinomialNB"
   ]
  },
  {
   "cell_type": "code",
   "execution_count": null,
   "metadata": {
    "scrolled": true
   },
   "outputs": [],
   "source": [
    "# Setting pipeline for two stages\n",
    "tfid_nb = Pipeline([\n",
    "    ('tfid', TfidfVectorizer()),\n",
    "    ('nb', MultinomialNB())\n",
    "])\n",
    "\n",
    "pipe_params = {\n",
    "    'tfid__max_features': [1000,2000,3000],\n",
    "    'tfid__min_df': [1, 2, 3],\n",
    "    'tfid__max_df': [.3, .4, .5],\n",
    "    'tfid__ngram_range': [(1,1), (1,2)],\n",
    "    'nb__alpha': list(np.linspace(0.1,1,5))\n",
    "}\n",
    "\n",
    "gs_tfid_nb = GridSearchCV(tfid_nb, # what object are we optimizing?\n",
    "                  param_grid=pipe_params, # what parameters values are we searching?\n",
    "                  cv=5) # 5-fold cross-validation.\n",
    "\n",
    "t0 = time()\n",
    "gs_tfid_nb.fit(X_train_text, y_train)\n",
    "nb_test_time = time() - t0\n",
    "print('Best NB Parameters:', gs_tfid_nb.best_estimator_)\n",
    "print('Fit time:  %0.3fs' % nb_test_time);"
   ]
  },
  {
   "cell_type": "markdown",
   "metadata": {},
   "source": [
    "## TFIDVectorizer DecisionTreeClassifier"
   ]
  },
  {
   "cell_type": "code",
   "execution_count": null,
   "metadata": {
    "scrolled": false
   },
   "outputs": [],
   "source": [
    "# Setting pipeline for two stages\n",
    "tfid_cart = Pipeline([\n",
    "    ('tfid', TfidfVectorizer()),\n",
    "    ('cart', DecisionTreeClassifier())\n",
    "])\n",
    "\n",
    "pipe_params = {\n",
    "    'tfid__max_features': [1000, 2000],\n",
    "    'tfid__min_df': [2, 3],\n",
    "    'tfid__max_df': [.3, .4],\n",
    "    'tfid__ngram_range': [(1,1), (1,2)],\n",
    "    'cart__min_samples_split': [100 ,200, 300],\n",
    "    'cart__ccp_alpha': [0, 0.001]\n",
    "}\n",
    "\n",
    "gs_tfid_cart = GridSearchCV(tfid_cart, # what object are we optimizing?\n",
    "                  param_grid=pipe_params, # what parameters values are we searching?\n",
    "                  cv=5) # 5-fold cross-validation.\n",
    "\n",
    "t0 = time()\n",
    "gs_tfid_cart.fit(X_train_text, y_train)\n",
    "cart_test_time = time() - t0\n",
    "print('Best CART Parameters:', gs_tfid_cart.best_estimator_)\n",
    "print('Fit time:  %0.3fs' % cart_test_time);"
   ]
  },
  {
   "cell_type": "markdown",
   "metadata": {},
   "source": [
    "## TFIDVectorizer BaggingClassifier"
   ]
  },
  {
   "cell_type": "code",
   "execution_count": null,
   "metadata": {
    "scrolled": true
   },
   "outputs": [],
   "source": [
    "# Setting pipeline for two stages\n",
    "tfid_bag = Pipeline([\n",
    "    ('tfid', TfidfVectorizer()),\n",
    "    ('bag', BaggingClassifier())\n",
    "])\n",
    "\n",
    "pipe_params = {\n",
    "    'tfid__max_features': [2000, 3000],\n",
    "    'tfid__min_df': [2, 3, 4],\n",
    "    'tfid__max_df': [.3, .4, .5],\n",
    "    'tfid__ngram_range': [(1,1), (1,2)]\n",
    "}\n",
    "\n",
    "gs_tfid_bag = GridSearchCV(tfid_bag, # what object are we optimizing?\n",
    "                  param_grid=pipe_params, # what parameters values are we searching?\n",
    "                  cv=5) # 5-fold cross-validation.\n",
    "t0 = time()\n",
    "gs_tfid_bag.fit(X_train_text, y_train)\n",
    "bag_test_time = time() - t0\n",
    "print('Best BAG Parameters:', gs_tfid_bag.best_estimator_)\n",
    "print('Fit time:  %0.3fs' % bag_test_time);"
   ]
  },
  {
   "cell_type": "markdown",
   "metadata": {},
   "source": [
    "## TFIDVectorizer ADABoostClassifier"
   ]
  },
  {
   "cell_type": "code",
   "execution_count": null,
   "metadata": {
    "scrolled": true
   },
   "outputs": [],
   "source": [
    "# Setting pipeline for two stages\n",
    "tfid_ada = Pipeline([\n",
    "    ('tfid', TfidfVectorizer()),\n",
    "    ('ada', AdaBoostClassifier())\n",
    "])\n",
    "\n",
    "pipe_params = {\n",
    "    'tfid__max_features': [2000, 3000],\n",
    "    'tfid__min_df': [3, 4],\n",
    "    'tfid__max_df': [.3, .4],\n",
    "    'ada__n_estimators': [50,100],\n",
    "    'ada__learning_rate': [0.9, 1]\n",
    "}\n",
    "\n",
    "gs_tfid_ada = GridSearchCV(tfid_ada, # what object are we optimizing?\n",
    "                  param_grid=pipe_params, # what parameters values are we searching?\n",
    "                  cv=5) # 5-fold cross-validation.\n",
    "t0 = time()\n",
    "gs_tfid_ada.fit(X_train_text, y_train)\n",
    "ada_test_time = time() - t0\n",
    "print('Best ADABoost Parameters:', gs_tfid_ada.best_estimator_)\n",
    "print('Fit time:  %0.3fs' % ada_test_time);"
   ]
  },
  {
   "cell_type": "markdown",
   "metadata": {},
   "source": [
    "### R2 Scores & ROC AUC Plots of the Models"
   ]
  },
  {
   "cell_type": "code",
   "execution_count": null,
   "metadata": {},
   "outputs": [],
   "source": [
    "print(f'TFID LogReg Train Score:', gs_tfid_lr.best_score_)\n",
    "print(f'TFID LogReg Test Score:', gs_tfid_lr.score(X_test_text,y_test))\n",
    "print(f'LogReg Fit Time:', tfid_test_time)\n",
    "print('-'*5)\n",
    "print(f'TFID KNN Train Score:', gs_tfid_knn.best_score_)\n",
    "print(f'TFID KNN Test Score:', gs_tfid_knn.score(X_test_text,y_test))\n",
    "print(f'KNN Fit Time:', knn_test_time)\n",
    "print('-'*5)\n",
    "print(f'TFID NB Train Score:', gs_tfid_nb.best_score_)\n",
    "print(f'TFID NB Test Score:', gs_tfid_nb.score(X_test_text,y_test))\n",
    "print(f'NB Fit Time:', nb_test_time)\n",
    "print('-'*5)\n",
    "print(f'TFID CART Train Score:', gs_tfid_cart.best_score_)\n",
    "print(f'TFID CART Test Score:', gs_tfid_cart.score(X_test_text,y_test))\n",
    "print(f'CART Fit Time:', cart_test_time)\n",
    "print('-'*5)\n",
    "print(f'TFID BAG Train Score:', gs_tfid_bag.best_score_)\n",
    "print(f'TFID BAG Test Score:', gs_tfid_bag.score(X_test_text,y_test))\n",
    "print(f'BAG Fit Time:', bag_test_time)\n",
    "print('-'*5)\n",
    "print(f'TFID ADABoost Train Score:', gs_tfid_ada.best_score_)\n",
    "print(f'TFID ADABoost Test Score:', gs_tfid_ada.score(X_test_text,y_test))\n",
    "print(f'ADABoost Fit Time:', ada_test_time)"
   ]
  },
  {
   "cell_type": "code",
   "execution_count": null,
   "metadata": {
    "scrolled": true
   },
   "outputs": [],
   "source": [
    "fig, ax = plt.subplots(figsize=(13, 8))\n",
    "tfid_lr_disp = plot_roc_curve(gs_tfid_lr, X_test_text, y_test, name = 'TFID LR', ax = ax)\n",
    "tfid_knn_disp = plot_roc_curve(gs_tfid_knn, X_test_text, y_test, name = 'TFID KNN', ax = tfid_lr_disp.ax_)\n",
    "tfid_nb_disp = plot_roc_curve(gs_tfid_nb, X_test_text, y_test, name = 'TFID NB', ax = tfid_lr_disp.ax_)\n",
    "tfid_cart_disp = plot_roc_curve(gs_tfid_cart, X_test_text, y_test, name = 'TFID CART', ax = tfid_lr_disp.ax_)\n",
    "tfid_bag_disp = plot_roc_curve(gs_tfid_bag, X_test_text, y_test, name = 'TFID BAG', ax = tfid_lr_disp.ax_)\n",
    "tfid_ada_disp = plot_roc_curve(gs_tfid_ada, X_test_text, y_test, name = 'TFID ADABoost', ax = tfid_lr_disp.ax_)\n",
    "plt.legend(prop={\"size\":20});"
   ]
  },
  {
   "cell_type": "markdown",
   "metadata": {},
   "source": [
    "***\n",
    "# What is the confusion matrix of the Logit Model?"
   ]
  },
  {
   "cell_type": "code",
   "execution_count": null,
   "metadata": {},
   "outputs": [],
   "source": [
    "predictions = gs_tfid_lr.predict(X_test_text)"
   ]
  },
  {
   "cell_type": "code",
   "execution_count": null,
   "metadata": {},
   "outputs": [],
   "source": [
    "tn, fp, fn, tp = confusion_matrix(y_test, predictions).ravel()\n",
    "\n",
    "print(\"True Negatives: %s\" % tn)\n",
    "print(\"False Positives: %s\" % fp)\n",
    "print(\"False Negatives: %s\" % fn)\n",
    "print(\"True Positives: %s\" % tp)\n",
    "print('Accuracy of running prediction:', round(tp / (tp + fn),4))\n",
    "print('Accuracy of swimmning prediction:', round(tn / (tn + fp),4))"
   ]
  },
  {
   "cell_type": "code",
   "execution_count": null,
   "metadata": {
    "scrolled": false
   },
   "outputs": [],
   "source": [
    "# Plot a confusion matrix. The greener the square, the better the result.\n",
    "fig, ax = plt.subplots(figsize=(8, 8))\n",
    "plot_confusion_matrix(gs_tfid_lr, X_test_text, y_test, ax = ax,cmap='Greens')"
   ]
  },
  {
   "cell_type": "markdown",
   "metadata": {},
   "source": [
    "The model was quite accurate! To investigate where it went wrong, we will examine incorrectly identified posts later below.\n",
    "We might reasonably expect that when words directly related to both subreddits are included (running and swimming lemmas), accuracy increases to almost 100%"
   ]
  },
  {
   "cell_type": "markdown",
   "metadata": {},
   "source": [
    "***\n",
    "# Wordclouds"
   ]
  },
  {
   "cell_type": "code",
   "execution_count": null,
   "metadata": {},
   "outputs": [],
   "source": [
    "def fancycloud(targetimage, color, invert=False, bg=\"black\"):\n",
    "    # Create a dataframe containing the words and their coefficient\n",
    "    wordcloudcontent = pd.DataFrame(data = [gs_tfid_lr.best_estimator_.named_steps['tfid'].get_feature_names(),\n",
    "                     gs_tfid_lr.best_estimator_.named_steps['lr'].coef_[0]]).T.rename(columns = {0 : 'Features', 1: 'Coef'}).sort_values(by = 'Coef', ascending = invert).reset_index(drop = True)\n",
    "    if invert == True:\n",
    "        wordcloudcontent['Coef'] = wordcloudcontent['Coef']*-1\n",
    "\n",
    "    # Create a dictionary where the word is the key and the coefficient is the associated value   \n",
    "    freq = {}\n",
    "    for i,j in wordcloudcontent.values:\n",
    "        freq[i] = j\n",
    "    \n",
    "    # Create a mask using an image (preferably a black and white vector graphic)\n",
    "    mask = np.array(Image.open(targetimage))\n",
    "    \n",
    "    # Generate a wordcloud function\n",
    "    wordcloud = WordCloud(max_font_size=100,\n",
    "                      max_words=200,\n",
    "                      background_color=bg,\n",
    "                      colormap=color,\n",
    "                      mask = mask)\n",
    "    \n",
    "    # Call the function using the frequencies\n",
    "    wordcloud.generate_from_frequencies(frequencies=freq)\n",
    "    \n",
    "    plt.figure(figsize = (14,14))\n",
    "    plt.imshow(wordcloud, interpolation=\"bilinear\")\n",
    "    plt.axis(\"off\")\n",
    "    plt.show()"
   ]
  },
  {
   "cell_type": "code",
   "execution_count": null,
   "metadata": {},
   "outputs": [],
   "source": [
    "runimage = '../images/run.jpg'\n",
    "swimimage = '../images/swim.jpg'"
   ]
  },
  {
   "cell_type": "code",
   "execution_count": null,
   "metadata": {},
   "outputs": [],
   "source": [
    "fancycloud(swimimage, 'cool')"
   ]
  },
  {
   "cell_type": "code",
   "execution_count": null,
   "metadata": {
    "scrolled": true
   },
   "outputs": [],
   "source": [
    "fancycloud(runimage, 'autumn',invert=True)"
   ]
  },
  {
   "cell_type": "markdown",
   "metadata": {},
   "source": [
    "# Visualising the most important words for predicting each subreddit\n"
   ]
  },
  {
   "cell_type": "code",
   "execution_count": null,
   "metadata": {},
   "outputs": [],
   "source": [
    "def barplotter(title, colors,invert=False):\n",
    "    # Create a dataframe containing the words and their coefficient\n",
    "    wordcloudcontent = pd.DataFrame(data = [gs_tfid_lr.best_estimator_.named_steps['tfid'].get_feature_names(),\n",
    "                     gs_tfid_lr.best_estimator_.named_steps['lr'].coef_[0]]).T.rename(columns = {0 : 'Features', 1: 'Coef'}).sort_values(by = 'Coef', ascending = invert).reset_index(drop = True)\n",
    "    if invert == True:\n",
    "        wordcloudcontent['Coef'] = wordcloudcontent['Coef']*-1\n",
    "    plt.figure(figsize= (10, 6))\n",
    "    plt.title(title,fontdict = {'fontsize':25})\n",
    "    sns.barplot(x= wordcloudcontent['Coef'][:25], y=wordcloudcontent['Features'][:25], palette=colors)\n",
    "    plt.show()"
   ]
  },
  {
   "cell_type": "code",
   "execution_count": null,
   "metadata": {},
   "outputs": [],
   "source": [
    "barplotter('Best 25 stems for predicting r/Swimming', colors='Blues_r')"
   ]
  },
  {
   "cell_type": "code",
   "execution_count": null,
   "metadata": {
    "scrolled": false
   },
   "outputs": [],
   "source": [
    "barplotter('Best 25 stems for predicting r/running', colors='Reds_r',invert=True)"
   ]
  },
  {
   "cell_type": "markdown",
   "metadata": {},
   "source": [
    "Many words one might reasonably expect to see in discussions of swimming and running appear in these graphs\n",
    "Words that might apply to both swimming and running such as “lap” might still be more strongly associated with one sport \n",
    "The words might also represent elements of user demographics:\n",
    "Note that \"school\" appeared associated with swimming and \"uk\" appeared associated with r running. These associations would be problematic in a general use model! Their presence however does suggest something about the userbase of each subreddit."
   ]
  },
  {
   "cell_type": "markdown",
   "metadata": {},
   "source": [
    "# Examining the misclassified posts"
   ]
  },
  {
   "cell_type": "code",
   "execution_count": null,
   "metadata": {},
   "outputs": [],
   "source": [
    "# Create a dataframe of the predictions from the chosen model\n",
    "predictedposts = pd.DataFrame(gs_tfid_lr.predict(X_test_text), columns=['pred'], index = y_test.index)\n",
    "\n",
    "# Add in a column with the actual subreddit of the post\n",
    "predictedposts['actual'] = y_test\n",
    "\n",
    "# Indentify the indexes of posts that were mispredicted\n",
    "row_ids = predictedposts[predictedposts['pred']!= predictedposts['actual']].index\n",
    "row_ids.values"
   ]
  },
  {
   "cell_type": "code",
   "execution_count": null,
   "metadata": {
    "scrolled": true
   },
   "outputs": [],
   "source": [
    "# What does the text of swimming posts that were classified as running posts look like?\n",
    "for i in row_ids.values:\n",
    "    if i >= 750:\n",
    "        print('Post title:',df['title'][i])\n",
    "        print(df['selftext'][i],'\\n')\n",
    "        print('-'*20,'\\n')"
   ]
  },
  {
   "cell_type": "code",
   "execution_count": null,
   "metadata": {
    "scrolled": true
   },
   "outputs": [],
   "source": [
    "# What does the text of running posts that were classified as swimming posts look like?\n",
    "for i in row_ids.values:\n",
    "    if i < 750:\n",
    "        print('Post title:',df['title'][i])\n",
    "        print(df['selftext'][i],'\\n')\n",
    "        print('-'*20,'\\n')"
   ]
  },
  {
   "cell_type": "markdown",
   "metadata": {},
   "source": [
    "### Interesting misclassified posts:\n",
    "Interesting misclassified swimming posts:\n",
    "   \n",
    "    Ah man that was GOOD. Had a double width lane to myself the entire time. Swam for 45 mins and did a little over 2km. Impressed myself!\n",
    "    And I don't feel like I've been hit by a car. I think I'll have to put in more effort next time :-) \n",
    "\n",
    "From the word coefficients of running, it seems runners are more likely to complain about traffic. The usage of the word car here likely caused the model to misclassify the post.\n",
    "\n",
    "    Hello, I swim 1.5km (almost a mile) once or twice a week in summer, and I've struggled to put together a dry land training regime to help me improve my time/fitness (let's ignore my form for  the moment).\n",
    "    I've got access to a gym now with a full weights set and cardio machines (treadmill, bike, rowing machines).  Can anyone give me some pointers on what to start on for a dry land program (or even some bodyweight program work) to help my swimming fitness / strength?  If you are comfortable sharing your program it would be greatly appreciated.\n",
    "\n",
    "This user, although posting in swimming, was engaging in a primarily land based discussion, with his talk about gym equipment and land based cardio. Although it represents a misclassification by the model, in a deployment situation where the model recommends that this user be given links to running paraphernalia, the recommendation would be correct.\n",
    "\n",
    "Interesting misclassified running posts:\n",
    "\n",
    "    If you go for a run in the morning and if you take supplements, do you usually take them before your run or after? I get up at 7am for a 7:30am run. I tried taking them before my run, but there is no way I can drink 16oz of water with it right before I run.\n",
    "\n",
    "The user used the word run a lot, which was filtered, but also spoke about water, which was strongly strongly correlated with swimming, resulting in the misclassification.\n",
    "\n",
    "    Hi everyone, I am a high school student who recently just tried out for the cross country team. I was the only U19, which means I made the team automatically, but I did terrible at the tryouts (ran less laps than the U14s) and I want your tips and advices on how to get better as a runner, as well as the amount of time that I need to commit each week. \n",
    "    I am worried that I won't have enough time to train (the tournament is on December) and am even thinking about whether I should just drop the team or not... \n",
    "\n",
    "This misclassification is the result of the model incorrectly associating school more strongly with high schools and colleges."
   ]
  },
  {
   "cell_type": "markdown",
   "metadata": {},
   "source": [
    "It appears that misclassified posts mostly had words that would still identify them, but were filtered during stemming, such as runner and swimmer. These posts also lacked the identifying words that appeared in our 25 most useful stems for their respective correct subreddits. Interestingly, some words contained a mixture of words that would have strongly identified them as their correct subreddit but were filtered, and words that identified them incorrectly which had a high coefficient for the other subreddit. An example is the post \"When do you take supplements...\" which contains the word \"run\" several times (a filtered word) and the word \"water\" in the context of drinking, which is a strong identifier for the swimming subreddit instead."
   ]
  },
  {
   "cell_type": "markdown",
   "metadata": {},
   "source": [
    "# Conclusion and Comments"
   ]
  },
  {
   "cell_type": "markdown",
   "metadata": {},
   "source": [
    "### Limitations\n",
    "The posts available to the model are reflective of the demographics of their respective userbases\n",
    "\n",
    "Swimming is more niche and there are many more posts about technique and competing\n",
    "\n",
    "It also appears to have many more young athletes as a percentage of the user base\n",
    "\n",
    "Running has more hobby runners and the discussion topics are broader and less focused\n",
    "\n",
    "The model is currently only being tested on the source communities\n",
    "\n",
    "Testing on different communities and different demographics might cause the model accuracy to drop significantly\n",
    "\n",
    "Demographic concerns include both reddit as a whole and the respective subreddit user bases\n",
    "\n",
    "Active posters on reddit tend to be much more likely to be below 30\n",
    "\n",
    "Given that Logistic Regression can only make predictions between two classes, accuracy and the necessity of using a model capable of multiple category classification will decrease in broader applications\n"
   ]
  },
  {
   "cell_type": "markdown",
   "metadata": {},
   "source": [
    "### Further Considerations\n",
    "The results from this project show promise for classifying the word content of user posts into a useful prediction system\n",
    "\n",
    "The application will be even more applicable with additional training, additional subjects as well as some method for interaction terms (that I have not learned yet)\n",
    "\n",
    "For example: kick + lap probably indicates swimming technique, kick + gait probably indicates a discussion about running technique, kick + pads probably indicates a kickboxing discussion, \n",
    "\n",
    "Further controls for communities or training on local data from the target communities would improve accuracy. \n"
   ]
  },
  {
   "cell_type": "code",
   "execution_count": null,
   "metadata": {},
   "outputs": [],
   "source": []
  }
 ],
 "metadata": {
  "kernelspec": {
   "display_name": "Python 3",
   "language": "python",
   "name": "python3"
  },
  "language_info": {
   "codemirror_mode": {
    "name": "ipython",
    "version": 3
   },
   "file_extension": ".py",
   "mimetype": "text/x-python",
   "name": "python",
   "nbconvert_exporter": "python",
   "pygments_lexer": "ipython3",
   "version": "3.7.7"
  }
 },
 "nbformat": 4,
 "nbformat_minor": 4
}
