{
 "cells": [
  {
   "cell_type": "markdown",
   "metadata": {},
   "source": [
    "# Webscraping r/Swimming and r/running"
   ]
  },
  {
   "cell_type": "markdown",
   "metadata": {},
   "source": [
    "### Introduction\n",
    "* This is a proof of concept exercise that uses natural language processing to identify posts that are made on two reddit subreddits, r/running and r/Swimming. "
   ]
  },
  {
   "cell_type": "markdown",
   "metadata": {},
   "source": [
    "### Problem Statement\n",
    "* Being able to identify the fitness interests of internet users can enable the construction of recommendation engines that send the users targeted ads or links.\n",
    "* How might we identify what kind of physical activities are being discussed?\n",
    "* We are looking to construct a model can suitably identify contextual words used alongside a discussion on either activity, without looking for word stems of either activity, such as run, ran, running, runner, swim, swam, swimming, swimmer\n",
    "* If a suitable model and methodology is found, this can be extended to other activities such as biking or weightlifting to develop a more comprehensive recommendation system."
   ]
  },
  {
   "cell_type": "markdown",
   "metadata": {},
   "source": [
    "### Executive Summary\n",
    "* 1000 posts from the two subreddits were webscraped\n",
    "* The posts were filtered for duplicates and media posts\n",
    "* A random sample of 750 text posts were taken from each subreddit\n",
    "* The self text content of there posts were filtered for stop words as well as words clearly identifying the activity, before being stemmed\n",
    "* The posts were split into training and testing sets\n",
    "* Various models were tested to see which were the most successful at classifying test posts into their respective subreddits\n",
    "* The misclassified posts were investigated"
   ]
  },
  {
   "cell_type": "markdown",
   "metadata": {},
   "source": [
    "***\n",
    "# Module and Data Importing"
   ]
  },
  {
   "cell_type": "code",
   "execution_count": 1,
   "metadata": {},
   "outputs": [],
   "source": [
    "import pandas as pd\n",
    "import numpy as np\n",
    "import matplotlib.pyplot as plt\n",
    "import seaborn as sns\n",
    "from time import time\n",
    "\n",
    "from PIL import Image\n",
    "from wordcloud import WordCloud\n",
    "\n",
    "from bs4 import BeautifulSoup\n",
    "import re\n",
    "from nltk.corpus import stopwords\n",
    "from nltk.stem import WordNetLemmatizer\n",
    "from nltk.stem.porter import PorterStemmer\n",
    "from nltk.tokenize import RegexpTokenizer\n",
    "\n",
    "from sklearn.model_selection import train_test_split, GridSearchCV\n",
    "from sklearn.feature_extraction.text import CountVectorizer, TfidfVectorizer, HashingVectorizer\n",
    "from sklearn.linear_model import LogisticRegression\n",
    "from sklearn.pipeline import Pipeline\n",
    "from sklearn.naive_bayes import MultinomialNB\n",
    "from sklearn.metrics import confusion_matrix, roc_auc_score, plot_roc_curve, plot_confusion_matrix\n",
    "from sklearn.neighbors import KNeighborsClassifier\n",
    "from sklearn.tree import DecisionTreeClassifier\n",
    "from sklearn.ensemble import BaggingClassifier, AdaBoostClassifier, GradientBoostingClassifier"
   ]
  },
  {
   "cell_type": "code",
   "execution_count": 2,
   "metadata": {},
   "outputs": [],
   "source": [
    "df_swim = pd.read_csv('../datasets/swimming.csv')\n",
    "df_run = pd.read_csv('../datasets/running.csv')"
   ]
  },
  {
   "cell_type": "code",
   "execution_count": 3,
   "metadata": {
    "scrolled": true
   },
   "outputs": [
    {
     "name": "stdout",
     "output_type": "stream",
     "text": [
      "<class 'pandas.core.frame.DataFrame'>\n",
      "RangeIndex: 997 entries, 0 to 996\n",
      "Columns: 114 entries, approved_at_utc to poll_data\n",
      "dtypes: bool(26), float64(27), int64(10), object(51)\n",
      "memory usage: 710.9+ KB\n"
     ]
    }
   ],
   "source": [
    "df_swim.info()"
   ]
  },
  {
   "cell_type": "code",
   "execution_count": 4,
   "metadata": {
    "scrolled": true
   },
   "outputs": [
    {
     "name": "stdout",
     "output_type": "stream",
     "text": [
      "<class 'pandas.core.frame.DataFrame'>\n",
      "RangeIndex: 991 entries, 0 to 990\n",
      "Columns: 104 entries, approved_at_utc to author_cakeday\n",
      "dtypes: bool(26), float64(27), int64(10), object(41)\n",
      "memory usage: 629.2+ KB\n"
     ]
    }
   ],
   "source": [
    "df_run.info()"
   ]
  },
  {
   "cell_type": "markdown",
   "metadata": {},
   "source": [
    "***\n",
    "# Data Cleaning and Initial Inspection"
   ]
  },
  {
   "cell_type": "code",
   "execution_count": 5,
   "metadata": {},
   "outputs": [],
   "source": [
    "def clean(df, mask, df2=None,):\n",
    "    # If there was a second scraped dataset, add it in\n",
    "    if df2 != None:\n",
    "        df = pd.concat([df,df2], ignore_index=True)\n",
    "    else:\n",
    "        pass\n",
    "    # Checks and drops duplicated rows from scraping \n",
    "    print(len(df[df.url.duplicated()].index),'duplicate rows were removed.')\n",
    "    df.drop(df[df.url.duplicated()].index,inplace=True)\n",
    "    \n",
    "    # Checks and drops rows where the post was not a text post\n",
    "    print(len(df[df.selftext.isnull()].index),'posts were not text posts, and were removed.')\n",
    "    df.drop(df[df.selftext.isnull()].index,inplace=True)\n",
    "    \n",
    "    # Converts the time created column into a readable format\n",
    "    df['created_utc'] = pd.to_datetime(df['created_utc'], unit='s')\n",
    "    \n",
    "    # Isolates the hour of the created post in a seperate dataframe\n",
    "    df['created_hour'] = np.NaN\n",
    "    for i in df.index:\n",
    "        df.loc[[i],['created_hour']] = df['created_utc'][i].hour\n",
    "    \n",
    "    # Finally, reset the index\n",
    "    df = df.reset_index(drop=True)\n",
    "    # Applies the mask of useful columns and returns it\n",
    "    return df[mask]"
   ]
  },
  {
   "cell_type": "code",
   "execution_count": 6,
   "metadata": {},
   "outputs": [],
   "source": [
    "target=['subreddit','title','selftext','score','created_utc','created_hour','gilded']"
   ]
  },
  {
   "cell_type": "code",
   "execution_count": 7,
   "metadata": {
    "scrolled": true
   },
   "outputs": [
    {
     "name": "stdout",
     "output_type": "stream",
     "text": [
      "77 duplicate rows were removed.\n",
      "134 posts were not text posts, and were removed.\n"
     ]
    },
    {
     "data": {
      "text/html": [
       "<div>\n",
       "<style scoped>\n",
       "    .dataframe tbody tr th:only-of-type {\n",
       "        vertical-align: middle;\n",
       "    }\n",
       "\n",
       "    .dataframe tbody tr th {\n",
       "        vertical-align: top;\n",
       "    }\n",
       "\n",
       "    .dataframe thead th {\n",
       "        text-align: right;\n",
       "    }\n",
       "</style>\n",
       "<table border=\"1\" class=\"dataframe\">\n",
       "  <thead>\n",
       "    <tr style=\"text-align: right;\">\n",
       "      <th></th>\n",
       "      <th>subreddit</th>\n",
       "      <th>title</th>\n",
       "      <th>selftext</th>\n",
       "      <th>score</th>\n",
       "      <th>created_utc</th>\n",
       "      <th>created_hour</th>\n",
       "      <th>gilded</th>\n",
       "    </tr>\n",
       "  </thead>\n",
       "  <tbody>\n",
       "    <tr>\n",
       "      <th>0</th>\n",
       "      <td>Swimming</td>\n",
       "      <td>Don't do Underwaters Alone</td>\n",
       "      <td>I'm a paramedic.\\n\\nLast night, on duty, we we...</td>\n",
       "      <td>1642</td>\n",
       "      <td>2019-03-16 15:11:14</td>\n",
       "      <td>15.0</td>\n",
       "      <td>0</td>\n",
       "    </tr>\n",
       "    <tr>\n",
       "      <th>1</th>\n",
       "      <td>Swimming</td>\n",
       "      <td>With so many taking to open water due to lockd...</td>\n",
       "      <td>Suggesting such question as:\\n\\n* How do I get...</td>\n",
       "      <td>78</td>\n",
       "      <td>2020-06-17 07:39:47</td>\n",
       "      <td>7.0</td>\n",
       "      <td>0</td>\n",
       "    </tr>\n",
       "    <tr>\n",
       "      <th>2</th>\n",
       "      <td>Swimming</td>\n",
       "      <td>At the age of 53, I finished my first open wat...</td>\n",
       "      <td>I love swimming and the entry to the race, the...</td>\n",
       "      <td>212</td>\n",
       "      <td>2020-09-08 20:29:41</td>\n",
       "      <td>20.0</td>\n",
       "      <td>0</td>\n",
       "    </tr>\n",
       "    <tr>\n",
       "      <th>3</th>\n",
       "      <td>Swimming</td>\n",
       "      <td>Nervous joining the swim team</td>\n",
       "      <td>Recently I had signed up for my schools swim t...</td>\n",
       "      <td>90</td>\n",
       "      <td>2020-09-08 18:10:02</td>\n",
       "      <td>18.0</td>\n",
       "      <td>0</td>\n",
       "    </tr>\n",
       "    <tr>\n",
       "      <th>4</th>\n",
       "      <td>Swimming</td>\n",
       "      <td>What is the best way to care for your swimming...</td>\n",
       "      <td>How do you wash them? How do you keep them fro...</td>\n",
       "      <td>1</td>\n",
       "      <td>2020-09-09 12:45:46</td>\n",
       "      <td>12.0</td>\n",
       "      <td>0</td>\n",
       "    </tr>\n",
       "    <tr>\n",
       "      <th>...</th>\n",
       "      <td>...</td>\n",
       "      <td>...</td>\n",
       "      <td>...</td>\n",
       "      <td>...</td>\n",
       "      <td>...</td>\n",
       "      <td>...</td>\n",
       "      <td>...</td>\n",
       "    </tr>\n",
       "    <tr>\n",
       "      <th>781</th>\n",
       "      <td>Swimming</td>\n",
       "      <td>Ugh Swimmer’s Ear</td>\n",
       "      <td>I have swimmer’s ear and I got antibiotic ear ...</td>\n",
       "      <td>0</td>\n",
       "      <td>2020-06-25 18:47:28</td>\n",
       "      <td>18.0</td>\n",
       "      <td>0</td>\n",
       "    </tr>\n",
       "    <tr>\n",
       "      <th>782</th>\n",
       "      <td>Swimming</td>\n",
       "      <td>L.F. distance swimming sets</td>\n",
       "      <td>Hi guys, I'm currently looking to be a distanc...</td>\n",
       "      <td>0</td>\n",
       "      <td>2020-06-25 17:48:40</td>\n",
       "      <td>17.0</td>\n",
       "      <td>0</td>\n",
       "    </tr>\n",
       "    <tr>\n",
       "      <th>783</th>\n",
       "      <td>Swimming</td>\n",
       "      <td>How can you manage to stay calm while swimming?</td>\n",
       "      <td>Whenever I'm swimming, usually after a few poo...</td>\n",
       "      <td>90</td>\n",
       "      <td>2020-06-24 16:31:32</td>\n",
       "      <td>16.0</td>\n",
       "      <td>0</td>\n",
       "    </tr>\n",
       "    <tr>\n",
       "      <th>784</th>\n",
       "      <td>Swimming</td>\n",
       "      <td>Is it Possible to Learn Proper Technique on My...</td>\n",
       "      <td>Hello! I have watched a lot of videos on corre...</td>\n",
       "      <td>1</td>\n",
       "      <td>2020-06-25 15:24:31</td>\n",
       "      <td>15.0</td>\n",
       "      <td>0</td>\n",
       "    </tr>\n",
       "    <tr>\n",
       "      <th>785</th>\n",
       "      <td>Swimming</td>\n",
       "      <td>How to convince parents in letting me join a c...</td>\n",
       "      <td>I’ve been swimming every since I was 3 years o...</td>\n",
       "      <td>2</td>\n",
       "      <td>2020-06-25 11:33:01</td>\n",
       "      <td>11.0</td>\n",
       "      <td>0</td>\n",
       "    </tr>\n",
       "  </tbody>\n",
       "</table>\n",
       "<p>786 rows × 7 columns</p>\n",
       "</div>"
      ],
      "text/plain": [
       "    subreddit                                              title  \\\n",
       "0    Swimming                         Don't do Underwaters Alone   \n",
       "1    Swimming  With so many taking to open water due to lockd...   \n",
       "2    Swimming  At the age of 53, I finished my first open wat...   \n",
       "3    Swimming                      Nervous joining the swim team   \n",
       "4    Swimming  What is the best way to care for your swimming...   \n",
       "..        ...                                                ...   \n",
       "781  Swimming                                  Ugh Swimmer’s Ear   \n",
       "782  Swimming                        L.F. distance swimming sets   \n",
       "783  Swimming    How can you manage to stay calm while swimming?   \n",
       "784  Swimming  Is it Possible to Learn Proper Technique on My...   \n",
       "785  Swimming  How to convince parents in letting me join a c...   \n",
       "\n",
       "                                              selftext  score  \\\n",
       "0    I'm a paramedic.\\n\\nLast night, on duty, we we...   1642   \n",
       "1    Suggesting such question as:\\n\\n* How do I get...     78   \n",
       "2    I love swimming and the entry to the race, the...    212   \n",
       "3    Recently I had signed up for my schools swim t...     90   \n",
       "4    How do you wash them? How do you keep them fro...      1   \n",
       "..                                                 ...    ...   \n",
       "781  I have swimmer’s ear and I got antibiotic ear ...      0   \n",
       "782  Hi guys, I'm currently looking to be a distanc...      0   \n",
       "783  Whenever I'm swimming, usually after a few poo...     90   \n",
       "784  Hello! I have watched a lot of videos on corre...      1   \n",
       "785  I’ve been swimming every since I was 3 years o...      2   \n",
       "\n",
       "            created_utc  created_hour  gilded  \n",
       "0   2019-03-16 15:11:14          15.0       0  \n",
       "1   2020-06-17 07:39:47           7.0       0  \n",
       "2   2020-09-08 20:29:41          20.0       0  \n",
       "3   2020-09-08 18:10:02          18.0       0  \n",
       "4   2020-09-09 12:45:46          12.0       0  \n",
       "..                  ...           ...     ...  \n",
       "781 2020-06-25 18:47:28          18.0       0  \n",
       "782 2020-06-25 17:48:40          17.0       0  \n",
       "783 2020-06-24 16:31:32          16.0       0  \n",
       "784 2020-06-25 15:24:31          15.0       0  \n",
       "785 2020-06-25 11:33:01          11.0       0  \n",
       "\n",
       "[786 rows x 7 columns]"
      ]
     },
     "execution_count": 7,
     "metadata": {},
     "output_type": "execute_result"
    }
   ],
   "source": [
    "df_swim=clean(df_swim, target)\n",
    "df_swim"
   ]
  },
  {
   "cell_type": "code",
   "execution_count": 8,
   "metadata": {
    "scrolled": true
   },
   "outputs": [
    {
     "name": "stdout",
     "output_type": "stream",
     "text": [
      "151 duplicate rows were removed.\n",
      "0 posts were not text posts, and were removed.\n"
     ]
    },
    {
     "data": {
      "text/html": [
       "<div>\n",
       "<style scoped>\n",
       "    .dataframe tbody tr th:only-of-type {\n",
       "        vertical-align: middle;\n",
       "    }\n",
       "\n",
       "    .dataframe tbody tr th {\n",
       "        vertical-align: top;\n",
       "    }\n",
       "\n",
       "    .dataframe thead th {\n",
       "        text-align: right;\n",
       "    }\n",
       "</style>\n",
       "<table border=\"1\" class=\"dataframe\">\n",
       "  <thead>\n",
       "    <tr style=\"text-align: right;\">\n",
       "      <th></th>\n",
       "      <th>subreddit</th>\n",
       "      <th>title</th>\n",
       "      <th>selftext</th>\n",
       "      <th>score</th>\n",
       "      <th>created_utc</th>\n",
       "      <th>created_hour</th>\n",
       "      <th>gilded</th>\n",
       "    </tr>\n",
       "  </thead>\n",
       "  <tbody>\n",
       "    <tr>\n",
       "      <th>0</th>\n",
       "      <td>running</td>\n",
       "      <td>Reminder on Rules and Existing Daily/Weekly Th...</td>\n",
       "      <td>**After our usual surge around New Years, we’v...</td>\n",
       "      <td>65</td>\n",
       "      <td>2020-06-29 13:59:46</td>\n",
       "      <td>13.0</td>\n",
       "      <td>0</td>\n",
       "    </tr>\n",
       "    <tr>\n",
       "      <th>1</th>\n",
       "      <td>running</td>\n",
       "      <td>Official Q&amp;amp;A for Wednesday, September 09, ...</td>\n",
       "      <td>\\nWith over 1,050,000 subscribers, there are a...</td>\n",
       "      <td>5</td>\n",
       "      <td>2020-09-09 00:11:47</td>\n",
       "      <td>0.0</td>\n",
       "      <td>0</td>\n",
       "    </tr>\n",
       "    <tr>\n",
       "      <th>2</th>\n",
       "      <td>running</td>\n",
       "      <td>My husband had a stroke while on his run, I wa...</td>\n",
       "      <td>He was 5.5mi into a 6mi run, almost home when ...</td>\n",
       "      <td>1608</td>\n",
       "      <td>2020-09-08 21:15:08</td>\n",
       "      <td>21.0</td>\n",
       "      <td>0</td>\n",
       "    </tr>\n",
       "    <tr>\n",
       "      <th>3</th>\n",
       "      <td>running</td>\n",
       "      <td>I ran my first 100 miler, and finished!</td>\n",
       "      <td>I'm not normally one to brag, but I feel like ...</td>\n",
       "      <td>1878</td>\n",
       "      <td>2020-09-08 15:36:53</td>\n",
       "      <td>15.0</td>\n",
       "      <td>0</td>\n",
       "    </tr>\n",
       "    <tr>\n",
       "      <th>4</th>\n",
       "      <td>running</td>\n",
       "      <td>Got my 5k under 25 minutes for the first time!</td>\n",
       "      <td>This time last year I (20F; 5’4”)was obese at ...</td>\n",
       "      <td>910</td>\n",
       "      <td>2020-09-08 17:57:37</td>\n",
       "      <td>17.0</td>\n",
       "      <td>1</td>\n",
       "    </tr>\n",
       "    <tr>\n",
       "      <th>...</th>\n",
       "      <td>...</td>\n",
       "      <td>...</td>\n",
       "      <td>...</td>\n",
       "      <td>...</td>\n",
       "      <td>...</td>\n",
       "      <td>...</td>\n",
       "      <td>...</td>\n",
       "    </tr>\n",
       "    <tr>\n",
       "      <th>835</th>\n",
       "      <td>running</td>\n",
       "      <td>Running Before/After 12 Hour Work Day</td>\n",
       "      <td>Does anyone have any advice on still running w...</td>\n",
       "      <td>3</td>\n",
       "      <td>2020-08-20 14:56:32</td>\n",
       "      <td>14.0</td>\n",
       "      <td>0</td>\n",
       "    </tr>\n",
       "    <tr>\n",
       "      <th>836</th>\n",
       "      <td>running</td>\n",
       "      <td>Should i wash neck gaiter everyday??</td>\n",
       "      <td>I run with a neck gaiter on. It gets wet. Shou...</td>\n",
       "      <td>0</td>\n",
       "      <td>2020-08-21 02:09:34</td>\n",
       "      <td>2.0</td>\n",
       "      <td>0</td>\n",
       "    </tr>\n",
       "    <tr>\n",
       "      <th>837</th>\n",
       "      <td>running</td>\n",
       "      <td>What do you consider a run streak?</td>\n",
       "      <td>As per the title.  I suggested to a person I k...</td>\n",
       "      <td>0</td>\n",
       "      <td>2020-08-21 09:39:35</td>\n",
       "      <td>9.0</td>\n",
       "      <td>0</td>\n",
       "    </tr>\n",
       "    <tr>\n",
       "      <th>838</th>\n",
       "      <td>running</td>\n",
       "      <td>Concerns of knee inhuries</td>\n",
       "      <td>I took up running back in april, and has been ...</td>\n",
       "      <td>1</td>\n",
       "      <td>2020-08-20 19:19:29</td>\n",
       "      <td>19.0</td>\n",
       "      <td>0</td>\n",
       "    </tr>\n",
       "    <tr>\n",
       "      <th>839</th>\n",
       "      <td>running</td>\n",
       "      <td>What are your thoughts on paying for virtual r...</td>\n",
       "      <td>My local half marathon has opened registration...</td>\n",
       "      <td>1</td>\n",
       "      <td>2020-09-09 08:50:05</td>\n",
       "      <td>8.0</td>\n",
       "      <td>0</td>\n",
       "    </tr>\n",
       "  </tbody>\n",
       "</table>\n",
       "<p>840 rows × 7 columns</p>\n",
       "</div>"
      ],
      "text/plain": [
       "    subreddit                                              title  \\\n",
       "0     running  Reminder on Rules and Existing Daily/Weekly Th...   \n",
       "1     running  Official Q&amp;A for Wednesday, September 09, ...   \n",
       "2     running  My husband had a stroke while on his run, I wa...   \n",
       "3     running            I ran my first 100 miler, and finished!   \n",
       "4     running     Got my 5k under 25 minutes for the first time!   \n",
       "..        ...                                                ...   \n",
       "835   running              Running Before/After 12 Hour Work Day   \n",
       "836   running               Should i wash neck gaiter everyday??   \n",
       "837   running                 What do you consider a run streak?   \n",
       "838   running                          Concerns of knee inhuries   \n",
       "839   running  What are your thoughts on paying for virtual r...   \n",
       "\n",
       "                                              selftext  score  \\\n",
       "0    **After our usual surge around New Years, we’v...     65   \n",
       "1    \\nWith over 1,050,000 subscribers, there are a...      5   \n",
       "2    He was 5.5mi into a 6mi run, almost home when ...   1608   \n",
       "3    I'm not normally one to brag, but I feel like ...   1878   \n",
       "4    This time last year I (20F; 5’4”)was obese at ...    910   \n",
       "..                                                 ...    ...   \n",
       "835  Does anyone have any advice on still running w...      3   \n",
       "836  I run with a neck gaiter on. It gets wet. Shou...      0   \n",
       "837  As per the title.  I suggested to a person I k...      0   \n",
       "838  I took up running back in april, and has been ...      1   \n",
       "839  My local half marathon has opened registration...      1   \n",
       "\n",
       "            created_utc  created_hour  gilded  \n",
       "0   2020-06-29 13:59:46          13.0       0  \n",
       "1   2020-09-09 00:11:47           0.0       0  \n",
       "2   2020-09-08 21:15:08          21.0       0  \n",
       "3   2020-09-08 15:36:53          15.0       0  \n",
       "4   2020-09-08 17:57:37          17.0       1  \n",
       "..                  ...           ...     ...  \n",
       "835 2020-08-20 14:56:32          14.0       0  \n",
       "836 2020-08-21 02:09:34           2.0       0  \n",
       "837 2020-08-21 09:39:35           9.0       0  \n",
       "838 2020-08-20 19:19:29          19.0       0  \n",
       "839 2020-09-09 08:50:05           8.0       0  \n",
       "\n",
       "[840 rows x 7 columns]"
      ]
     },
     "execution_count": 8,
     "metadata": {},
     "output_type": "execute_result"
    }
   ],
   "source": [
    "df_run=clean(df_run, target)\n",
    "df_run"
   ]
  },
  {
   "cell_type": "code",
   "execution_count": 9,
   "metadata": {},
   "outputs": [],
   "source": [
    "# Lowercases subreddit name of r/Swimming\n",
    "df_swim['subreddit']=df_swim['subreddit'].str.lower()"
   ]
  },
  {
   "cell_type": "code",
   "execution_count": 10,
   "metadata": {},
   "outputs": [],
   "source": [
    "def describe_combine(df1,df2):\n",
    "    # Take 750 random posts from the total number of posts \n",
    "    df1sam = df1.sample(n=750)\n",
    "    df2sam = df2.sample(n=750)\n",
    "    \n",
    "    # Create lengthcounters for both dataframes\n",
    "    df1sam['titlelen'] = df1sam['title'].str.count(' ').add(1)\n",
    "    df2sam['titlelen'] = df2sam['title'].str.count(' ').add(1)\n",
    "    df1sam['postlen'] = df1sam['selftext'].str.count(' ').add(1)\n",
    "    df2sam['postlen'] = df2sam['selftext'].str.count(' ').add(1)\n",
    "    print('A sample of 750 posts from two subreddits were taken.')\n",
    "    print('')\n",
    "    \n",
    "    # Average length of title of selfpost\n",
    "    print('Average title length of the',df1sam['subreddit'][0],'subreddit:',round(df1sam['titlelen'].mean(),2))\n",
    "    print('Average title length of the',df2sam['subreddit'][0],'subreddit:',round(df2sam['titlelen'].mean(),2))\n",
    "    print('')\n",
    "    \n",
    "    # Average length of selftext\n",
    "    print('Average post length of the',df1sam['subreddit'][0],'subreddit:',round(df1sam['postlen'].mean(),2))\n",
    "    print('Average post length of the',df2sam['subreddit'][0],'subreddit:',round(df2sam['postlen'].mean(),2))\n",
    "    print('')\n",
    "    \n",
    "    # Average score of posts\n",
    "    print('Average upvotes of the',df1sam['subreddit'][0],'subreddit:',round(df1sam['score'].mean(),2))\n",
    "    print('Average upvotes of the',df2sam['subreddit'][0],'subreddit:',round(df1sam['score'].mean(),2))\n",
    "    print('')\n",
    "    # Number of gildings in 750 \n",
    "    print('Number of gilded posts in the',df1sam['subreddit'][0],'subreddit sample:',df1sam['gilded'].sum())\n",
    "    print('Number of gilded posts in the',df2sam['subreddit'][0],'subreddit sample:',df2sam['gilded'].sum())\n",
    "    print('')\n",
    "    \n",
    "    combineddf=pd.concat([df1sam,df2sam])\n",
    "    combineddf.reset_index(drop=True,inplace=True)\n",
    "    return (combineddf)"
   ]
  },
  {
   "cell_type": "code",
   "execution_count": 11,
   "metadata": {},
   "outputs": [
    {
     "name": "stdout",
     "output_type": "stream",
     "text": [
      "A sample of 750 posts from two subreddits were taken.\n",
      "\n",
      "Average title length of the running subreddit: 8.79\n",
      "Average title length of the swimming subreddit: 7.42\n",
      "\n",
      "Average post length of the running subreddit: 158.67\n",
      "Average post length of the swimming subreddit: 103.04\n",
      "\n",
      "Average upvotes of the running subreddit: 74.74\n",
      "Average upvotes of the swimming subreddit: 74.74\n",
      "\n",
      "Number of gilded posts in the running subreddit sample: 2\n",
      "Number of gilded posts in the swimming subreddit sample: 0\n",
      "\n"
     ]
    }
   ],
   "source": [
    "df=describe_combine(df_run,df_swim)"
   ]
  },
  {
   "cell_type": "code",
   "execution_count": 12,
   "metadata": {
    "scrolled": true
   },
   "outputs": [
    {
     "data": {
      "text/html": [
       "<div>\n",
       "<style scoped>\n",
       "    .dataframe tbody tr th:only-of-type {\n",
       "        vertical-align: middle;\n",
       "    }\n",
       "\n",
       "    .dataframe tbody tr th {\n",
       "        vertical-align: top;\n",
       "    }\n",
       "\n",
       "    .dataframe thead th {\n",
       "        text-align: right;\n",
       "    }\n",
       "</style>\n",
       "<table border=\"1\" class=\"dataframe\">\n",
       "  <thead>\n",
       "    <tr style=\"text-align: right;\">\n",
       "      <th></th>\n",
       "      <th>subreddit</th>\n",
       "      <th>title</th>\n",
       "      <th>selftext</th>\n",
       "      <th>score</th>\n",
       "      <th>created_utc</th>\n",
       "      <th>created_hour</th>\n",
       "      <th>gilded</th>\n",
       "      <th>titlelen</th>\n",
       "      <th>postlen</th>\n",
       "    </tr>\n",
       "  </thead>\n",
       "  <tbody>\n",
       "    <tr>\n",
       "      <th>0</th>\n",
       "      <td>running</td>\n",
       "      <td>What is your worst wipe out story?</td>\n",
       "      <td>Today was my first time all out going down dur...</td>\n",
       "      <td>10</td>\n",
       "      <td>2020-08-23 04:54:18</td>\n",
       "      <td>4.0</td>\n",
       "      <td>0</td>\n",
       "      <td>7</td>\n",
       "      <td>104</td>\n",
       "    </tr>\n",
       "    <tr>\n",
       "      <th>1</th>\n",
       "      <td>running</td>\n",
       "      <td>Too young to run?</td>\n",
       "      <td>So, I'm a 14 year old girl (15 in december) an...</td>\n",
       "      <td>6</td>\n",
       "      <td>2020-08-22 16:36:18</td>\n",
       "      <td>16.0</td>\n",
       "      <td>0</td>\n",
       "      <td>4</td>\n",
       "      <td>155</td>\n",
       "    </tr>\n",
       "    <tr>\n",
       "      <th>2</th>\n",
       "      <td>running</td>\n",
       "      <td>First in person race on Labor Day since covid ...</td>\n",
       "      <td>Random observation and personal zen moment I t...</td>\n",
       "      <td>19</td>\n",
       "      <td>2020-09-09 01:05:38</td>\n",
       "      <td>1.0</td>\n",
       "      <td>0</td>\n",
       "      <td>15</td>\n",
       "      <td>600</td>\n",
       "    </tr>\n",
       "    <tr>\n",
       "      <th>3</th>\n",
       "      <td>running</td>\n",
       "      <td>difference between a weak/strong core</td>\n",
       "      <td>hi, I've been running for quite a few months a...</td>\n",
       "      <td>7</td>\n",
       "      <td>2020-09-07 05:13:19</td>\n",
       "      <td>5.0</td>\n",
       "      <td>0</td>\n",
       "      <td>5</td>\n",
       "      <td>357</td>\n",
       "    </tr>\n",
       "    <tr>\n",
       "      <th>4</th>\n",
       "      <td>running</td>\n",
       "      <td>Fairly new to running and a question about Vo2...</td>\n",
       "      <td>I started the C25K program about 3 weeks ago a...</td>\n",
       "      <td>1</td>\n",
       "      <td>2020-08-30 00:14:25</td>\n",
       "      <td>0.0</td>\n",
       "      <td>0</td>\n",
       "      <td>10</td>\n",
       "      <td>128</td>\n",
       "    </tr>\n",
       "    <tr>\n",
       "      <th>...</th>\n",
       "      <td>...</td>\n",
       "      <td>...</td>\n",
       "      <td>...</td>\n",
       "      <td>...</td>\n",
       "      <td>...</td>\n",
       "      <td>...</td>\n",
       "      <td>...</td>\n",
       "      <td>...</td>\n",
       "      <td>...</td>\n",
       "    </tr>\n",
       "    <tr>\n",
       "      <th>1495</th>\n",
       "      <td>swimming</td>\n",
       "      <td>Will I ever get my old times back?</td>\n",
       "      <td>So I was a competitive swimmer since I was 6 u...</td>\n",
       "      <td>3</td>\n",
       "      <td>2020-09-03 08:27:08</td>\n",
       "      <td>8.0</td>\n",
       "      <td>0</td>\n",
       "      <td>8</td>\n",
       "      <td>176</td>\n",
       "    </tr>\n",
       "    <tr>\n",
       "      <th>1496</th>\n",
       "      <td>swimming</td>\n",
       "      <td>What should I be trying to fit into a training...</td>\n",
       "      <td>My swimming pool only allows 40 minute session...</td>\n",
       "      <td>6</td>\n",
       "      <td>2020-08-22 12:55:54</td>\n",
       "      <td>12.0</td>\n",
       "      <td>0</td>\n",
       "      <td>18</td>\n",
       "      <td>86</td>\n",
       "    </tr>\n",
       "    <tr>\n",
       "      <th>1497</th>\n",
       "      <td>swimming</td>\n",
       "      <td>Would a flotation belt be useful for a non swi...</td>\n",
       "      <td>Non swimmer going to a lake for recreation and...</td>\n",
       "      <td>1</td>\n",
       "      <td>2020-06-27 19:15:09</td>\n",
       "      <td>19.0</td>\n",
       "      <td>0</td>\n",
       "      <td>14</td>\n",
       "      <td>23</td>\n",
       "    </tr>\n",
       "    <tr>\n",
       "      <th>1498</th>\n",
       "      <td>swimming</td>\n",
       "      <td>8/26 Wednesday Masters Workout - Short Course ...</td>\n",
       "      <td>For those that would like some variation and/o...</td>\n",
       "      <td>2</td>\n",
       "      <td>2020-08-26 14:25:11</td>\n",
       "      <td>14.0</td>\n",
       "      <td>0</td>\n",
       "      <td>8</td>\n",
       "      <td>154</td>\n",
       "    </tr>\n",
       "    <tr>\n",
       "      <th>1499</th>\n",
       "      <td>swimming</td>\n",
       "      <td>Full-Body Swimming Questions.</td>\n",
       "      <td>Hello all,\\n\\nI'm currently getting back into ...</td>\n",
       "      <td>3</td>\n",
       "      <td>2020-07-14 17:11:27</td>\n",
       "      <td>17.0</td>\n",
       "      <td>0</td>\n",
       "      <td>3</td>\n",
       "      <td>79</td>\n",
       "    </tr>\n",
       "  </tbody>\n",
       "</table>\n",
       "<p>1500 rows × 9 columns</p>\n",
       "</div>"
      ],
      "text/plain": [
       "     subreddit                                              title  \\\n",
       "0      running                 What is your worst wipe out story?   \n",
       "1      running                                  Too young to run?   \n",
       "2      running  First in person race on Labor Day since covid ...   \n",
       "3      running              difference between a weak/strong core   \n",
       "4      running  Fairly new to running and a question about Vo2...   \n",
       "...        ...                                                ...   \n",
       "1495  swimming                 Will I ever get my old times back?   \n",
       "1496  swimming  What should I be trying to fit into a training...   \n",
       "1497  swimming  Would a flotation belt be useful for a non swi...   \n",
       "1498  swimming  8/26 Wednesday Masters Workout - Short Course ...   \n",
       "1499  swimming                      Full-Body Swimming Questions.   \n",
       "\n",
       "                                               selftext  score  \\\n",
       "0     Today was my first time all out going down dur...     10   \n",
       "1     So, I'm a 14 year old girl (15 in december) an...      6   \n",
       "2     Random observation and personal zen moment I t...     19   \n",
       "3     hi, I've been running for quite a few months a...      7   \n",
       "4     I started the C25K program about 3 weeks ago a...      1   \n",
       "...                                                 ...    ...   \n",
       "1495  So I was a competitive swimmer since I was 6 u...      3   \n",
       "1496  My swimming pool only allows 40 minute session...      6   \n",
       "1497  Non swimmer going to a lake for recreation and...      1   \n",
       "1498  For those that would like some variation and/o...      2   \n",
       "1499  Hello all,\\n\\nI'm currently getting back into ...      3   \n",
       "\n",
       "             created_utc  created_hour  gilded  titlelen  postlen  \n",
       "0    2020-08-23 04:54:18           4.0       0         7      104  \n",
       "1    2020-08-22 16:36:18          16.0       0         4      155  \n",
       "2    2020-09-09 01:05:38           1.0       0        15      600  \n",
       "3    2020-09-07 05:13:19           5.0       0         5      357  \n",
       "4    2020-08-30 00:14:25           0.0       0        10      128  \n",
       "...                  ...           ...     ...       ...      ...  \n",
       "1495 2020-09-03 08:27:08           8.0       0         8      176  \n",
       "1496 2020-08-22 12:55:54          12.0       0        18       86  \n",
       "1497 2020-06-27 19:15:09          19.0       0        14       23  \n",
       "1498 2020-08-26 14:25:11          14.0       0         8      154  \n",
       "1499 2020-07-14 17:11:27          17.0       0         3       79  \n",
       "\n",
       "[1500 rows x 9 columns]"
      ]
     },
     "execution_count": 12,
     "metadata": {},
     "output_type": "execute_result"
    }
   ],
   "source": [
    "df"
   ]
  },
  {
   "cell_type": "markdown",
   "metadata": {},
   "source": [
    "***\n",
    "# Text Processing with BeautifulSoup"
   ]
  },
  {
   "cell_type": "code",
   "execution_count": 13,
   "metadata": {},
   "outputs": [],
   "source": [
    "X_train, X_test, y_train, y_test = train_test_split(df['selftext'],\n",
    "                                                    df['subreddit'],\n",
    "                                                    test_size = 0.2, \n",
    "                                                    random_state = 42,\n",
    "                                                    stratify = df['subreddit'])"
   ]
  },
  {
   "cell_type": "code",
   "execution_count": 14,
   "metadata": {
    "scrolled": true
   },
   "outputs": [
    {
     "data": {
      "text/plain": [
       "206     Goal time for 1st 10k - Sub 53 min. (~8:30 pac...\n",
       "797     Just want to write this real quick as I'm grat...\n",
       "894     For those that would like some variation and/o...\n",
       "471     Please before all you anti-stretchers jump all...\n",
       "47      First off, I’d like to start this out by sayin...\n",
       "                              ...                        \n",
       "520     Running has been a bit difficult this year for...\n",
       "764     Hi Y'all,\\n\\nTo combat the vast amount of \"COV...\n",
       "961     This workout totals 2,150 meters or yards and ...\n",
       "1022    Hi I am looking to get into Modern Pentathlon ...\n",
       "985     Hey everyone\\n\\nI'm a 27M cyclist who likes to...\n",
       "Name: selftext, Length: 300, dtype: object"
      ]
     },
     "execution_count": 14,
     "metadata": {},
     "output_type": "execute_result"
    }
   ],
   "source": [
    "X_test"
   ]
  },
  {
   "cell_type": "code",
   "execution_count": 15,
   "metadata": {},
   "outputs": [],
   "source": [
    "stop_words = stopwords.words('english')\n",
    "keywords = ['running','swimming','run','swim','ran','swam','http','www','swimmer','runner']\n",
    "\n",
    "def soupclean(text):\n",
    "    cleaned = []\n",
    "    p_stemmer = PorterStemmer()\n",
    "    for t in text:\n",
    "        # Using BeautifulSoup to remove HTLM features\n",
    "        textblock1 = BeautifulSoup(t).get_text()\n",
    "\n",
    "        # Removing numerical values\n",
    "        textblock2 = re.sub('[^a-zA-Z]',\" \",textblock1)\n",
    "\n",
    "        # Set the block to lower case\n",
    "        textblock3 = textblock2.lower()\n",
    "\n",
    "        # Splitting the text by strings\n",
    "        wordblock1 = textblock3.split()\n",
    "\n",
    "        # Remove stopwords from the wordblock\n",
    "        wordblock2 = [w for w in wordblock1 if w not in stop_words]\n",
    "\n",
    "        # Stemmping the text using Porter Stemmer\n",
    "        wordblock3 = [p_stemmer.stem(i) for i in wordblock2]\n",
    "\n",
    "        # Removing any additional keywords\n",
    "        wordblock4 = [w for w in wordblock3 if w not in keywords]\n",
    "\n",
    "        # Recreate the textblock\n",
    "        textblock5 = (\" \".join(wordblock4))\n",
    "        cleaned.append(textblock5)\n",
    "    \n",
    "    print(len(text),'posts were cleaned.')\n",
    "    return cleaned"
   ]
  },
  {
   "cell_type": "code",
   "execution_count": 16,
   "metadata": {},
   "outputs": [
    {
     "name": "stdout",
     "output_type": "stream",
     "text": [
      "300 posts were cleaned.\n"
     ]
    }
   ],
   "source": [
    "X_test_text = soupclean(X_test)"
   ]
  },
  {
   "cell_type": "code",
   "execution_count": 17,
   "metadata": {},
   "outputs": [
    {
     "name": "stderr",
     "output_type": "stream",
     "text": [
      "C:\\ProgramData\\Anaconda3\\lib\\site-packages\\bs4\\__init__.py:424: MarkupResemblesLocatorWarning: \"https://www.google.co.uk/amp/s/www.bbc.com/sport/amp/athletics/54062818\" looks like a URL. Beautiful Soup is not an HTTP client. You should probably use an HTTP client like requests to get the document behind the URL, and feed that document to Beautiful Soup.\n",
      "  MarkupResemblesLocatorWarning\n",
      "C:\\ProgramData\\Anaconda3\\lib\\site-packages\\bs4\\__init__.py:424: MarkupResemblesLocatorWarning: \"https://youtu.be/XmkA7N7EmQ0\" looks like a URL. Beautiful Soup is not an HTTP client. You should probably use an HTTP client like requests to get the document behind the URL, and feed that document to Beautiful Soup.\n",
      "  MarkupResemblesLocatorWarning\n"
     ]
    },
    {
     "name": "stdout",
     "output_type": "stream",
     "text": [
      "1200 posts were cleaned.\n"
     ]
    }
   ],
   "source": [
    "X_train_text = soupclean(X_train)"
   ]
  },
  {
   "cell_type": "code",
   "execution_count": 18,
   "metadata": {},
   "outputs": [],
   "source": [
    "vectorizer = CountVectorizer(analyzer = \"word\",\n",
    "                             tokenizer = None,\n",
    "                             preprocessor = None,\n",
    "                             stop_words = None,\n",
    "                             max_features = 5000)\n",
    "X_train_features = vectorizer.fit_transform(X_train_text)\n",
    "X_test_features = vectorizer.transform(X_test_text)"
   ]
  },
  {
   "cell_type": "code",
   "execution_count": 19,
   "metadata": {},
   "outputs": [
    {
     "data": {
      "text/plain": [
       "['aa',\n",
       " 'aac',\n",
       " 'aautomoder',\n",
       " 'ab',\n",
       " 'abandon',\n",
       " 'abdomen',\n",
       " 'abdomin',\n",
       " 'abf',\n",
       " 'abid',\n",
       " 'abil',\n",
       " 'abl',\n",
       " 'ablaz',\n",
       " 'abnorm',\n",
       " 'abort',\n",
       " 'abras',\n",
       " 'abreast',\n",
       " 'abrupt',\n",
       " 'absolut',\n",
       " 'absolv',\n",
       " 'abstain']"
      ]
     },
     "execution_count": 19,
     "metadata": {},
     "output_type": "execute_result"
    }
   ],
   "source": [
    "vocab = vectorizer.get_feature_names()\n",
    "vocab[:20]"
   ]
  },
  {
   "cell_type": "code",
   "execution_count": 20,
   "metadata": {},
   "outputs": [
    {
     "data": {
      "text/plain": [
       "(300, 5000)"
      ]
     },
     "execution_count": 20,
     "metadata": {},
     "output_type": "execute_result"
    }
   ],
   "source": [
    "X_test_features.shape"
   ]
  },
  {
   "cell_type": "code",
   "execution_count": 21,
   "metadata": {
    "scrolled": true
   },
   "outputs": [
    {
     "data": {
      "text/plain": [
       "(1200, 5000)"
      ]
     },
     "execution_count": 21,
     "metadata": {},
     "output_type": "execute_result"
    }
   ],
   "source": [
    "X_train_features.shape"
   ]
  },
  {
   "cell_type": "code",
   "execution_count": 22,
   "metadata": {
    "scrolled": true
   },
   "outputs": [
    {
     "data": {
      "image/png": "[encoded data removed]",
      "text/plain": [
       "<Figure size 720x720 with 1 Axes>"
      ]
     },
     "metadata": {
      "needs_background": "light"
     },
     "output_type": "display_data"
    }
   ],
   "source": [
    "common_words = pd.DataFrame(X_train_features.toarray(), columns = vocab).sum().sort_values(ascending = False)\n",
    "\n",
    "wordcloud = WordCloud(max_font_size=70,\n",
    "                      max_words=100,\n",
    "                      background_color=\"black\",\n",
    "                      colormap='Paired')\n",
    "wordcloud.generate_from_frequencies(frequencies=common_words)\n",
    "plt.figure(figsize = (10,10))\n",
    "plt.imshow(wordcloud, interpolation=\"bilinear\")\n",
    "plt.axis(\"off\")\n",
    "plt.show()"
   ]
  },
  {
   "cell_type": "markdown",
   "metadata": {},
   "source": [
    "# Creating a Base Logit Model  "
   ]
  },
  {
   "cell_type": "code",
   "execution_count": 23,
   "metadata": {},
   "outputs": [
    {
     "name": "stdout",
     "output_type": "stream",
     "text": [
      "Accuracy score for Train data set: 0.9991666666666666\n",
      "Accuracy score for Test data set: 0.8533333333333334\n"
     ]
    }
   ],
   "source": [
    "# Instantiate logistic regression model.\n",
    "lr = LogisticRegression(solver = 'lbfgs', max_iter = 5000)\n",
    "\n",
    "# Fit model to training data.\n",
    "lr.fit(X_train_features, y_train)\n",
    "\n",
    "# Evaluate model on training data.\n",
    "print('Accuracy score for Train data set:',lr.score(X_train_features, y_train))\n",
    "\n",
    "# Evaluate model on testing data.\n",
    "print('Accuracy score for Test data set:', lr.score(X_test_features, y_test))"
   ]
  },
  {
   "cell_type": "code",
   "execution_count": 24,
   "metadata": {},
   "outputs": [
    {
     "name": "stdout",
     "output_type": "stream",
     "text": [
      "Specificity: 0.8333\n",
      "Sensitivity: 0.8733\n"
     ]
    }
   ],
   "source": [
    "preds = lr.predict(X_test_features)\n",
    "tn, fp, fn, tp = confusion_matrix(y_test, preds).ravel()\n",
    "\n",
    "\n",
    "print('Specificity:', round(tn / (tn + fp),4))\n",
    "print('Sensitivity:', round(tp / (tp + fn),4))"
   ]
  },
  {
   "cell_type": "code",
   "execution_count": 25,
   "metadata": {
    "scrolled": true
   },
   "outputs": [
    {
     "data": {
      "image/png": "[encoded data removed]",
      "text/plain": [
       "<Figure size 936x576 with 1 Axes>"
      ]
     },
     "metadata": {
      "needs_background": "light"
     },
     "output_type": "display_data"
    }
   ],
   "source": [
    "fig, ax = plt.subplots(figsize=(13, 8))\n",
    "plot_roc_curve(lr, X_test_features, y_test, ax = ax)\n",
    "plt.legend(prop={\"size\":20});"
   ]
  },
  {
   "cell_type": "markdown",
   "metadata": {},
   "source": []
  },
  {
   "cell_type": "markdown",
   "metadata": {},
   "source": [
    "***\n",
    "# Using Different Transformers With Logit Regression"
   ]
  },
  {
   "cell_type": "markdown",
   "metadata": {},
   "source": [
    "## CountVectorizer Logistic Regression"
   ]
  },
  {
   "cell_type": "code",
   "execution_count": null,
   "metadata": {},
   "outputs": [],
   "source": [
    "# Setting pipeline for two stages\n",
    "cvec_lr = Pipeline([\n",
    "    ('cvec', CountVectorizer()),\n",
    "    ('lr', LogisticRegression(solver = 'lbfgs', max_iter = 5000))\n",
    "])\n",
    "\n",
    "pipe_params = {\n",
    "    'cvec__max_features': [3000, 4000, 5000],\n",
    "    'cvec__min_df': [4, 5, 6],\n",
    "    'cvec__max_df': [.5 , .6, .7],\n",
    "    'cvec__ngram_range': [(1,1), (1,2)]\n",
    "}\n",
    "\n",
    "gs_cvec_lr = GridSearchCV(cvec_lr, # what object are we optimizing?\n",
    "                  param_grid=pipe_params, # what parameters values are we searching?\n",
    "                  cv=5) # 5-fold cross-validation.\n",
    "t0 = time()\n",
    "gs_cvec_lr.fit(X_train_text, y_train)\n",
    "cvec_test_time = time() - t0\n",
    "print('Best CVEC Parameters:', gs_cvec_lr.best_estimator_[0])\n",
    "print('Fit time:  %0.3fs' % cvec_test_time);"
   ]
  },
  {
   "cell_type": "markdown",
   "metadata": {},
   "source": [
    "## TFIDVectorizer Logistic Regression"
   ]
  },
  {
   "cell_type": "code",
   "execution_count": null,
   "metadata": {
    "scrolled": true
   },
   "outputs": [],
   "source": [
    "# Setting pipeline for two stages\n",
    "tfid_lr = Pipeline([\n",
    "    ('tfid', TfidfVectorizer()),\n",
    "    ('lr', LogisticRegression(solver = 'lbfgs', max_iter = 5000))\n",
    "])\n",
    "\n",
    "pipe_params = {\n",
    "    'tfid__max_features': [3000, 4000, 5000],\n",
    "    'tfid__min_df': [3, 4, 5],\n",
    "    'tfid__max_df': [.2, .3, .4],\n",
    "    'tfid__ngram_range': [(1,1), (1,2)]\n",
    "}\n",
    "\n",
    "gs_tfid_lr = GridSearchCV(tfid_lr, # what object are we optimizing?\n",
    "                  param_grid=pipe_params, # what parameters values are we searching?\n",
    "                  cv=5) # 5-fold cross-validation.\n",
    "t0 = time()\n",
    "gs_tfid_lr.fit(X_train_text, y_train)\n",
    "tfid_test_time = time() - t0\n",
    "print('Best TFID Parameters:',gs_tfid_lr.best_estimator_[0])\n",
    "print('Fit time:  %0.3fs' % tfid_test_time);"
   ]
  },
  {
   "cell_type": "markdown",
   "metadata": {},
   "source": [
    "## HashingVectorizer Logistic Regression"
   ]
  },
  {
   "cell_type": "code",
   "execution_count": null,
   "metadata": {},
   "outputs": [],
   "source": [
    "# Setting pipeline for two stages\n",
    "hash_lr = Pipeline([\n",
    "    ('hash', HashingVectorizer()),\n",
    "    ('lr', LogisticRegression(solver = 'lbfgs', max_iter = 5000))\n",
    "])\n",
    "\n",
    "pipe_params = {\n",
    "    'hash__n_features': [1000, 2000, 3000, 4000, 5000],\n",
    "    'hash__ngram_range': [(1,1), (1,2)]\n",
    "}\n",
    "\n",
    "gs_hash_lr = GridSearchCV(hash_lr, # what object are we optimizing?\n",
    "                  param_grid=pipe_params, # what parameters values are we searching?\n",
    "                  cv=5) # 5-fold cross-validation.\n",
    "\n",
    "t0 = time()\n",
    "gs_hash_lr.fit(X_train_text, y_train)\n",
    "hash_test_time = time() - t0\n",
    "print('Best HASH Parameters:', gs_hash_lr.best_estimator_[0])\n",
    "print('Fit time:  %0.3fs' % hash_test_time);"
   ]
  },
  {
   "cell_type": "markdown",
   "metadata": {},
   "source": [
    "# R2 Scores & ROC AUC Plot of Different Vectorizers with Logit"
   ]
  },
  {
   "cell_type": "code",
   "execution_count": null,
   "metadata": {
    "scrolled": true
   },
   "outputs": [],
   "source": [
    "print('CVEC LogReg Train Score:', gs_cvec_lr.best_score_)\n",
    "print('CVEC LogReg Test Score:', gs_cvec_lr.score(X_test_text,y_test))\n",
    "print('CVEC Fit Time:', cvec_test_time)\n",
    "print('-'*5)\n",
    "print('TFID LogReg Train Score:', gs_tfid_lr.best_score_)\n",
    "print('TFID LogReg Test Score:', gs_tfid_lr.score(X_test_text,y_test))\n",
    "print('TFID Fit Time:', tfid_test_time)\n",
    "print('-'*5)\n",
    "print('HASH LogReg Train Score:', gs_hash_lr.best_score_)\n",
    "print('HASH LogReg Test Score:', gs_hash_lr.score(X_test_text,y_test))\n",
    "print('HASH Fit Time:', hash_test_time)"
   ]
  },
  {
   "cell_type": "code",
   "execution_count": null,
   "metadata": {
    "scrolled": true
   },
   "outputs": [],
   "source": [
    "fig, ax = plt.subplots(figsize=(13, 8))\n",
    "cvec_lr_disp = plot_roc_curve(gs_cvec_lr, X_test_text, y_test, name = 'CVEC LR', ax = ax)\n",
    "tfid_lr_disp = plot_roc_curve(gs_tfid_lr, X_test_text, y_test, name = 'TFID LR', ax = ax)\n",
    "hash_lr_disp = plot_roc_curve(gs_hash_lr, X_test_text, y_test, name = 'HASH LR', ax = ax)\n",
    "plt.legend(prop={\"size\":20});"
   ]
  },
  {
   "cell_type": "markdown",
   "metadata": {},
   "source": [
    "# Testing a Combination of TF-IDF and Alternative Models\n"
   ]
  },
  {
   "cell_type": "markdown",
   "metadata": {},
   "source": [
    "## TFIDVectorizer KNeighborsClassifier"
   ]
  },
  {
   "cell_type": "code",
   "execution_count": null,
   "metadata": {
    "scrolled": true
   },
   "outputs": [],
   "source": [
    "# Setting pipeline for two stages\n",
    "tfid_knn = Pipeline([\n",
    "    ('tfid', TfidfVectorizer()),\n",
    "    ('knn', KNeighborsClassifier())\n",
    "])\n",
    "\n",
    "pipe_params = {\n",
    "    'tfid__max_features': [1000, 2000],\n",
    "    'tfid__min_df': [2, 3],\n",
    "    'tfid__max_df': [.2, .3],\n",
    "    'tfid__ngram_range': [(1,1), (1,2)],\n",
    "    'knn__n_neighbors': [10,15],\n",
    "    'knn__p': [1,2]\n",
    "}\n",
    "\n",
    "gs_tfid_knn = GridSearchCV(tfid_knn, # what object are we optimizing?\n",
    "                  param_grid=pipe_params, # what parameters values are we searching?\n",
    "                  cv=5) # 5-fold cross-validation.\n",
    "\n",
    "t0 = time()\n",
    "gs_tfid_knn.fit(X_train_text, y_train)\n",
    "knn_test_time = time() - t0\n",
    "print('Best KNN Parameters:', gs_tfid_knn.best_estimator_)\n",
    "print('Fit time:  %0.3fs' % knn_test_time);"
   ]
  },
  {
   "cell_type": "markdown",
   "metadata": {},
   "source": [
    "## TFIDVectorizer MultinomialNB"
   ]
  },
  {
   "cell_type": "code",
   "execution_count": null,
   "metadata": {
    "scrolled": true
   },
   "outputs": [],
   "source": [
    "# Setting pipeline for two stages\n",
    "tfid_nb = Pipeline([\n",
    "    ('tfid', TfidfVectorizer()),\n",
    "    ('nb', MultinomialNB())\n",
    "])\n",
    "\n",
    "pipe_params = {\n",
    "    'tfid__max_features': [1000,2000,3000],\n",
    "    'tfid__min_df': [1, 2, 3],\n",
    "    'tfid__max_df': [.3, .4, .5],\n",
    "    'tfid__ngram_range': [(1,1), (1,2)],\n",
    "    'nb__alpha': list(np.linspace(0.1,1,5))\n",
    "}\n",
    "\n",
    "gs_tfid_nb = GridSearchCV(tfid_nb, # what object are we optimizing?\n",
    "                  param_grid=pipe_params, # what parameters values are we searching?\n",
    "                  cv=5) # 5-fold cross-validation.\n",
    "\n",
    "t0 = time()\n",
    "gs_tfid_nb.fit(X_train_text, y_train)\n",
    "nb_test_time = time() - t0\n",
    "print('Best NB Parameters:', gs_tfid_nb.best_estimator_)\n",
    "print('Fit time:  %0.3fs' % nb_test_time);"
   ]
  },
  {
   "cell_type": "markdown",
   "metadata": {},
   "source": [
    "## TFIDVectorizer DecisionTreeClassifier"
   ]
  },
  {
   "cell_type": "code",
   "execution_count": null,
   "metadata": {
    "scrolled": false
   },
   "outputs": [],
   "source": [
    "# Setting pipeline for two stages\n",
    "tfid_cart = Pipeline([\n",
    "    ('tfid', TfidfVectorizer()),\n",
    "    ('cart', DecisionTreeClassifier())\n",
    "])\n",
    "\n",
    "pipe_params = {\n",
    "    'tfid__max_features': [1000, 2000],\n",
    "    'tfid__min_df': [2, 3],\n",
    "    'tfid__max_df': [.3, .4],\n",
    "    'tfid__ngram_range': [(1,1), (1,2)],\n",
    "    'cart__min_samples_split': [100 ,200, 300],\n",
    "    'cart__ccp_alpha': [0, 0.001]\n",
    "}\n",
    "\n",
    "gs_tfid_cart = GridSearchCV(tfid_cart, # what object are we optimizing?\n",
    "                  param_grid=pipe_params, # what parameters values are we searching?\n",
    "                  cv=5) # 5-fold cross-validation.\n",
    "\n",
    "t0 = time()\n",
    "gs_tfid_cart.fit(X_train_text, y_train)\n",
    "cart_test_time = time() - t0\n",
    "print('Best CART Parameters:', gs_tfid_cart.best_estimator_)\n",
    "print('Fit time:  %0.3fs' % cart_test_time);"
   ]
  },
  {
   "cell_type": "markdown",
   "metadata": {},
   "source": [
    "## TFIDVectorizer BaggingClassifier"
   ]
  },
  {
   "cell_type": "code",
   "execution_count": null,
   "metadata": {
    "scrolled": true
   },
   "outputs": [],
   "source": [
    "# Setting pipeline for two stages\n",
    "tfid_bag = Pipeline([\n",
    "    ('tfid', TfidfVectorizer()),\n",
    "    ('bag', BaggingClassifier())\n",
    "])\n",
    "\n",
    "pipe_params = {\n",
    "    'tfid__max_features': [2000, 3000],\n",
    "    'tfid__min_df': [2, 3, 4],\n",
    "    'tfid__max_df': [.3, .4, .5],\n",
    "    'tfid__ngram_range': [(1,1), (1,2)]\n",
    "}\n",
    "\n",
    "gs_tfid_bag = GridSearchCV(tfid_bag, # what object are we optimizing?\n",
    "                  param_grid=pipe_params, # what parameters values are we searching?\n",
    "                  cv=5) # 5-fold cross-validation.\n",
    "t0 = time()\n",
    "gs_tfid_bag.fit(X_train_text, y_train)\n",
    "bag_test_time = time() - t0\n",
    "print('Best BAG Parameters:', gs_tfid_bag.best_estimator_)\n",
    "print('Fit time:  %0.3fs' % bag_test_time);"
   ]
  },
  {
   "cell_type": "markdown",
   "metadata": {},
   "source": [
    "## TFIDVectorizer ADABoostClassifier"
   ]
  },
  {
   "cell_type": "code",
   "execution_count": null,
   "metadata": {
    "scrolled": true
   },
   "outputs": [],
   "source": [
    "# Setting pipeline for two stages\n",
    "tfid_ada = Pipeline([\n",
    "    ('tfid', TfidfVectorizer()),\n",
    "    ('ada', AdaBoostClassifier())\n",
    "])\n",
    "\n",
    "pipe_params = {\n",
    "    'tfid__max_features': [2000, 3000],\n",
    "    'tfid__min_df': [3, 4],\n",
    "    'tfid__max_df': [.3, .4],\n",
    "    'ada__n_estimators': [50,100],\n",
    "    'ada__learning_rate': [0.9, 1]\n",
    "}\n",
    "\n",
    "gs_tfid_ada = GridSearchCV(tfid_ada, # what object are we optimizing?\n",
    "                  param_grid=pipe_params, # what parameters values are we searching?\n",
    "                  cv=5) # 5-fold cross-validation.\n",
    "t0 = time()\n",
    "gs_tfid_ada.fit(X_train_text, y_train)\n",
    "ada_test_time = time() - t0\n",
    "print('Best ADABoost Parameters:', gs_tfid_ada.best_estimator_)\n",
    "print('Fit time:  %0.3fs' % ada_test_time);"
   ]
  },
  {
   "cell_type": "markdown",
   "metadata": {},
   "source": [
    "### R2 Scores & ROC AUC Plots of the Models"
   ]
  },
  {
   "cell_type": "code",
   "execution_count": null,
   "metadata": {},
   "outputs": [],
   "source": [
    "print(f'TFID LogReg Train Score:', gs_tfid_lr.best_score_)\n",
    "print(f'TFID LogReg Test Score:', gs_tfid_lr.score(X_test_text,y_test))\n",
    "print(f'LogReg Fit Time:', tfid_test_time)\n",
    "print('-'*5)\n",
    "print(f'TFID KNN Train Score:', gs_tfid_knn.best_score_)\n",
    "print(f'TFID KNN Test Score:', gs_tfid_knn.score(X_test_text,y_test))\n",
    "print(f'KNN Fit Time:', knn_test_time)\n",
    "print('-'*5)\n",
    "print(f'TFID NB Train Score:', gs_tfid_nb.best_score_)\n",
    "print(f'TFID NB Test Score:', gs_tfid_nb.score(X_test_text,y_test))\n",
    "print(f'NB Fit Time:', nb_test_time)\n",
    "print('-'*5)\n",
    "print(f'TFID CART Train Score:', gs_tfid_cart.best_score_)\n",
    "print(f'TFID CART Test Score:', gs_tfid_cart.score(X_test_text,y_test))\n",
    "print(f'CART Fit Time:', cart_test_time)\n",
    "print('-'*5)\n",
    "print(f'TFID BAG Train Score:', gs_tfid_bag.best_score_)\n",
    "print(f'TFID BAG Test Score:', gs_tfid_bag.score(X_test_text,y_test))\n",
    "print(f'BAG Fit Time:', bag_test_time)\n",
    "print('-'*5)\n",
    "print(f'TFID ADABoost Train Score:', gs_tfid_ada.best_score_)\n",
    "print(f'TFID ADABoost Test Score:', gs_tfid_ada.score(X_test_text,y_test))\n",
    "print(f'ADABoost Fit Time:', ada_test_time)"
   ]
  },
  {
   "cell_type": "code",
   "execution_count": null,
   "metadata": {
    "scrolled": true
   },
   "outputs": [],
   "source": [
    "fig, ax = plt.subplots(figsize=(13, 8))\n",
    "tfid_lr_disp = plot_roc_curve(gs_tfid_lr, X_test_text, y_test, name = 'TFID LR', ax = ax)\n",
    "tfid_knn_disp = plot_roc_curve(gs_tfid_knn, X_test_text, y_test, name = 'TFID KNN', ax = tfid_lr_disp.ax_)\n",
    "tfid_nb_disp = plot_roc_curve(gs_tfid_nb, X_test_text, y_test, name = 'TFID NB', ax = tfid_lr_disp.ax_)\n",
    "tfid_cart_disp = plot_roc_curve(gs_tfid_cart, X_test_text, y_test, name = 'TFID CART', ax = tfid_lr_disp.ax_)\n",
    "tfid_bag_disp = plot_roc_curve(gs_tfid_bag, X_test_text, y_test, name = 'TFID BAG', ax = tfid_lr_disp.ax_)\n",
    "tfid_ada_disp = plot_roc_curve(gs_tfid_ada, X_test_text, y_test, name = 'TFID ADABoost', ax = tfid_lr_disp.ax_)\n",
    "plt.legend(prop={\"size\":20});"
   ]
  },
  {
   "cell_type": "markdown",
   "metadata": {},
   "source": [
    "***\n",
    "# What is the confusion matrix of the Logit Model?"
   ]
  },
  {
   "cell_type": "code",
   "execution_count": null,
   "metadata": {},
   "outputs": [],
   "source": [
    "predictions = gs_tfid_lr.predict(X_test_text)"
   ]
  },
  {
   "cell_type": "code",
   "execution_count": null,
   "metadata": {},
   "outputs": [],
   "source": [
    "tn, fp, fn, tp = confusion_matrix(y_test, predictions).ravel()\n",
    "\n",
    "print(\"True Negatives: %s\" % tn)\n",
    "print(\"False Positives: %s\" % fp)\n",
    "print(\"False Negatives: %s\" % fn)\n",
    "print(\"True Positives: %s\" % tp)\n",
    "print('Accuracy of running prediction:', round(tp / (tp + fn),4))\n",
    "print('Accuracy of swimmning prediction:', round(tn / (tn + fp),4))"
   ]
  },
  {
   "cell_type": "code",
   "execution_count": null,
   "metadata": {
    "scrolled": false
   },
   "outputs": [],
   "source": [
    "# Plot a confusion matrix. The greener the square, the better the result.\n",
    "fig, ax = plt.subplots(figsize=(8, 8))\n",
    "plot_confusion_matrix(gs_tfid_lr, X_test_text, y_test, ax = ax,cmap='Greens')"
   ]
  },
  {
   "cell_type": "markdown",
   "metadata": {},
   "source": [
    "The model was quite accurate! To investigate where it went wrong, we will examine incorrectly identified posts later below.\n",
    "We might reasonably expect that when words directly related to both subreddits are included (running and swimming lemmas), accuracy increases to almost 100%"
   ]
  },
  {
   "cell_type": "markdown",
   "metadata": {},
   "source": [
    "***\n",
    "# Wordclouds"
   ]
  },
  {
   "cell_type": "code",
   "execution_count": null,
   "metadata": {},
   "outputs": [],
   "source": [
    "def fancycloud(targetimage, color, invert=False, bg=\"black\"):\n",
    "    # Create a dataframe containing the words and their coefficient\n",
    "    wordcloudcontent = pd.DataFrame(data = [gs_tfid_lr.best_estimator_.named_steps['tfid'].get_feature_names(),\n",
    "                     gs_tfid_lr.best_estimator_.named_steps['lr'].coef_[0]]).T.rename(columns = {0 : 'Features', 1: 'Coef'}).sort_values(by = 'Coef', ascending = invert).reset_index(drop = True)\n",
    "    if invert == True:\n",
    "        wordcloudcontent['Coef'] = wordcloudcontent['Coef']*-1\n",
    "\n",
    "    # Create a dictionary where the word is the key and the coefficient is the associated value   \n",
    "    freq = {}\n",
    "    for i,j in wordcloudcontent.values:\n",
    "        freq[i] = j\n",
    "    \n",
    "    # Create a mask using an image (preferably a black and white vector graphic)\n",
    "    mask = np.array(Image.open(targetimage))\n",
    "    \n",
    "    # Generate a wordcloud function\n",
    "    wordcloud = WordCloud(max_font_size=100,\n",
    "                      max_words=200,\n",
    "                      background_color=bg,\n",
    "                      colormap=color,\n",
    "                      mask = mask)\n",
    "    \n",
    "    # Call the function using the frequencies\n",
    "    wordcloud.generate_from_frequencies(frequencies=freq)\n",
    "    \n",
    "    plt.figure(figsize = (14,14))\n",
    "    plt.imshow(wordcloud, interpolation=\"bilinear\")\n",
    "    plt.axis(\"off\")\n",
    "    plt.show()"
   ]
  },
  {
   "cell_type": "code",
   "execution_count": null,
   "metadata": {},
   "outputs": [],
   "source": [
    "runimage = '../images/run.jpg'\n",
    "swimimage = '../images/swim.jpg'"
   ]
  },
  {
   "cell_type": "code",
   "execution_count": null,
   "metadata": {},
   "outputs": [],
   "source": [
    "fancycloud(swimimage, 'cool')"
   ]
  },
  {
   "cell_type": "code",
   "execution_count": null,
   "metadata": {
    "scrolled": true
   },
   "outputs": [],
   "source": [
    "fancycloud(runimage, 'autumn',invert=True)"
   ]
  },
  {
   "cell_type": "markdown",
   "metadata": {},
   "source": [
    "# Visualising the most important words for predicting each subreddit\n"
   ]
  },
  {
   "cell_type": "code",
   "execution_count": null,
   "metadata": {},
   "outputs": [],
   "source": [
    "def barplotter(title, colors,invert=False):\n",
    "    # Create a dataframe containing the words and their coefficient\n",
    "    wordcloudcontent = pd.DataFrame(data = [gs_tfid_lr.best_estimator_.named_steps['tfid'].get_feature_names(),\n",
    "                     gs_tfid_lr.best_estimator_.named_steps['lr'].coef_[0]]).T.rename(columns = {0 : 'Features', 1: 'Coef'}).sort_values(by = 'Coef', ascending = invert).reset_index(drop = True)\n",
    "    if invert == True:\n",
    "        wordcloudcontent['Coef'] = wordcloudcontent['Coef']*-1\n",
    "    plt.figure(figsize= (10, 6))\n",
    "    plt.title(title,fontdict = {'fontsize':25})\n",
    "    sns.barplot(x= wordcloudcontent['Coef'][:25], y=wordcloudcontent['Features'][:25], palette=colors)\n",
    "    plt.show()"
   ]
  },
  {
   "cell_type": "code",
   "execution_count": null,
   "metadata": {},
   "outputs": [],
   "source": [
    "barplotter('Best 25 stems for predicting r/Swimming', colors='Blues_r')"
   ]
  },
  {
   "cell_type": "code",
   "execution_count": null,
   "metadata": {
    "scrolled": false
   },
   "outputs": [],
   "source": [
    "barplotter('Best 25 stems for predicting r/running', colors='Reds_r',invert=True)"
   ]
  },
  {
   "cell_type": "markdown",
   "metadata": {},
   "source": [
    "Many words one might reasonably expect to see in discussions of swimming and running appear in these graphs\n",
    "Words that might apply to both swimming and running such as “lap” might still be more strongly associated with one sport \n",
    "The words might also represent elements of user demographics:\n",
    "Note that \"school\" appeared associated with swimming and \"uk\" appeared associated with r running. These associations would be problematic in a general use model! Their presence however does suggest something about the userbase of each subreddit."
   ]
  },
  {
   "cell_type": "markdown",
   "metadata": {},
   "source": [
    "# Examining the misclassified posts"
   ]
  },
  {
   "cell_type": "code",
   "execution_count": null,
   "metadata": {},
   "outputs": [],
   "source": [
    "# Create a dataframe of the predictions from the chosen model\n",
    "predictedposts = pd.DataFrame(gs_tfid_lr.predict(X_test_text), columns=['pred'], index = y_test.index)\n",
    "\n",
    "# Add in a column with the actual subreddit of the post\n",
    "predictedposts['actual'] = y_test\n",
    "\n",
    "# Indentify the indexes of posts that were mispredicted\n",
    "row_ids = predictedposts[predictedposts['pred']!= predictedposts['actual']].index\n",
    "row_ids.values"
   ]
  },
  {
   "cell_type": "code",
   "execution_count": null,
   "metadata": {
    "scrolled": true
   },
   "outputs": [],
   "source": [
    "# What does the text of swimming posts that were classified as running posts look like?\n",
    "for i in row_ids.values:\n",
    "    if i >= 750:\n",
    "        print('Post title:',df['title'][i])\n",
    "        print(df['selftext'][i],'\\n')\n",
    "        print('-'*20,'\\n')"
   ]
  },
  {
   "cell_type": "code",
   "execution_count": null,
   "metadata": {
    "scrolled": true
   },
   "outputs": [],
   "source": [
    "# What does the text of running posts that were classified as swimming posts look like?\n",
    "for i in row_ids.values:\n",
    "    if i < 750:\n",
    "        print('Post title:',df['title'][i])\n",
    "        print(df['selftext'][i],'\\n')\n",
    "        print('-'*20,'\\n')"
   ]
  },
  {
   "cell_type": "markdown",
   "metadata": {},
   "source": [
    "### Interesting misclassified posts:\n",
    "Interesting misclassified swimming posts:\n",
    "   \n",
    "    Ah man that was GOOD. Had a double width lane to myself the entire time. Swam for 45 mins and did a little over 2km. Impressed myself!\n",
    "    And I don't feel like I've been hit by a car. I think I'll have to put in more effort next time :-) \n",
    "\n",
    "From the word coefficients of running, it seems runners are more likely to complain about traffic. The usage of the word car here likely caused the model to misclassify the post.\n",
    "\n",
    "    Hello, I swim 1.5km (almost a mile) once or twice a week in summer, and I've struggled to put together a dry land training regime to help me improve my time/fitness (let's ignore my form for  the moment).\n",
    "    I've got access to a gym now with a full weights set and cardio machines (treadmill, bike, rowing machines).  Can anyone give me some pointers on what to start on for a dry land program (or even some bodyweight program work) to help my swimming fitness / strength?  If you are comfortable sharing your program it would be greatly appreciated.\n",
    "\n",
    "This user, although posting in swimming, was engaging in a primarily land based discussion, with his talk about gym equipment and land based cardio. Although it represents a misclassification by the model, in a deployment situation where the model recommends that this user be given links to running paraphernalia, the recommendation would be correct.\n",
    "\n",
    "Interesting misclassified running posts:\n",
    "\n",
    "    If you go for a run in the morning and if you take supplements, do you usually take them before your run or after? I get up at 7am for a 7:30am run. I tried taking them before my run, but there is no way I can drink 16oz of water with it right before I run.\n",
    "\n",
    "The user used the word run a lot, which was filtered, but also spoke about water, which was strongly strongly correlated with swimming, resulting in the misclassification.\n",
    "\n",
    "    Hi everyone, I am a high school student who recently just tried out for the cross country team. I was the only U19, which means I made the team automatically, but I did terrible at the tryouts (ran less laps than the U14s) and I want your tips and advices on how to get better as a runner, as well as the amount of time that I need to commit each week. \n",
    "    I am worried that I won't have enough time to train (the tournament is on December) and am even thinking about whether I should just drop the team or not... \n",
    "\n",
    "This misclassification is the result of the model incorrectly associating school more strongly with high schools and colleges."
   ]
  },
  {
   "cell_type": "markdown",
   "metadata": {},
   "source": [
    "It appears that misclassified posts mostly had words that would still identify them, but were filtered during stemming, such as runner and swimmer. These posts also lacked the identifying words that appeared in our 25 most useful stems for their respective correct subreddits. Interestingly, some words contained a mixture of words that would have strongly identified them as their correct subreddit but were filtered, and words that identified them incorrectly which had a high coefficient for the other subreddit. An example is the post \"When do you take supplements...\" which contains the word \"run\" several times (a filtered word) and the word \"water\" in the context of drinking, which is a strong identifier for the swimming subreddit instead."
   ]
  },
  {
   "cell_type": "markdown",
   "metadata": {},
   "source": [
    "# Conclusion and Comments"
   ]
  },
  {
   "cell_type": "markdown",
   "metadata": {},
   "source": [
    "### Limitations\n",
    "The posts available to the model are reflective of the demographics of their respective userbases\n",
    "\n",
    "Swimming is more niche and there are many more posts about technique and competing\n",
    "\n",
    "It also appears to have many more young athletes as a percentage of the user base\n",
    "\n",
    "Running has more hobby runners and the discussion topics are broader and less focused\n",
    "\n",
    "The model is currently only being tested on the source communities\n",
    "\n",
    "Testing on different communities and different demographics might cause the model accuracy to drop significantly\n",
    "\n",
    "Demographic concerns include both reddit as a whole and the respective subreddit user bases\n",
    "\n",
    "Active posters on reddit tend to be much more likely to be below 30\n",
    "\n",
    "Given that Logistic Regression can only make predictions between two classes, accuracy and the necessity of using a model capable of multiple category classification will decrease in broader applications\n"
   ]
  },
  {
   "cell_type": "markdown",
   "metadata": {},
   "source": [
    "### Further Considerations\n",
    "The results from this project show promise for classifying the word content of user posts into a useful prediction system\n",
    "\n",
    "The application will be even more applicable with additional training, additional subjects as well as some method for interaction terms (that I have not learned yet)\n",
    "\n",
    "For example: kick + lap probably indicates swimming technique, kick + gait probably indicates a discussion about running technique, kick + pads probably indicates a kickboxing discussion, \n",
    "\n",
    "Further controls for communities or training on local data from the target communities would improve accuracy. \n"
   ]
  },
  {
   "cell_type": "code",
   "execution_count": null,
   "metadata": {},
   "outputs": [],
   "source": []
  }
 ],
 "metadata": {
  "kernelspec": {
   "display_name": "Python 3",
   "language": "python",
   "name": "python3"
  },
  "language_info": {
   "codemirror_mode": {
    "name": "ipython",
    "version": 3
   },
   "file_extension": ".py",
   "mimetype": "text/x-python",
   "name": "python",
   "nbconvert_exporter": "python",
   "pygments_lexer": "ipython3",
   "version": "3.7.7"
  }
 },
 "nbformat": 4,
 "nbformat_minor": 4
}
